{
 "cells": [
  {
   "cell_type": "code",
   "execution_count": null,
   "id": "38319ebe",
   "metadata": {},
   "outputs": [
    {
     "name": "stdout",
     "output_type": "stream",
     "text": [
      "Dataset successfully split into training and validation sets.\n"
     ]
    }
   ],
   "source": [
    "import os\n",
    "import shutil\n",
    "import random\n",
    "\n",
    "\n",
    "image_folder = '/home/cse/Documents/MdSourav/DNN/Assignment7/WIDER Face Dataset/train/images'  \n",
    "label_folder = '/home/cse/Documents/MdSourav/DNN/Assignment7/WIDER Face Dataset/train/labels'  \n",
    "\n",
    "train_image_dir = '/home/cse/Documents/MdSourav/DNN/Assignment7/WIDER Face Dataset/split_data/train/images'\n",
    "val_image_dir = '/home/cse/Documents/MdSourav/DNN/Assignment7/WIDER Face Dataset/split_data/val/images'\n",
    "train_label_dir = '/home/cse/Documents/MdSourav/DNN/Assignment7/WIDER Face Dataset/split_data/train/labels'\n",
    "val_label_dir = '/home/cse/Documents/MdSourav/DNN/Assignment7/WIDER Face Dataset/split_data/val/labels'\n",
    "\n",
    "os.makedirs(train_image_dir, exist_ok=True)\n",
    "os.makedirs(val_image_dir, exist_ok=True)\n",
    "os.makedirs(train_label_dir, exist_ok=True)\n",
    "os.makedirs(val_label_dir, exist_ok=True)\n",
    "\n",
    "image_files = os.listdir(image_folder)\n",
    "\n",
    "\n",
    "random.shuffle(image_files)\n",
    "\n",
    "\n",
    "train_files = image_files[:int(len(image_files) * 0.8)]\n",
    "val_files = image_files[int(len(image_files) * 0.8):]\n",
    "\n",
    "def move_files(file_list, source_image_dir, source_label_dir, target_image_dir, target_label_dir):\n",
    "    for file_name in file_list:\n",
    "        shutil.move(os.path.join(source_image_dir, file_name), os.path.join(target_image_dir, file_name))\n",
    "\n",
    "\n",
    "        label_file = file_name.replace('.jpg', '.txt')  \n",
    "        shutil.move(os.path.join(source_label_dir, label_file), os.path.join(target_label_dir, label_file))\n",
    "\n",
    "move_files(train_files, image_folder, label_folder, train_image_dir, train_label_dir)\n",
    "move_files(val_files, image_folder, label_folder, val_image_dir, val_label_dir)\n",
    "\n",
    "print(\"Dataset successfully split into training and validation sets.\")\n"
   ]
  },
  {
   "cell_type": "code",
   "execution_count": 24,
   "id": "98c4be47",
   "metadata": {},
   "outputs": [
    {
     "name": "stdout",
     "output_type": "stream",
     "text": [
      "Ultralytics 8.3.162 🚀 Python-3.12.3 torch-2.7.1+cu126 CUDA:0 (NVIDIA GeForce GTX 1070, 8111MiB)\n",
      "\u001b[34m\u001b[1mengine/trainer: \u001b[0magnostic_nms=False, amp=True, augment=False, auto_augment=randaugment, batch=16, bgr=0.0, box=7.5, cache=False, cfg=None, classes=None, close_mosaic=10, cls=0.5, conf=None, copy_paste=0.0, copy_paste_mode=flip, cos_lr=False, cutmix=0.0, data=/home/cse/Documents/MdSourav/DNN/Assignment7/data.yaml, degrees=0.0, deterministic=True, device=None, dfl=1.5, dnn=False, dropout=0.0, dynamic=False, embed=None, epochs=10, erasing=0.4, exist_ok=False, fliplr=0.5, flipud=0.0, format=torchscript, fraction=1.0, freeze=None, half=False, hsv_h=0.015, hsv_s=0.7, hsv_v=0.4, imgsz=640, int8=False, iou=0.7, keras=False, kobj=1.0, line_width=None, lr0=0.01, lrf=0.01, mask_ratio=4, max_det=300, mixup=0.0, mode=train, model=yolov8n.pt, momentum=0.937, mosaic=1.0, multi_scale=False, name=train, nbs=64, nms=False, opset=None, optimize=False, optimizer=auto, overlap_mask=True, patience=100, perspective=0.0, plots=True, pose=12.0, pretrained=True, profile=False, project=None, rect=False, resume=False, retina_masks=False, save=True, save_conf=False, save_crop=False, save_dir=runs/detect/train, save_frames=False, save_json=False, save_period=-1, save_txt=False, scale=0.5, seed=0, shear=0.0, show=False, show_boxes=True, show_conf=True, show_labels=True, simplify=True, single_cls=False, source=None, split=val, stream_buffer=False, task=detect, time=None, tracker=botsort.yaml, translate=0.1, val=True, verbose=True, vid_stride=1, visualize=False, warmup_bias_lr=0.1, warmup_epochs=3.0, warmup_momentum=0.8, weight_decay=0.0005, workers=4, workspace=None\n",
      "Downloading https://ultralytics.com/assets/Arial.ttf to '/home/cse/.config/Ultralytics/Arial.ttf'...\n"
     ]
    },
    {
     "name": "stderr",
     "output_type": "stream",
     "text": [
      "100%|██████████| 755k/755k [00:00<00:00, 3.46MB/s]"
     ]
    },
    {
     "name": "stdout",
     "output_type": "stream",
     "text": [
      "Overriding model.yaml nc=80 with nc=1\n",
      "\n",
      "                   from  n    params  module                                       arguments                     \n",
      "  0                  -1  1       464  ultralytics.nn.modules.conv.Conv             [3, 16, 3, 2]                 \n",
      "  1                  -1  1      4672  ultralytics.nn.modules.conv.Conv             [16, 32, 3, 2]                \n",
      "  2                  -1  1      7360  ultralytics.nn.modules.block.C2f             [32, 32, 1, True]             \n",
      "  3                  -1  1     18560  ultralytics.nn.modules.conv.Conv             [32, 64, 3, 2]                \n",
      "  4                  -1  2     49664  ultralytics.nn.modules.block.C2f             [64, 64, 2, True]             \n",
      "  5                  -1  1     73984  ultralytics.nn.modules.conv.Conv             [64, 128, 3, 2]               \n",
      "  6                  -1  2    197632  ultralytics.nn.modules.block.C2f             [128, 128, 2, True]           \n",
      "  7                  -1  1    295424  ultralytics.nn.modules.conv.Conv             [128, 256, 3, 2]              \n",
      "  8                  -1  1    460288  ultralytics.nn.modules.block.C2f             [256, 256, 1, True]           \n",
      "  9                  -1  1    164608  ultralytics.nn.modules.block.SPPF            [256, 256, 5]                 \n",
      " 10                  -1  1         0  torch.nn.modules.upsampling.Upsample         [None, 2, 'nearest']          \n",
      " 11             [-1, 6]  1         0  ultralytics.nn.modules.conv.Concat           [1]                           \n",
      " 12                  -1  1    148224  ultralytics.nn.modules.block.C2f             [384, 128, 1]                 \n",
      " 13                  -1  1         0  torch.nn.modules.upsampling.Upsample         [None, 2, 'nearest']          \n",
      " 14             [-1, 4]  1         0  ultralytics.nn.modules.conv.Concat           [1]                           \n",
      " 15                  -1  1     37248  ultralytics.nn.modules.block.C2f             [192, 64, 1]                  \n",
      " 16                  -1  1     36992  ultralytics.nn.modules.conv.Conv             [64, 64, 3, 2]                \n",
      " 17            [-1, 12]  1         0  ultralytics.nn.modules.conv.Concat           [1]                           \n",
      " 18                  -1  1    123648  ultralytics.nn.modules.block.C2f             [192, 128, 1]                 \n",
      " 19                  -1  1    147712  ultralytics.nn.modules.conv.Conv             [128, 128, 3, 2]              \n",
      " 20             [-1, 9]  1         0  ultralytics.nn.modules.conv.Concat           [1]                           \n",
      " 21                  -1  1    493056  ultralytics.nn.modules.block.C2f             [384, 256, 1]                 \n",
      " 22        [15, 18, 21]  1    751507  ultralytics.nn.modules.head.Detect           [1, [64, 128, 256]]           \n"
     ]
    },
    {
     "name": "stderr",
     "output_type": "stream",
     "text": [
      "\n"
     ]
    },
    {
     "name": "stdout",
     "output_type": "stream",
     "text": [
      "Model summary: 129 layers, 3,011,043 parameters, 3,011,027 gradients, 8.2 GFLOPs\n",
      "\n",
      "Transferred 319/355 items from pretrained weights\n",
      "Freezing layer 'model.22.dfl.conv.weight'\n",
      "\u001b[34m\u001b[1mAMP: \u001b[0mrunning Automatic Mixed Precision (AMP) checks...\n",
      "\u001b[34m\u001b[1mAMP: \u001b[0mchecks passed ✅\n",
      "\u001b[34m\u001b[1mtrain: \u001b[0mFast image access ✅ (ping: 0.0±0.0 ms, read: 175.2±15.8 MB/s, size: 86.5 KB)\n"
     ]
    },
    {
     "name": "stderr",
     "output_type": "stream",
     "text": [
      "\u001b[34m\u001b[1mtrain: \u001b[0mScanning /home/cse/Documents/MdSourav/DNN/Assignment7/WIDER Face Dataset/split_data/train/labels... 10304 images, 3 backgrounds, 1 corrupt: 100%|██████████| 10304/10304 [00:05<00:00, 1863.39it/s]"
     ]
    },
    {
     "name": "stdout",
     "output_type": "stream",
     "text": [
      "\u001b[34m\u001b[1mtrain: \u001b[0m/home/cse/Documents/MdSourav/DNN/Assignment7/WIDER Face Dataset/split_data/train/images/2_Demonstration_Protesters_2_231.jpg: 1 duplicate labels removed\n",
      "\u001b[34m\u001b[1mtrain: \u001b[0m/home/cse/Documents/MdSourav/DNN/Assignment7/WIDER Face Dataset/split_data/train/images/37_Soccer_Soccer_37_851.jpg: 1 duplicate labels removed\n",
      "\u001b[34m\u001b[1mtrain: \u001b[0m/home/cse/Documents/MdSourav/DNN/Assignment7/WIDER Face Dataset/split_data/train/images/54_Rescue_rescuepeople_54_29.jpg: ignoring corrupt image/label: non-normalized or out of bounds coordinates [1.025391]\n",
      "\u001b[34m\u001b[1mtrain: \u001b[0m/home/cse/Documents/MdSourav/DNN/Assignment7/WIDER Face Dataset/split_data/train/images/7_Cheering_Cheering_7_17.jpg: 1 duplicate labels removed\n"
     ]
    },
    {
     "name": "stderr",
     "output_type": "stream",
     "text": [
      "\n"
     ]
    },
    {
     "name": "stdout",
     "output_type": "stream",
     "text": [
      "\u001b[34m\u001b[1mtrain: \u001b[0mNew cache created: /home/cse/Documents/MdSourav/DNN/Assignment7/WIDER Face Dataset/split_data/train/labels.cache\n",
      "\u001b[34m\u001b[1mval: \u001b[0mFast image access ✅ (ping: 0.0±0.0 ms, read: 148.4±23.9 MB/s, size: 87.0 KB)\n"
     ]
    },
    {
     "name": "stderr",
     "output_type": "stream",
     "text": [
      "\u001b[34m\u001b[1mval: \u001b[0mScanning /home/cse/Documents/MdSourav/DNN/Assignment7/WIDER Face Dataset/split_data/val/labels... 2576 images, 1 backgrounds, 0 corrupt: 100%|██████████| 2576/2576 [00:01<00:00, 1653.49it/s]"
     ]
    },
    {
     "name": "stdout",
     "output_type": "stream",
     "text": [
      "\u001b[34m\u001b[1mval: \u001b[0mNew cache created: /home/cse/Documents/MdSourav/DNN/Assignment7/WIDER Face Dataset/split_data/val/labels.cache\n"
     ]
    },
    {
     "name": "stderr",
     "output_type": "stream",
     "text": [
      "\n"
     ]
    },
    {
     "name": "stdout",
     "output_type": "stream",
     "text": [
      "Plotting labels to runs/detect/train/labels.jpg... \n",
      "\u001b[34m\u001b[1moptimizer:\u001b[0m 'optimizer=auto' found, ignoring 'lr0=0.01' and 'momentum=0.937' and determining best 'optimizer', 'lr0' and 'momentum' automatically... \n",
      "\u001b[34m\u001b[1moptimizer:\u001b[0m AdamW(lr=0.002, momentum=0.9) with parameter groups 57 weight(decay=0.0), 64 weight(decay=0.0005), 63 bias(decay=0.0)\n",
      "Image sizes 640 train, 640 val\n",
      "Using 4 dataloader workers\n",
      "Logging results to \u001b[1mruns/detect/train\u001b[0m\n",
      "Starting training for 10 epochs...\n",
      "Closing dataloader mosaic\n",
      "\n",
      "      Epoch    GPU_mem   box_loss   cls_loss   dfl_loss  Instances       Size\n"
     ]
    },
    {
     "name": "stderr",
     "output_type": "stream",
     "text": [
      "       1/10      6.25G      2.009      1.997      1.268        167        640:  50%|████▉     | 320/644 [01:40<01:38,  3.28it/s]"
     ]
    },
    {
     "name": "stdout",
     "output_type": "stream",
     "text": [
      "WARNING ⚠️ CUDA OutOfMemoryError in TaskAlignedAssigner, using CPU\n"
     ]
    },
    {
     "name": "stderr",
     "output_type": "stream",
     "text": [
      "       1/10      5.54G      1.965      1.855      1.237         75        640:  64%|██████▍   | 411/644 [02:41<01:17,  3.01it/s]"
     ]
    },
    {
     "name": "stdout",
     "output_type": "stream",
     "text": [
      "WARNING ⚠️ CUDA OutOfMemoryError in TaskAlignedAssigner, using CPU\n"
     ]
    },
    {
     "name": "stderr",
     "output_type": "stream",
     "text": [
      "       1/10      5.54G       1.94      1.784      1.221        133        640:  72%|███████▏  | 464/644 [03:08<00:54,  3.30it/s]"
     ]
    },
    {
     "name": "stdout",
     "output_type": "stream",
     "text": [
      "WARNING ⚠️ CUDA OutOfMemoryError in TaskAlignedAssigner, using CPU\n"
     ]
    },
    {
     "name": "stderr",
     "output_type": "stream",
     "text": [
      "       1/10      5.54G      1.916      1.699      1.204         52        640:  86%|████████▌ | 552/644 [03:49<00:28,  3.27it/s]"
     ]
    },
    {
     "name": "stdout",
     "output_type": "stream",
     "text": [
      "WARNING ⚠️ CUDA OutOfMemoryError in TaskAlignedAssigner, using CPU\n"
     ]
    },
    {
     "name": "stderr",
     "output_type": "stream",
     "text": [
      "       1/10      5.54G      1.909      1.677        1.2        166        640:  90%|████████▉ | 578/644 [04:08<00:19,  3.30it/s]"
     ]
    },
    {
     "name": "stdout",
     "output_type": "stream",
     "text": [
      "WARNING ⚠️ CUDA OutOfMemoryError in TaskAlignedAssigner, using CPU\n"
     ]
    },
    {
     "name": "stderr",
     "output_type": "stream",
     "text": [
      "       1/10      5.54G      1.894      1.628      1.192         95        640: 100%|██████████| 644/644 [04:40<00:00,  2.29it/s]\n",
      "                 Class     Images  Instances      Box(P          R      mAP50  mAP50-95): 100%|██████████| 81/81 [00:23<00:00,  3.46it/s]\n"
     ]
    },
    {
     "name": "stdout",
     "output_type": "stream",
     "text": [
      "                   all       2576      30376      0.726      0.434       0.49      0.238\n",
      "\n",
      "      Epoch    GPU_mem   box_loss   cls_loss   dfl_loss  Instances       Size\n"
     ]
    },
    {
     "name": "stderr",
     "output_type": "stream",
     "text": [
      "       2/10      4.75G      1.711      1.167      1.115        878        640:   9%|▉         | 60/644 [00:18<03:42,  2.63it/s]"
     ]
    },
    {
     "name": "stdout",
     "output_type": "stream",
     "text": [
      "WARNING ⚠️ CUDA OutOfMemoryError in TaskAlignedAssigner, using CPU\n"
     ]
    },
    {
     "name": "stderr",
     "output_type": "stream",
     "text": [
      "       2/10      5.48G      1.771      1.193      1.113         69        640:  22%|██▏       | 139/644 [01:27<02:33,  3.30it/s] "
     ]
    },
    {
     "name": "stdout",
     "output_type": "stream",
     "text": [
      "WARNING ⚠️ CUDA OutOfMemoryError in TaskAlignedAssigner, using CPU\n"
     ]
    },
    {
     "name": "stderr",
     "output_type": "stream",
     "text": [
      "       2/10      5.48G      1.731      1.119      1.104        149        640:  98%|█████████▊| 632/644 [04:13<00:03,  3.27it/s]"
     ]
    },
    {
     "name": "stdout",
     "output_type": "stream",
     "text": [
      "WARNING ⚠️ CUDA OutOfMemoryError in TaskAlignedAssigner, using CPU\n"
     ]
    },
    {
     "name": "stderr",
     "output_type": "stream",
     "text": [
      "       2/10      5.48G      1.731      1.118      1.104         75        640: 100%|██████████| 644/644 [04:41<00:00,  2.29it/s]\n",
      "                 Class     Images  Instances      Box(P          R      mAP50  mAP50-95): 100%|██████████| 81/81 [00:22<00:00,  3.65it/s]\n"
     ]
    },
    {
     "name": "stdout",
     "output_type": "stream",
     "text": [
      "                   all       2576      30376      0.744       0.45      0.517      0.256\n",
      "\n",
      "      Epoch    GPU_mem   box_loss   cls_loss   dfl_loss  Instances       Size\n"
     ]
    },
    {
     "name": "stderr",
     "output_type": "stream",
     "text": [
      "       3/10      6.65G      1.689      1.042      1.096        215        640:  52%|█████▏    | 338/644 [01:43<01:32,  3.30it/s]"
     ]
    },
    {
     "name": "stdout",
     "output_type": "stream",
     "text": [
      "WARNING ⚠️ CUDA OutOfMemoryError in TaskAlignedAssigner, using CPU\n"
     ]
    },
    {
     "name": "stderr",
     "output_type": "stream",
     "text": [
      "       3/10      6.87G      1.685      1.041      1.094        168        640:  63%|██████▎   | 408/644 [02:28<01:09,  3.41it/s]"
     ]
    },
    {
     "name": "stdout",
     "output_type": "stream",
     "text": [
      "WARNING ⚠️ CUDA OutOfMemoryError in TaskAlignedAssigner, using CPU\n"
     ]
    },
    {
     "name": "stderr",
     "output_type": "stream",
     "text": [
      "       3/10      5.17G      1.681      1.035       1.09        374        640: 100%|██████████| 644/644 [03:56<00:00,  2.73it/s]\n",
      "                 Class     Images  Instances      Box(P          R      mAP50  mAP50-95): 100%|██████████| 81/81 [00:22<00:00,  3.68it/s]\n"
     ]
    },
    {
     "name": "stdout",
     "output_type": "stream",
     "text": [
      "                   all       2576      30376      0.751      0.473      0.541      0.269\n",
      "\n",
      "      Epoch    GPU_mem   box_loss   cls_loss   dfl_loss  Instances       Size\n"
     ]
    },
    {
     "name": "stderr",
     "output_type": "stream",
     "text": [
      "       4/10      5.12G      1.654     0.9954      1.079        205        640:  61%|██████    | 393/644 [02:01<01:16,  3.30it/s]"
     ]
    },
    {
     "name": "stdout",
     "output_type": "stream",
     "text": [
      "WARNING ⚠️ CUDA OutOfMemoryError in TaskAlignedAssigner, using CPU\n"
     ]
    },
    {
     "name": "stderr",
     "output_type": "stream",
     "text": [
      "       4/10      5.31G      1.642     0.9846      1.078         65        640:  91%|█████████ | 586/644 [03:24<00:16,  3.44it/s]"
     ]
    },
    {
     "name": "stdout",
     "output_type": "stream",
     "text": [
      "WARNING ⚠️ CUDA OutOfMemoryError in TaskAlignedAssigner, using CPU\n"
     ]
    },
    {
     "name": "stderr",
     "output_type": "stream",
     "text": [
      "       4/10      5.31G      1.644     0.9845      1.076         62        640: 100%|██████████| 644/644 [03:54<00:00,  2.75it/s]\n",
      "                 Class     Images  Instances      Box(P          R      mAP50  mAP50-95): 100%|██████████| 81/81 [00:22<00:00,  3.67it/s]\n"
     ]
    },
    {
     "name": "stdout",
     "output_type": "stream",
     "text": [
      "                   all       2576      30376      0.778      0.489      0.562      0.287\n",
      "\n",
      "      Epoch    GPU_mem   box_loss   cls_loss   dfl_loss  Instances       Size\n"
     ]
    },
    {
     "name": "stderr",
     "output_type": "stream",
     "text": [
      "       5/10      6.05G       1.63     0.9498      1.061        176        640:  15%|█▍        | 94/644 [00:29<02:53,  3.17it/s]"
     ]
    },
    {
     "name": "stdout",
     "output_type": "stream",
     "text": [
      "WARNING ⚠️ CUDA OutOfMemoryError in TaskAlignedAssigner, using CPU\n"
     ]
    },
    {
     "name": "stderr",
     "output_type": "stream",
     "text": [
      "       5/10      5.69G       1.62      0.946      1.059        570        640:  25%|██▍       | 160/644 [01:13<02:42,  2.98it/s] "
     ]
    },
    {
     "name": "stdout",
     "output_type": "stream",
     "text": [
      "WARNING ⚠️ CUDA OutOfMemoryError in TaskAlignedAssigner, using CPU\n"
     ]
    },
    {
     "name": "stderr",
     "output_type": "stream",
     "text": [
      "       5/10      5.69G      1.603     0.9285      1.057        108        640:  50%|█████     | 323/644 [02:18<01:34,  3.38it/s]"
     ]
    },
    {
     "name": "stdout",
     "output_type": "stream",
     "text": [
      "WARNING ⚠️ CUDA OutOfMemoryError in TaskAlignedAssigner, using CPU\n"
     ]
    },
    {
     "name": "stderr",
     "output_type": "stream",
     "text": [
      "       5/10      5.69G      1.588     0.9209      1.056        345        640:  72%|███████▏  | 464/644 [03:12<00:56,  3.20it/s]"
     ]
    },
    {
     "name": "stdout",
     "output_type": "stream",
     "text": [
      "WARNING ⚠️ CUDA OutOfMemoryError in TaskAlignedAssigner, using CPU\n"
     ]
    },
    {
     "name": "stderr",
     "output_type": "stream",
     "text": [
      "       5/10      5.69G      1.586     0.9175      1.057        100        640: 100%|██████████| 644/644 [04:20<00:00,  2.47it/s]\n",
      "                 Class     Images  Instances      Box(P          R      mAP50  mAP50-95): 100%|██████████| 81/81 [00:21<00:00,  3.68it/s]\n"
     ]
    },
    {
     "name": "stdout",
     "output_type": "stream",
     "text": [
      "                   all       2576      30376      0.773      0.478       0.55      0.282\n",
      "\n",
      "      Epoch    GPU_mem   box_loss   cls_loss   dfl_loss  Instances       Size\n"
     ]
    },
    {
     "name": "stderr",
     "output_type": "stream",
     "text": [
      "  0%|          | 0/644 [00:00<?, ?it/s]"
     ]
    },
    {
     "name": "stdout",
     "output_type": "stream",
     "text": [
      "WARNING ⚠️ CUDA OutOfMemoryError in TaskAlignedAssigner, using CPU\n"
     ]
    },
    {
     "name": "stderr",
     "output_type": "stream",
     "text": [
      "       6/10      4.96G      1.653     0.9362      1.051        286        640:   2%|▏         | 14/644 [00:24<03:49,  2.75it/s] "
     ]
    },
    {
     "name": "stdout",
     "output_type": "stream",
     "text": [
      "WARNING ⚠️ CUDA OutOfMemoryError in TaskAlignedAssigner, using CPU\n"
     ]
    },
    {
     "name": "stderr",
     "output_type": "stream",
     "text": [
      "       6/10      6.86G       1.56     0.8721      1.046         67        640:  58%|█████▊    | 376/644 [02:31<01:22,  3.25it/s]"
     ]
    },
    {
     "name": "stdout",
     "output_type": "stream",
     "text": [
      "WARNING ⚠️ CUDA OutOfMemoryError in TaskAlignedAssigner, using CPU\n"
     ]
    },
    {
     "name": "stderr",
     "output_type": "stream",
     "text": [
      "       6/10      6.59G       1.56      0.869      1.045        315        640: 100%|██████████| 644/644 [04:08<00:00,  2.60it/s]\n",
      "                 Class     Images  Instances      Box(P          R      mAP50  mAP50-95): 100%|██████████| 81/81 [00:22<00:00,  3.67it/s]\n"
     ]
    },
    {
     "name": "stdout",
     "output_type": "stream",
     "text": [
      "                   all       2576      30376      0.792       0.51      0.589      0.307\n",
      "\n",
      "      Epoch    GPU_mem   box_loss   cls_loss   dfl_loss  Instances       Size\n"
     ]
    },
    {
     "name": "stderr",
     "output_type": "stream",
     "text": [
      "       7/10      5.83G      1.516     0.8349      1.039         85        640:  36%|███▌      | 232/644 [01:11<02:03,  3.33it/s]"
     ]
    },
    {
     "name": "stdout",
     "output_type": "stream",
     "text": [
      "WARNING ⚠️ CUDA OutOfMemoryError in TaskAlignedAssigner, using CPU\n"
     ]
    },
    {
     "name": "stderr",
     "output_type": "stream",
     "text": [
      "       7/10      5.41G      1.539     0.8443      1.037        295        640:  73%|███████▎  | 472/644 [02:45<00:54,  3.16it/s]"
     ]
    },
    {
     "name": "stdout",
     "output_type": "stream",
     "text": [
      "WARNING ⚠️ CUDA OutOfMemoryError in TaskAlignedAssigner, using CPU\n"
     ]
    },
    {
     "name": "stderr",
     "output_type": "stream",
     "text": [
      "       7/10      5.68G      1.532     0.8393      1.035        113        640:  98%|█████████▊| 632/644 [04:01<00:03,  3.37it/s]"
     ]
    },
    {
     "name": "stdout",
     "output_type": "stream",
     "text": [
      "WARNING ⚠️ CUDA OutOfMemoryError in TaskAlignedAssigner, using CPU\n"
     ]
    },
    {
     "name": "stderr",
     "output_type": "stream",
     "text": [
      "       7/10      5.68G      1.532     0.8386      1.035         97        640: 100%|██████████| 644/644 [04:18<00:00,  2.50it/s]\n",
      "                 Class     Images  Instances      Box(P          R      mAP50  mAP50-95): 100%|██████████| 81/81 [00:21<00:00,  3.72it/s]\n"
     ]
    },
    {
     "name": "stdout",
     "output_type": "stream",
     "text": [
      "                   all       2576      30376      0.789      0.517      0.596      0.311\n",
      "\n",
      "      Epoch    GPU_mem   box_loss   cls_loss   dfl_loss  Instances       Size\n"
     ]
    },
    {
     "name": "stderr",
     "output_type": "stream",
     "text": [
      "       8/10      6.14G      1.495     0.8035      1.025        127        640:  16%|█▌        | 103/644 [00:31<02:43,  3.31it/s]"
     ]
    },
    {
     "name": "stdout",
     "output_type": "stream",
     "text": [
      "WARNING ⚠️ CUDA OutOfMemoryError in TaskAlignedAssigner, using CPU\n"
     ]
    },
    {
     "name": "stderr",
     "output_type": "stream",
     "text": [
      "       8/10      5.35G      1.502     0.8074      1.022         91        640:  23%|██▎       | 145/644 [01:07<02:31,  3.29it/s]  "
     ]
    },
    {
     "name": "stdout",
     "output_type": "stream",
     "text": [
      "WARNING ⚠️ CUDA OutOfMemoryError in TaskAlignedAssigner, using CPU\n"
     ]
    },
    {
     "name": "stderr",
     "output_type": "stream",
     "text": [
      "       8/10      5.35G      1.509      0.812      1.024        125        640:  30%|██▉       | 190/644 [01:34<02:16,  3.32it/s]"
     ]
    },
    {
     "name": "stdout",
     "output_type": "stream",
     "text": [
      "WARNING ⚠️ CUDA OutOfMemoryError in TaskAlignedAssigner, using CPU\n"
     ]
    },
    {
     "name": "stderr",
     "output_type": "stream",
     "text": [
      "       8/10      5.35G      1.503     0.8039      1.023        171        640:  89%|████████▊ | 571/644 [03:44<00:22,  3.30it/s]"
     ]
    },
    {
     "name": "stdout",
     "output_type": "stream",
     "text": [
      "WARNING ⚠️ CUDA OutOfMemoryError in TaskAlignedAssigner, using CPU\n"
     ]
    },
    {
     "name": "stderr",
     "output_type": "stream",
     "text": [
      "       8/10      5.35G      1.503     0.8043      1.023         66        640: 100%|██████████| 644/644 [04:27<00:00,  2.41it/s]\n",
      "                 Class     Images  Instances      Box(P          R      mAP50  mAP50-95): 100%|██████████| 81/81 [00:21<00:00,  3.72it/s]\n"
     ]
    },
    {
     "name": "stdout",
     "output_type": "stream",
     "text": [
      "                   all       2576      30376      0.803      0.529      0.609      0.321\n",
      "\n",
      "      Epoch    GPU_mem   box_loss   cls_loss   dfl_loss  Instances       Size\n"
     ]
    },
    {
     "name": "stderr",
     "output_type": "stream",
     "text": [
      "       9/10      3.67G      1.466     0.7912      1.014        174        640:   4%|▍         | 25/644 [00:07<03:12,  3.22it/s]"
     ]
    },
    {
     "name": "stdout",
     "output_type": "stream",
     "text": [
      "WARNING ⚠️ CUDA OutOfMemoryError in TaskAlignedAssigner, using CPU\n"
     ]
    },
    {
     "name": "stderr",
     "output_type": "stream",
     "text": [
      "       9/10      4.92G      1.467     0.7779      1.017         55        640:  19%|█▉        | 125/644 [00:57<02:40,  3.24it/s] "
     ]
    },
    {
     "name": "stdout",
     "output_type": "stream",
     "text": [
      "WARNING ⚠️ CUDA OutOfMemoryError in TaskAlignedAssigner, using CPU\n"
     ]
    },
    {
     "name": "stderr",
     "output_type": "stream",
     "text": [
      "       9/10       6.5G      1.478     0.7767      1.015        200        640:  80%|████████  | 518/644 [03:13<00:38,  3.24it/s]"
     ]
    },
    {
     "name": "stdout",
     "output_type": "stream",
     "text": [
      "WARNING ⚠️ CUDA OutOfMemoryError in TaskAlignedAssigner, using CPU\n"
     ]
    },
    {
     "name": "stderr",
     "output_type": "stream",
     "text": [
      "       9/10      4.81G      1.476     0.7733      1.014        334        640: 100%|██████████| 644/644 [04:09<00:00,  2.58it/s]\n",
      "                 Class     Images  Instances      Box(P          R      mAP50  mAP50-95): 100%|██████████| 81/81 [00:21<00:00,  3.72it/s]\n"
     ]
    },
    {
     "name": "stdout",
     "output_type": "stream",
     "text": [
      "                   all       2576      30376      0.801      0.541       0.62      0.329\n",
      "\n",
      "      Epoch    GPU_mem   box_loss   cls_loss   dfl_loss  Instances       Size\n"
     ]
    },
    {
     "name": "stderr",
     "output_type": "stream",
     "text": [
      "      10/10      6.27G      1.459     0.7559      1.005        199        640:  41%|████      | 261/644 [01:20<01:54,  3.34it/s]"
     ]
    },
    {
     "name": "stdout",
     "output_type": "stream",
     "text": [
      "WARNING ⚠️ CUDA OutOfMemoryError in TaskAlignedAssigner, using CPU\n"
     ]
    },
    {
     "name": "stderr",
     "output_type": "stream",
     "text": [
      "      10/10      6.91G      1.461     0.7555      1.005        131        640:  61%|██████    | 393/644 [02:24<01:16,  3.28it/s]"
     ]
    },
    {
     "name": "stdout",
     "output_type": "stream",
     "text": [
      "WARNING ⚠️ CUDA OutOfMemoryError in TaskAlignedAssigner, using CPU\n"
     ]
    },
    {
     "name": "stderr",
     "output_type": "stream",
     "text": [
      "      10/10      6.91G      1.453     0.7485      1.007        459        640: 100%|██████████| 644/644 [04:04<00:00,  2.63it/s]\n",
      "                 Class     Images  Instances      Box(P          R      mAP50  mAP50-95): 100%|██████████| 81/81 [00:21<00:00,  3.72it/s]\n"
     ]
    },
    {
     "name": "stdout",
     "output_type": "stream",
     "text": [
      "                   all       2576      30376      0.816      0.544      0.631      0.339\n",
      "\n",
      "10 epochs completed in 0.776 hours.\n",
      "Optimizer stripped from runs/detect/train/weights/last.pt, 6.2MB\n",
      "Optimizer stripped from runs/detect/train/weights/best.pt, 6.2MB\n",
      "\n",
      "Validating runs/detect/train/weights/best.pt...\n",
      "Ultralytics 8.3.162 🚀 Python-3.12.3 torch-2.7.1+cu126 CUDA:0 (NVIDIA GeForce GTX 1070, 8111MiB)\n",
      "Model summary (fused): 72 layers, 3,005,843 parameters, 0 gradients, 8.1 GFLOPs\n"
     ]
    },
    {
     "name": "stderr",
     "output_type": "stream",
     "text": [
      "                 Class     Images  Instances      Box(P          R      mAP50  mAP50-95): 100%|██████████| 81/81 [00:19<00:00,  4.20it/s]\n"
     ]
    },
    {
     "name": "stdout",
     "output_type": "stream",
     "text": [
      "                   all       2576      30376      0.818      0.543      0.631      0.339\n",
      "Speed: 0.2ms preprocess, 3.5ms inference, 0.0ms loss, 0.9ms postprocess per image\n",
      "Results saved to \u001b[1mruns/detect/train\u001b[0m\n"
     ]
    },
    {
     "data": {
      "text/plain": [
       "ultralytics.utils.metrics.DetMetrics object with attributes:\n",
       "\n",
       "ap_class_index: array([0])\n",
       "box: ultralytics.utils.metrics.Metric object\n",
       "confusion_matrix: <ultralytics.utils.metrics.ConfusionMatrix object at 0x7ee56ab53dd0>\n",
       "curves: ['Precision-Recall(B)', 'F1-Confidence(B)', 'Precision-Confidence(B)', 'Recall-Confidence(B)']\n",
       "curves_results: [[array([          0,    0.001001,    0.002002,    0.003003,    0.004004,    0.005005,    0.006006,    0.007007,    0.008008,    0.009009,     0.01001,    0.011011,    0.012012,    0.013013,    0.014014,    0.015015,    0.016016,    0.017017,    0.018018,    0.019019,     0.02002,    0.021021,    0.022022,    0.023023,\n",
       "          0.024024,    0.025025,    0.026026,    0.027027,    0.028028,    0.029029,     0.03003,    0.031031,    0.032032,    0.033033,    0.034034,    0.035035,    0.036036,    0.037037,    0.038038,    0.039039,     0.04004,    0.041041,    0.042042,    0.043043,    0.044044,    0.045045,    0.046046,    0.047047,\n",
       "          0.048048,    0.049049,     0.05005,    0.051051,    0.052052,    0.053053,    0.054054,    0.055055,    0.056056,    0.057057,    0.058058,    0.059059,     0.06006,    0.061061,    0.062062,    0.063063,    0.064064,    0.065065,    0.066066,    0.067067,    0.068068,    0.069069,     0.07007,    0.071071,\n",
       "          0.072072,    0.073073,    0.074074,    0.075075,    0.076076,    0.077077,    0.078078,    0.079079,     0.08008,    0.081081,    0.082082,    0.083083,    0.084084,    0.085085,    0.086086,    0.087087,    0.088088,    0.089089,     0.09009,    0.091091,    0.092092,    0.093093,    0.094094,    0.095095,\n",
       "          0.096096,    0.097097,    0.098098,    0.099099,      0.1001,      0.1011,      0.1021,      0.1031,      0.1041,     0.10511,     0.10611,     0.10711,     0.10811,     0.10911,     0.11011,     0.11111,     0.11211,     0.11311,     0.11411,     0.11512,     0.11612,     0.11712,     0.11812,     0.11912,\n",
       "           0.12012,     0.12112,     0.12212,     0.12312,     0.12412,     0.12513,     0.12613,     0.12713,     0.12813,     0.12913,     0.13013,     0.13113,     0.13213,     0.13313,     0.13413,     0.13514,     0.13614,     0.13714,     0.13814,     0.13914,     0.14014,     0.14114,     0.14214,     0.14314,\n",
       "           0.14414,     0.14515,     0.14615,     0.14715,     0.14815,     0.14915,     0.15015,     0.15115,     0.15215,     0.15315,     0.15415,     0.15516,     0.15616,     0.15716,     0.15816,     0.15916,     0.16016,     0.16116,     0.16216,     0.16316,     0.16416,     0.16517,     0.16617,     0.16717,\n",
       "           0.16817,     0.16917,     0.17017,     0.17117,     0.17217,     0.17317,     0.17417,     0.17518,     0.17618,     0.17718,     0.17818,     0.17918,     0.18018,     0.18118,     0.18218,     0.18318,     0.18418,     0.18519,     0.18619,     0.18719,     0.18819,     0.18919,     0.19019,     0.19119,\n",
       "           0.19219,     0.19319,     0.19419,      0.1952,      0.1962,      0.1972,      0.1982,      0.1992,      0.2002,      0.2012,      0.2022,      0.2032,      0.2042,     0.20521,     0.20621,     0.20721,     0.20821,     0.20921,     0.21021,     0.21121,     0.21221,     0.21321,     0.21421,     0.21522,\n",
       "           0.21622,     0.21722,     0.21822,     0.21922,     0.22022,     0.22122,     0.22222,     0.22322,     0.22422,     0.22523,     0.22623,     0.22723,     0.22823,     0.22923,     0.23023,     0.23123,     0.23223,     0.23323,     0.23423,     0.23524,     0.23624,     0.23724,     0.23824,     0.23924,\n",
       "           0.24024,     0.24124,     0.24224,     0.24324,     0.24424,     0.24525,     0.24625,     0.24725,     0.24825,     0.24925,     0.25025,     0.25125,     0.25225,     0.25325,     0.25425,     0.25526,     0.25626,     0.25726,     0.25826,     0.25926,     0.26026,     0.26126,     0.26226,     0.26326,\n",
       "           0.26426,     0.26527,     0.26627,     0.26727,     0.26827,     0.26927,     0.27027,     0.27127,     0.27227,     0.27327,     0.27427,     0.27528,     0.27628,     0.27728,     0.27828,     0.27928,     0.28028,     0.28128,     0.28228,     0.28328,     0.28428,     0.28529,     0.28629,     0.28729,\n",
       "           0.28829,     0.28929,     0.29029,     0.29129,     0.29229,     0.29329,     0.29429,      0.2953,      0.2963,      0.2973,      0.2983,      0.2993,      0.3003,      0.3013,      0.3023,      0.3033,      0.3043,     0.30531,     0.30631,     0.30731,     0.30831,     0.30931,     0.31031,     0.31131,\n",
       "           0.31231,     0.31331,     0.31431,     0.31532,     0.31632,     0.31732,     0.31832,     0.31932,     0.32032,     0.32132,     0.32232,     0.32332,     0.32432,     0.32533,     0.32633,     0.32733,     0.32833,     0.32933,     0.33033,     0.33133,     0.33233,     0.33333,     0.33433,     0.33534,\n",
       "           0.33634,     0.33734,     0.33834,     0.33934,     0.34034,     0.34134,     0.34234,     0.34334,     0.34434,     0.34535,     0.34635,     0.34735,     0.34835,     0.34935,     0.35035,     0.35135,     0.35235,     0.35335,     0.35435,     0.35536,     0.35636,     0.35736,     0.35836,     0.35936,\n",
       "           0.36036,     0.36136,     0.36236,     0.36336,     0.36436,     0.36537,     0.36637,     0.36737,     0.36837,     0.36937,     0.37037,     0.37137,     0.37237,     0.37337,     0.37437,     0.37538,     0.37638,     0.37738,     0.37838,     0.37938,     0.38038,     0.38138,     0.38238,     0.38338,\n",
       "           0.38438,     0.38539,     0.38639,     0.38739,     0.38839,     0.38939,     0.39039,     0.39139,     0.39239,     0.39339,     0.39439,      0.3954,      0.3964,      0.3974,      0.3984,      0.3994,      0.4004,      0.4014,      0.4024,      0.4034,      0.4044,     0.40541,     0.40641,     0.40741,\n",
       "           0.40841,     0.40941,     0.41041,     0.41141,     0.41241,     0.41341,     0.41441,     0.41542,     0.41642,     0.41742,     0.41842,     0.41942,     0.42042,     0.42142,     0.42242,     0.42342,     0.42442,     0.42543,     0.42643,     0.42743,     0.42843,     0.42943,     0.43043,     0.43143,\n",
       "           0.43243,     0.43343,     0.43443,     0.43544,     0.43644,     0.43744,     0.43844,     0.43944,     0.44044,     0.44144,     0.44244,     0.44344,     0.44444,     0.44545,     0.44645,     0.44745,     0.44845,     0.44945,     0.45045,     0.45145,     0.45245,     0.45345,     0.45445,     0.45546,\n",
       "           0.45646,     0.45746,     0.45846,     0.45946,     0.46046,     0.46146,     0.46246,     0.46346,     0.46446,     0.46547,     0.46647,     0.46747,     0.46847,     0.46947,     0.47047,     0.47147,     0.47247,     0.47347,     0.47447,     0.47548,     0.47648,     0.47748,     0.47848,     0.47948,\n",
       "           0.48048,     0.48148,     0.48248,     0.48348,     0.48448,     0.48549,     0.48649,     0.48749,     0.48849,     0.48949,     0.49049,     0.49149,     0.49249,     0.49349,     0.49449,      0.4955,      0.4965,      0.4975,      0.4985,      0.4995,      0.5005,      0.5015,      0.5025,      0.5035,\n",
       "            0.5045,     0.50551,     0.50651,     0.50751,     0.50851,     0.50951,     0.51051,     0.51151,     0.51251,     0.51351,     0.51451,     0.51552,     0.51652,     0.51752,     0.51852,     0.51952,     0.52052,     0.52152,     0.52252,     0.52352,     0.52452,     0.52553,     0.52653,     0.52753,\n",
       "           0.52853,     0.52953,     0.53053,     0.53153,     0.53253,     0.53353,     0.53453,     0.53554,     0.53654,     0.53754,     0.53854,     0.53954,     0.54054,     0.54154,     0.54254,     0.54354,     0.54454,     0.54555,     0.54655,     0.54755,     0.54855,     0.54955,     0.55055,     0.55155,\n",
       "           0.55255,     0.55355,     0.55455,     0.55556,     0.55656,     0.55756,     0.55856,     0.55956,     0.56056,     0.56156,     0.56256,     0.56356,     0.56456,     0.56557,     0.56657,     0.56757,     0.56857,     0.56957,     0.57057,     0.57157,     0.57257,     0.57357,     0.57457,     0.57558,\n",
       "           0.57658,     0.57758,     0.57858,     0.57958,     0.58058,     0.58158,     0.58258,     0.58358,     0.58458,     0.58559,     0.58659,     0.58759,     0.58859,     0.58959,     0.59059,     0.59159,     0.59259,     0.59359,     0.59459,      0.5956,      0.5966,      0.5976,      0.5986,      0.5996,\n",
       "            0.6006,      0.6016,      0.6026,      0.6036,      0.6046,     0.60561,     0.60661,     0.60761,     0.60861,     0.60961,     0.61061,     0.61161,     0.61261,     0.61361,     0.61461,     0.61562,     0.61662,     0.61762,     0.61862,     0.61962,     0.62062,     0.62162,     0.62262,     0.62362,\n",
       "           0.62462,     0.62563,     0.62663,     0.62763,     0.62863,     0.62963,     0.63063,     0.63163,     0.63263,     0.63363,     0.63463,     0.63564,     0.63664,     0.63764,     0.63864,     0.63964,     0.64064,     0.64164,     0.64264,     0.64364,     0.64464,     0.64565,     0.64665,     0.64765,\n",
       "           0.64865,     0.64965,     0.65065,     0.65165,     0.65265,     0.65365,     0.65465,     0.65566,     0.65666,     0.65766,     0.65866,     0.65966,     0.66066,     0.66166,     0.66266,     0.66366,     0.66466,     0.66567,     0.66667,     0.66767,     0.66867,     0.66967,     0.67067,     0.67167,\n",
       "           0.67267,     0.67367,     0.67467,     0.67568,     0.67668,     0.67768,     0.67868,     0.67968,     0.68068,     0.68168,     0.68268,     0.68368,     0.68468,     0.68569,     0.68669,     0.68769,     0.68869,     0.68969,     0.69069,     0.69169,     0.69269,     0.69369,     0.69469,      0.6957,\n",
       "            0.6967,      0.6977,      0.6987,      0.6997,      0.7007,      0.7017,      0.7027,      0.7037,      0.7047,     0.70571,     0.70671,     0.70771,     0.70871,     0.70971,     0.71071,     0.71171,     0.71271,     0.71371,     0.71471,     0.71572,     0.71672,     0.71772,     0.71872,     0.71972,\n",
       "           0.72072,     0.72172,     0.72272,     0.72372,     0.72472,     0.72573,     0.72673,     0.72773,     0.72873,     0.72973,     0.73073,     0.73173,     0.73273,     0.73373,     0.73473,     0.73574,     0.73674,     0.73774,     0.73874,     0.73974,     0.74074,     0.74174,     0.74274,     0.74374,\n",
       "           0.74474,     0.74575,     0.74675,     0.74775,     0.74875,     0.74975,     0.75075,     0.75175,     0.75275,     0.75375,     0.75475,     0.75576,     0.75676,     0.75776,     0.75876,     0.75976,     0.76076,     0.76176,     0.76276,     0.76376,     0.76476,     0.76577,     0.76677,     0.76777,\n",
       "           0.76877,     0.76977,     0.77077,     0.77177,     0.77277,     0.77377,     0.77477,     0.77578,     0.77678,     0.77778,     0.77878,     0.77978,     0.78078,     0.78178,     0.78278,     0.78378,     0.78478,     0.78579,     0.78679,     0.78779,     0.78879,     0.78979,     0.79079,     0.79179,\n",
       "           0.79279,     0.79379,     0.79479,      0.7958,      0.7968,      0.7978,      0.7988,      0.7998,      0.8008,      0.8018,      0.8028,      0.8038,      0.8048,     0.80581,     0.80681,     0.80781,     0.80881,     0.80981,     0.81081,     0.81181,     0.81281,     0.81381,     0.81481,     0.81582,\n",
       "           0.81682,     0.81782,     0.81882,     0.81982,     0.82082,     0.82182,     0.82282,     0.82382,     0.82482,     0.82583,     0.82683,     0.82783,     0.82883,     0.82983,     0.83083,     0.83183,     0.83283,     0.83383,     0.83483,     0.83584,     0.83684,     0.83784,     0.83884,     0.83984,\n",
       "           0.84084,     0.84184,     0.84284,     0.84384,     0.84484,     0.84585,     0.84685,     0.84785,     0.84885,     0.84985,     0.85085,     0.85185,     0.85285,     0.85385,     0.85485,     0.85586,     0.85686,     0.85786,     0.85886,     0.85986,     0.86086,     0.86186,     0.86286,     0.86386,\n",
       "           0.86486,     0.86587,     0.86687,     0.86787,     0.86887,     0.86987,     0.87087,     0.87187,     0.87287,     0.87387,     0.87487,     0.87588,     0.87688,     0.87788,     0.87888,     0.87988,     0.88088,     0.88188,     0.88288,     0.88388,     0.88488,     0.88589,     0.88689,     0.88789,\n",
       "           0.88889,     0.88989,     0.89089,     0.89189,     0.89289,     0.89389,     0.89489,      0.8959,      0.8969,      0.8979,      0.8989,      0.8999,      0.9009,      0.9019,      0.9029,      0.9039,      0.9049,     0.90591,     0.90691,     0.90791,     0.90891,     0.90991,     0.91091,     0.91191,\n",
       "           0.91291,     0.91391,     0.91491,     0.91592,     0.91692,     0.91792,     0.91892,     0.91992,     0.92092,     0.92192,     0.92292,     0.92392,     0.92492,     0.92593,     0.92693,     0.92793,     0.92893,     0.92993,     0.93093,     0.93193,     0.93293,     0.93393,     0.93493,     0.93594,\n",
       "           0.93694,     0.93794,     0.93894,     0.93994,     0.94094,     0.94194,     0.94294,     0.94394,     0.94494,     0.94595,     0.94695,     0.94795,     0.94895,     0.94995,     0.95095,     0.95195,     0.95295,     0.95395,     0.95495,     0.95596,     0.95696,     0.95796,     0.95896,     0.95996,\n",
       "           0.96096,     0.96196,     0.96296,     0.96396,     0.96496,     0.96597,     0.96697,     0.96797,     0.96897,     0.96997,     0.97097,     0.97197,     0.97297,     0.97397,     0.97497,     0.97598,     0.97698,     0.97798,     0.97898,     0.97998,     0.98098,     0.98198,     0.98298,     0.98398,\n",
       "           0.98498,     0.98599,     0.98699,     0.98799,     0.98899,     0.98999,     0.99099,     0.99199,     0.99299,     0.99399,     0.99499,       0.996,       0.997,       0.998,       0.999,           1]), array([[          1,           1,           1,           1,           1,           1,           1,           1,           1,           1,           1,           1,           1,           1,           1,           1,           1,     0.99898,     0.99898,     0.99898,     0.99898,     0.99898,     0.99898,\n",
       "            0.99898,     0.99898,     0.99898,     0.99898,     0.99898,     0.99898,     0.99898,     0.99898,     0.99898,     0.99898,     0.99898,     0.99898,     0.99898,     0.99898,     0.99898,     0.99898,     0.99898,     0.99898,     0.99898,     0.99898,     0.99898,     0.99898,     0.99898,\n",
       "            0.99898,     0.99898,     0.99898,     0.99898,     0.99898,     0.99898,     0.99898,     0.99898,     0.99898,     0.99898,     0.99898,     0.99898,     0.99898,     0.99898,     0.99898,     0.99898,     0.99898,     0.99898,     0.99898,     0.99898,     0.99898,     0.99898,     0.99898,\n",
       "            0.99898,     0.99898,     0.99898,     0.99898,     0.99898,     0.99898,     0.99898,     0.99898,     0.99898,     0.99898,     0.99898,     0.99898,     0.99898,     0.99898,     0.99898,     0.99898,     0.99898,     0.99898,     0.99898,     0.99898,     0.99898,     0.99898,     0.99898,\n",
       "            0.99898,     0.99898,     0.99898,     0.99898,     0.99898,     0.99883,     0.99883,     0.99883,     0.99883,     0.99883,     0.99883,     0.99883,     0.99883,     0.99883,     0.99883,     0.99883,     0.99883,     0.99883,     0.99883,     0.99883,     0.99883,     0.99883,     0.99883,\n",
       "            0.99883,     0.99883,     0.99883,     0.99883,     0.99883,     0.99883,     0.99883,     0.99883,     0.99883,     0.99883,     0.99883,     0.99883,     0.99883,     0.99883,     0.99883,     0.99883,     0.99883,     0.99883,     0.99883,     0.99883,     0.99883,     0.99883,     0.99883,\n",
       "            0.99883,     0.99883,     0.99883,     0.99869,     0.99869,     0.99869,     0.99869,     0.99869,     0.99869,     0.99869,     0.99869,     0.99869,     0.99834,     0.99834,     0.99834,     0.99834,     0.99834,     0.99834,     0.99834,     0.99834,     0.99834,     0.99821,     0.99821,\n",
       "            0.99821,     0.99821,     0.99821,     0.99821,      0.9981,      0.9981,      0.9981,      0.9981,      0.9981,      0.9981,      0.9981,      0.9981,      0.9981,      0.9981,      0.9981,      0.9981,      0.9981,      0.9981,      0.9981,      0.9981,      0.9981,      0.9981,      0.9981,\n",
       "             0.9981,      0.9981,      0.9981,      0.9981,      0.9981,      0.9981,     0.99808,     0.99808,     0.99808,     0.99808,     0.99808,     0.99808,     0.99808,     0.99808,     0.99808,     0.99808,     0.99808,     0.99808,     0.99808,     0.99808,     0.99808,     0.99808,     0.99806,\n",
       "            0.99806,     0.99806,     0.99806,     0.99806,     0.99806,     0.99806,     0.99806,     0.99806,     0.99806,     0.99806,     0.99806,     0.99806,     0.99806,     0.99795,     0.99795,     0.99795,     0.99795,     0.99795,     0.99781,     0.99768,      0.9974,     0.99734,     0.99734,\n",
       "            0.99734,     0.99734,     0.99734,     0.99734,     0.99734,     0.99725,     0.99725,     0.99725,     0.99725,     0.99715,     0.99715,     0.99715,     0.99705,     0.99705,     0.99705,     0.99695,     0.99695,     0.99695,     0.99691,     0.99691,     0.99691,     0.99691,     0.99691,\n",
       "            0.99691,     0.99691,     0.99679,     0.99655,     0.99646,     0.99646,     0.99646,     0.99635,     0.99629,     0.99629,     0.99629,     0.99629,     0.99629,     0.99623,     0.99623,     0.99623,     0.99623,     0.99614,     0.99614,     0.99591,     0.99576,     0.99576,     0.99576,\n",
       "            0.99576,     0.99576,     0.99553,     0.99532,     0.99522,     0.99512,      0.9949,     0.99481,     0.99475,     0.99475,     0.99475,     0.99455,     0.99447,     0.99447,     0.99437,     0.99427,     0.99424,     0.99424,     0.99424,     0.99424,     0.99416,     0.99407,     0.99397,\n",
       "            0.99377,     0.99358,     0.99318,     0.99307,     0.99307,     0.99307,     0.99307,     0.99307,     0.99299,     0.99292,     0.99283,     0.99275,     0.99258,     0.99258,      0.9924,     0.99231,     0.99213,     0.99207,     0.99199,     0.99193,     0.99193,     0.99185,     0.99167,\n",
       "            0.99141,     0.99133,     0.99115,     0.99088,     0.99086,     0.99086,     0.99086,     0.99041,     0.99035,     0.99017,     0.99001,     0.98985,     0.98967,     0.98961,     0.98935,     0.98912,     0.98903,     0.98887,     0.98872,     0.98828,     0.98813,     0.98797,     0.98764,\n",
       "             0.9873,     0.98716,       0.987,     0.98679,     0.98675,     0.98675,     0.98669,     0.98657,      0.9864,     0.98617,     0.98577,     0.98562,     0.98548,     0.98516,     0.98496,     0.98489,     0.98475,     0.98437,     0.98414,     0.98401,     0.98388,     0.98362,     0.98362,\n",
       "            0.98348,     0.98309,     0.98289,     0.98267,     0.98213,     0.98202,      0.9818,     0.98159,     0.98147,     0.98102,     0.98066,     0.98027,     0.97983,     0.97938,     0.97918,     0.97882,     0.97831,     0.97787,     0.97728,     0.97703,     0.97691,     0.97649,     0.97621,\n",
       "            0.97588,      0.9757,     0.97519,     0.97497,     0.97493,     0.97446,     0.97433,     0.97393,     0.97315,     0.97281,     0.97249,     0.97194,     0.97171,     0.97145,     0.97068,     0.97037,     0.97006,      0.9693,      0.9687,     0.96817,     0.96742,     0.96667,     0.96638,\n",
       "             0.9655,     0.96498,     0.96447,      0.9637,     0.96346,     0.96253,     0.96174,     0.96111,     0.96021,     0.95921,     0.95852,     0.95797,     0.95733,     0.95704,     0.95642,     0.95599,     0.95572,     0.95507,     0.95466,      0.9542,     0.95405,      0.9538,     0.95306,\n",
       "            0.95262,     0.95185,     0.95153,     0.95139,     0.95053,     0.95004,      0.9496,     0.94918,      0.9485,      0.9478,     0.94711,     0.94566,     0.94498,     0.94413,     0.94397,     0.94306,     0.94228,     0.94117,     0.93969,     0.93924,     0.93817,     0.93753,     0.93677,\n",
       "            0.93602,     0.93497,     0.93373,     0.93239,      0.9316,     0.93008,     0.92949,     0.92859,      0.9276,     0.92732,     0.92673,     0.92568,     0.92445,     0.92318,     0.92238,     0.92135,     0.91992,      0.9195,     0.91837,     0.91656,     0.91541,     0.91498,     0.91332,\n",
       "            0.91235,     0.91104,     0.91021,      0.9092,     0.90753,     0.90587,      0.9044,     0.90276,     0.90174,     0.90072,     0.89912,     0.89833,     0.89718,     0.89619,     0.89542,     0.89439,     0.89316,     0.89183,     0.89067,     0.88923,     0.88729,     0.88594,     0.88325,\n",
       "            0.88211,     0.88093,     0.87932,     0.87783,     0.87656,     0.87528,     0.87353,     0.87213,     0.87003,     0.86906,     0.86796,     0.86589,     0.86397,     0.86249,     0.86075,     0.85964,     0.85875,     0.85709,     0.85546,     0.85431,     0.85211,     0.85122,     0.84916,\n",
       "            0.84676,     0.84537,     0.84278,     0.84047,     0.83883,     0.83649,     0.83453,     0.83319,     0.83049,     0.82818,     0.82632,     0.82361,     0.82221,     0.82029,     0.81758,     0.81556,     0.81359,     0.81077,      0.8081,     0.80657,     0.80372,     0.80176,     0.79891,\n",
       "             0.7973,     0.79571,     0.79357,     0.79067,     0.78834,     0.78528,     0.78236,     0.78008,     0.77637,     0.77311,     0.77058,     0.76806,     0.76559,     0.76291,     0.76057,     0.75819,     0.75607,     0.75339,     0.74952,     0.74625,     0.74402,     0.73979,      0.7368,\n",
       "            0.73391,     0.73156,     0.72951,     0.72687,     0.72328,     0.72125,     0.71891,     0.71703,     0.71388,     0.71092,     0.70779,     0.70428,     0.70169,     0.69813,     0.69534,     0.69168,     0.68877,     0.68453,     0.68119,     0.67752,     0.67359,     0.66904,     0.66678,\n",
       "             0.6632,     0.66053,     0.65806,     0.65542,     0.65217,     0.64851,     0.64492,     0.64127,     0.63768,     0.63492,      0.6319,     0.62918,     0.62554,     0.62208,     0.61873,     0.61414,     0.61017,     0.60545,     0.60177,     0.59776,     0.59493,     0.59096,     0.58736,\n",
       "             0.5844,      0.5804,     0.57589,     0.57188,     0.56725,      0.5635,     0.55947,      0.5536,     0.54895,     0.54479,     0.54048,     0.53558,     0.53171,     0.52576,     0.52233,     0.51697,     0.51207,     0.50609,     0.50268,     0.49783,     0.49339,     0.48812,     0.48184,\n",
       "            0.47619,     0.47219,     0.46658,     0.46251,     0.45819,     0.45258,     0.44745,     0.44201,     0.43756,     0.43356,     0.42874,     0.42248,     0.41846,     0.41265,     0.40824,     0.40391,     0.39804,     0.39476,     0.38837,     0.38344,     0.37792,     0.37353,     0.37073,\n",
       "            0.36558,     0.35866,     0.35523,     0.34739,     0.34178,      0.3371,     0.33217,     0.32848,     0.32223,     0.31566,     0.30922,     0.30326,     0.29757,      0.2898,     0.28589,     0.27979,     0.27393,     0.26802,     0.26136,     0.25566,     0.24963,     0.24575,     0.23875,\n",
       "            0.23453,      0.2277,     0.22333,     0.21839,     0.21182,     0.20451,     0.19809,     0.19202,      0.1845,     0.17594,      0.1677,     0.16005,     0.15392,     0.14635,     0.13557,     0.12989,      0.1207,      0.1123,    0.099514,    0.095972,    0.095641,     0.09531,    0.094979,\n",
       "           0.094648,    0.094317,    0.093987,    0.093656,    0.093325,    0.092994,    0.092663,    0.092332,    0.092001,     0.09167,    0.091339,    0.091008,    0.090677,    0.090346,    0.090015,    0.089684,    0.089353,    0.089022,    0.088692,    0.088361,     0.08803,    0.087699,    0.087368,\n",
       "           0.087037,    0.086706,    0.086375,    0.086044,    0.085713,    0.085382,    0.085051,     0.08472,    0.084389,    0.084058,    0.083727,    0.083397,    0.083066,    0.082735,    0.082404,    0.082073,    0.081742,    0.081411,     0.08108,    0.080749,    0.080418,    0.080087,    0.079756,\n",
       "           0.079425,    0.079094,    0.078763,    0.078432,    0.078101,    0.077771,     0.07744,    0.077109,    0.076778,    0.076447,    0.076116,    0.075785,    0.075454,    0.075123,    0.074792,    0.074461,     0.07413,    0.073799,    0.073468,    0.073137,    0.072806,    0.072476,    0.072145,\n",
       "           0.071814,    0.071483,    0.071152,    0.070821,     0.07049,    0.070159,    0.069828,    0.069497,    0.069166,    0.068835,    0.068504,    0.068173,    0.067842,    0.067511,    0.067181,     0.06685,    0.066519,    0.066188,    0.065857,    0.065526,    0.065195,    0.064864,    0.064533,\n",
       "           0.064202,    0.063871,     0.06354,    0.063209,    0.062878,    0.062547,    0.062216,    0.061886,    0.061555,    0.061224,    0.060893,    0.060562,    0.060231,      0.0599,    0.059569,    0.059238,    0.058907,    0.058576,    0.058245,    0.057914,    0.057583,    0.057252,    0.056921,\n",
       "            0.05659,     0.05626,    0.055929,    0.055598,    0.055267,    0.054936,    0.054605,    0.054274,    0.053943,    0.053612,    0.053281,     0.05295,    0.052619,    0.052288,    0.051957,    0.051626,    0.051295,    0.050965,    0.050634,    0.050303,    0.049972,    0.049641,     0.04931,\n",
       "           0.048979,    0.048648,    0.048317,    0.047986,    0.047655,    0.047324,    0.046993,    0.046662,    0.046331,       0.046,     0.04567,    0.045339,    0.045008,    0.044677,    0.044346,    0.044015,    0.043684,    0.043353,    0.043022,    0.042691,     0.04236,    0.042029,    0.041698,\n",
       "           0.041367,    0.041036,    0.040705,    0.040374,    0.040044,    0.039713,    0.039382,    0.039051,     0.03872,    0.038389,    0.038058,    0.037727,    0.037396,    0.037065,    0.036734,    0.036403,    0.036072,    0.035741,     0.03541,    0.035079,    0.034749,    0.034418,    0.034087,\n",
       "           0.033756,    0.033425,    0.033094,    0.032763,    0.032432,    0.032101,     0.03177,    0.031439,    0.031108,    0.030777,    0.030446,    0.030115,    0.029784,    0.029454,    0.029123,    0.028792,    0.028461,     0.02813,    0.027799,    0.027468,    0.027137,    0.026806,    0.026475,\n",
       "           0.026144,    0.025813,    0.025482,    0.025151,     0.02482,    0.024489,    0.024159,    0.023828,    0.023497,    0.023166,    0.022835,    0.022504,    0.022173,    0.021842,    0.021511,     0.02118,    0.020849,    0.020518,    0.020187,    0.019856,    0.019525,    0.019194,    0.018863,\n",
       "           0.018533,    0.018202,    0.017871,     0.01754,    0.017209,    0.016878,    0.016547,    0.016216,    0.015885,    0.015554,    0.015223,    0.014892,    0.014561,     0.01423,    0.013899,    0.013568,    0.013238,    0.012907,    0.012576,    0.012245,    0.011914,    0.011583,    0.011252,\n",
       "           0.010921,     0.01059,    0.010259,   0.0099282,   0.0095972,   0.0092663,   0.0089353,   0.0086044,   0.0082735,   0.0079425,   0.0076116,   0.0072806,   0.0069497,   0.0066188,   0.0062878,   0.0059569,    0.005626,    0.005295,   0.0049641,   0.0046331,   0.0043022,   0.0039713,   0.0036403,\n",
       "          0.0033094,   0.0029784,   0.0026475,   0.0023166,   0.0019856,   0.0016547,   0.0013238,  0.00099282,  0.00066188,  0.00033094,           0]]), 'Recall', 'Precision'], [array([          0,    0.001001,    0.002002,    0.003003,    0.004004,    0.005005,    0.006006,    0.007007,    0.008008,    0.009009,     0.01001,    0.011011,    0.012012,    0.013013,    0.014014,    0.015015,    0.016016,    0.017017,    0.018018,    0.019019,     0.02002,    0.021021,    0.022022,    0.023023,\n",
       "          0.024024,    0.025025,    0.026026,    0.027027,    0.028028,    0.029029,     0.03003,    0.031031,    0.032032,    0.033033,    0.034034,    0.035035,    0.036036,    0.037037,    0.038038,    0.039039,     0.04004,    0.041041,    0.042042,    0.043043,    0.044044,    0.045045,    0.046046,    0.047047,\n",
       "          0.048048,    0.049049,     0.05005,    0.051051,    0.052052,    0.053053,    0.054054,    0.055055,    0.056056,    0.057057,    0.058058,    0.059059,     0.06006,    0.061061,    0.062062,    0.063063,    0.064064,    0.065065,    0.066066,    0.067067,    0.068068,    0.069069,     0.07007,    0.071071,\n",
       "          0.072072,    0.073073,    0.074074,    0.075075,    0.076076,    0.077077,    0.078078,    0.079079,     0.08008,    0.081081,    0.082082,    0.083083,    0.084084,    0.085085,    0.086086,    0.087087,    0.088088,    0.089089,     0.09009,    0.091091,    0.092092,    0.093093,    0.094094,    0.095095,\n",
       "          0.096096,    0.097097,    0.098098,    0.099099,      0.1001,      0.1011,      0.1021,      0.1031,      0.1041,     0.10511,     0.10611,     0.10711,     0.10811,     0.10911,     0.11011,     0.11111,     0.11211,     0.11311,     0.11411,     0.11512,     0.11612,     0.11712,     0.11812,     0.11912,\n",
       "           0.12012,     0.12112,     0.12212,     0.12312,     0.12412,     0.12513,     0.12613,     0.12713,     0.12813,     0.12913,     0.13013,     0.13113,     0.13213,     0.13313,     0.13413,     0.13514,     0.13614,     0.13714,     0.13814,     0.13914,     0.14014,     0.14114,     0.14214,     0.14314,\n",
       "           0.14414,     0.14515,     0.14615,     0.14715,     0.14815,     0.14915,     0.15015,     0.15115,     0.15215,     0.15315,     0.15415,     0.15516,     0.15616,     0.15716,     0.15816,     0.15916,     0.16016,     0.16116,     0.16216,     0.16316,     0.16416,     0.16517,     0.16617,     0.16717,\n",
       "           0.16817,     0.16917,     0.17017,     0.17117,     0.17217,     0.17317,     0.17417,     0.17518,     0.17618,     0.17718,     0.17818,     0.17918,     0.18018,     0.18118,     0.18218,     0.18318,     0.18418,     0.18519,     0.18619,     0.18719,     0.18819,     0.18919,     0.19019,     0.19119,\n",
       "           0.19219,     0.19319,     0.19419,      0.1952,      0.1962,      0.1972,      0.1982,      0.1992,      0.2002,      0.2012,      0.2022,      0.2032,      0.2042,     0.20521,     0.20621,     0.20721,     0.20821,     0.20921,     0.21021,     0.21121,     0.21221,     0.21321,     0.21421,     0.21522,\n",
       "           0.21622,     0.21722,     0.21822,     0.21922,     0.22022,     0.22122,     0.22222,     0.22322,     0.22422,     0.22523,     0.22623,     0.22723,     0.22823,     0.22923,     0.23023,     0.23123,     0.23223,     0.23323,     0.23423,     0.23524,     0.23624,     0.23724,     0.23824,     0.23924,\n",
       "           0.24024,     0.24124,     0.24224,     0.24324,     0.24424,     0.24525,     0.24625,     0.24725,     0.24825,     0.24925,     0.25025,     0.25125,     0.25225,     0.25325,     0.25425,     0.25526,     0.25626,     0.25726,     0.25826,     0.25926,     0.26026,     0.26126,     0.26226,     0.26326,\n",
       "           0.26426,     0.26527,     0.26627,     0.26727,     0.26827,     0.26927,     0.27027,     0.27127,     0.27227,     0.27327,     0.27427,     0.27528,     0.27628,     0.27728,     0.27828,     0.27928,     0.28028,     0.28128,     0.28228,     0.28328,     0.28428,     0.28529,     0.28629,     0.28729,\n",
       "           0.28829,     0.28929,     0.29029,     0.29129,     0.29229,     0.29329,     0.29429,      0.2953,      0.2963,      0.2973,      0.2983,      0.2993,      0.3003,      0.3013,      0.3023,      0.3033,      0.3043,     0.30531,     0.30631,     0.30731,     0.30831,     0.30931,     0.31031,     0.31131,\n",
       "           0.31231,     0.31331,     0.31431,     0.31532,     0.31632,     0.31732,     0.31832,     0.31932,     0.32032,     0.32132,     0.32232,     0.32332,     0.32432,     0.32533,     0.32633,     0.32733,     0.32833,     0.32933,     0.33033,     0.33133,     0.33233,     0.33333,     0.33433,     0.33534,\n",
       "           0.33634,     0.33734,     0.33834,     0.33934,     0.34034,     0.34134,     0.34234,     0.34334,     0.34434,     0.34535,     0.34635,     0.34735,     0.34835,     0.34935,     0.35035,     0.35135,     0.35235,     0.35335,     0.35435,     0.35536,     0.35636,     0.35736,     0.35836,     0.35936,\n",
       "           0.36036,     0.36136,     0.36236,     0.36336,     0.36436,     0.36537,     0.36637,     0.36737,     0.36837,     0.36937,     0.37037,     0.37137,     0.37237,     0.37337,     0.37437,     0.37538,     0.37638,     0.37738,     0.37838,     0.37938,     0.38038,     0.38138,     0.38238,     0.38338,\n",
       "           0.38438,     0.38539,     0.38639,     0.38739,     0.38839,     0.38939,     0.39039,     0.39139,     0.39239,     0.39339,     0.39439,      0.3954,      0.3964,      0.3974,      0.3984,      0.3994,      0.4004,      0.4014,      0.4024,      0.4034,      0.4044,     0.40541,     0.40641,     0.40741,\n",
       "           0.40841,     0.40941,     0.41041,     0.41141,     0.41241,     0.41341,     0.41441,     0.41542,     0.41642,     0.41742,     0.41842,     0.41942,     0.42042,     0.42142,     0.42242,     0.42342,     0.42442,     0.42543,     0.42643,     0.42743,     0.42843,     0.42943,     0.43043,     0.43143,\n",
       "           0.43243,     0.43343,     0.43443,     0.43544,     0.43644,     0.43744,     0.43844,     0.43944,     0.44044,     0.44144,     0.44244,     0.44344,     0.44444,     0.44545,     0.44645,     0.44745,     0.44845,     0.44945,     0.45045,     0.45145,     0.45245,     0.45345,     0.45445,     0.45546,\n",
       "           0.45646,     0.45746,     0.45846,     0.45946,     0.46046,     0.46146,     0.46246,     0.46346,     0.46446,     0.46547,     0.46647,     0.46747,     0.46847,     0.46947,     0.47047,     0.47147,     0.47247,     0.47347,     0.47447,     0.47548,     0.47648,     0.47748,     0.47848,     0.47948,\n",
       "           0.48048,     0.48148,     0.48248,     0.48348,     0.48448,     0.48549,     0.48649,     0.48749,     0.48849,     0.48949,     0.49049,     0.49149,     0.49249,     0.49349,     0.49449,      0.4955,      0.4965,      0.4975,      0.4985,      0.4995,      0.5005,      0.5015,      0.5025,      0.5035,\n",
       "            0.5045,     0.50551,     0.50651,     0.50751,     0.50851,     0.50951,     0.51051,     0.51151,     0.51251,     0.51351,     0.51451,     0.51552,     0.51652,     0.51752,     0.51852,     0.51952,     0.52052,     0.52152,     0.52252,     0.52352,     0.52452,     0.52553,     0.52653,     0.52753,\n",
       "           0.52853,     0.52953,     0.53053,     0.53153,     0.53253,     0.53353,     0.53453,     0.53554,     0.53654,     0.53754,     0.53854,     0.53954,     0.54054,     0.54154,     0.54254,     0.54354,     0.54454,     0.54555,     0.54655,     0.54755,     0.54855,     0.54955,     0.55055,     0.55155,\n",
       "           0.55255,     0.55355,     0.55455,     0.55556,     0.55656,     0.55756,     0.55856,     0.55956,     0.56056,     0.56156,     0.56256,     0.56356,     0.56456,     0.56557,     0.56657,     0.56757,     0.56857,     0.56957,     0.57057,     0.57157,     0.57257,     0.57357,     0.57457,     0.57558,\n",
       "           0.57658,     0.57758,     0.57858,     0.57958,     0.58058,     0.58158,     0.58258,     0.58358,     0.58458,     0.58559,     0.58659,     0.58759,     0.58859,     0.58959,     0.59059,     0.59159,     0.59259,     0.59359,     0.59459,      0.5956,      0.5966,      0.5976,      0.5986,      0.5996,\n",
       "            0.6006,      0.6016,      0.6026,      0.6036,      0.6046,     0.60561,     0.60661,     0.60761,     0.60861,     0.60961,     0.61061,     0.61161,     0.61261,     0.61361,     0.61461,     0.61562,     0.61662,     0.61762,     0.61862,     0.61962,     0.62062,     0.62162,     0.62262,     0.62362,\n",
       "           0.62462,     0.62563,     0.62663,     0.62763,     0.62863,     0.62963,     0.63063,     0.63163,     0.63263,     0.63363,     0.63463,     0.63564,     0.63664,     0.63764,     0.63864,     0.63964,     0.64064,     0.64164,     0.64264,     0.64364,     0.64464,     0.64565,     0.64665,     0.64765,\n",
       "           0.64865,     0.64965,     0.65065,     0.65165,     0.65265,     0.65365,     0.65465,     0.65566,     0.65666,     0.65766,     0.65866,     0.65966,     0.66066,     0.66166,     0.66266,     0.66366,     0.66466,     0.66567,     0.66667,     0.66767,     0.66867,     0.66967,     0.67067,     0.67167,\n",
       "           0.67267,     0.67367,     0.67467,     0.67568,     0.67668,     0.67768,     0.67868,     0.67968,     0.68068,     0.68168,     0.68268,     0.68368,     0.68468,     0.68569,     0.68669,     0.68769,     0.68869,     0.68969,     0.69069,     0.69169,     0.69269,     0.69369,     0.69469,      0.6957,\n",
       "            0.6967,      0.6977,      0.6987,      0.6997,      0.7007,      0.7017,      0.7027,      0.7037,      0.7047,     0.70571,     0.70671,     0.70771,     0.70871,     0.70971,     0.71071,     0.71171,     0.71271,     0.71371,     0.71471,     0.71572,     0.71672,     0.71772,     0.71872,     0.71972,\n",
       "           0.72072,     0.72172,     0.72272,     0.72372,     0.72472,     0.72573,     0.72673,     0.72773,     0.72873,     0.72973,     0.73073,     0.73173,     0.73273,     0.73373,     0.73473,     0.73574,     0.73674,     0.73774,     0.73874,     0.73974,     0.74074,     0.74174,     0.74274,     0.74374,\n",
       "           0.74474,     0.74575,     0.74675,     0.74775,     0.74875,     0.74975,     0.75075,     0.75175,     0.75275,     0.75375,     0.75475,     0.75576,     0.75676,     0.75776,     0.75876,     0.75976,     0.76076,     0.76176,     0.76276,     0.76376,     0.76476,     0.76577,     0.76677,     0.76777,\n",
       "           0.76877,     0.76977,     0.77077,     0.77177,     0.77277,     0.77377,     0.77477,     0.77578,     0.77678,     0.77778,     0.77878,     0.77978,     0.78078,     0.78178,     0.78278,     0.78378,     0.78478,     0.78579,     0.78679,     0.78779,     0.78879,     0.78979,     0.79079,     0.79179,\n",
       "           0.79279,     0.79379,     0.79479,      0.7958,      0.7968,      0.7978,      0.7988,      0.7998,      0.8008,      0.8018,      0.8028,      0.8038,      0.8048,     0.80581,     0.80681,     0.80781,     0.80881,     0.80981,     0.81081,     0.81181,     0.81281,     0.81381,     0.81481,     0.81582,\n",
       "           0.81682,     0.81782,     0.81882,     0.81982,     0.82082,     0.82182,     0.82282,     0.82382,     0.82482,     0.82583,     0.82683,     0.82783,     0.82883,     0.82983,     0.83083,     0.83183,     0.83283,     0.83383,     0.83483,     0.83584,     0.83684,     0.83784,     0.83884,     0.83984,\n",
       "           0.84084,     0.84184,     0.84284,     0.84384,     0.84484,     0.84585,     0.84685,     0.84785,     0.84885,     0.84985,     0.85085,     0.85185,     0.85285,     0.85385,     0.85485,     0.85586,     0.85686,     0.85786,     0.85886,     0.85986,     0.86086,     0.86186,     0.86286,     0.86386,\n",
       "           0.86486,     0.86587,     0.86687,     0.86787,     0.86887,     0.86987,     0.87087,     0.87187,     0.87287,     0.87387,     0.87487,     0.87588,     0.87688,     0.87788,     0.87888,     0.87988,     0.88088,     0.88188,     0.88288,     0.88388,     0.88488,     0.88589,     0.88689,     0.88789,\n",
       "           0.88889,     0.88989,     0.89089,     0.89189,     0.89289,     0.89389,     0.89489,      0.8959,      0.8969,      0.8979,      0.8989,      0.8999,      0.9009,      0.9019,      0.9029,      0.9039,      0.9049,     0.90591,     0.90691,     0.90791,     0.90891,     0.90991,     0.91091,     0.91191,\n",
       "           0.91291,     0.91391,     0.91491,     0.91592,     0.91692,     0.91792,     0.91892,     0.91992,     0.92092,     0.92192,     0.92292,     0.92392,     0.92492,     0.92593,     0.92693,     0.92793,     0.92893,     0.92993,     0.93093,     0.93193,     0.93293,     0.93393,     0.93493,     0.93594,\n",
       "           0.93694,     0.93794,     0.93894,     0.93994,     0.94094,     0.94194,     0.94294,     0.94394,     0.94494,     0.94595,     0.94695,     0.94795,     0.94895,     0.94995,     0.95095,     0.95195,     0.95295,     0.95395,     0.95495,     0.95596,     0.95696,     0.95796,     0.95896,     0.95996,\n",
       "           0.96096,     0.96196,     0.96296,     0.96396,     0.96496,     0.96597,     0.96697,     0.96797,     0.96897,     0.96997,     0.97097,     0.97197,     0.97297,     0.97397,     0.97497,     0.97598,     0.97698,     0.97798,     0.97898,     0.97998,     0.98098,     0.98198,     0.98298,     0.98398,\n",
       "           0.98498,     0.98599,     0.98699,     0.98799,     0.98899,     0.98999,     0.99099,     0.99199,     0.99299,     0.99399,     0.99499,       0.996,       0.997,       0.998,       0.999,           1]), array([[    0.16935,     0.16935,     0.21177,     0.24124,     0.26396,     0.28288,     0.29955,     0.31325,     0.32638,     0.33777,     0.34868,     0.35776,     0.36679,     0.37509,     0.38336,     0.39113,     0.39782,     0.40467,     0.41123,     0.41756,       0.424,     0.42983,     0.43548,\n",
       "             0.4407,     0.44573,     0.45051,     0.45522,     0.45997,     0.46452,     0.46862,     0.47277,     0.47696,     0.48045,     0.48451,     0.48816,     0.49156,     0.49476,     0.49762,      0.5011,     0.50383,     0.50702,     0.51026,     0.51276,     0.51607,     0.51894,     0.52161,\n",
       "            0.52429,     0.52665,     0.52921,     0.53198,     0.53449,     0.53676,     0.53955,     0.54193,     0.54419,     0.54619,      0.5485,      0.5505,     0.55265,     0.55487,     0.55674,     0.55875,     0.56028,     0.56235,     0.56414,     0.56583,     0.56761,     0.56936,     0.57194,\n",
       "            0.57379,      0.5751,     0.57691,      0.5783,     0.57987,     0.58141,     0.58316,     0.58437,      0.5858,     0.58732,     0.58849,     0.59002,     0.59146,     0.59263,     0.59385,     0.59501,     0.59669,     0.59775,     0.59889,      0.6001,     0.60106,     0.60246,     0.60328,\n",
       "            0.60421,     0.60533,     0.60635,     0.60721,     0.60799,     0.60905,     0.60997,     0.61062,     0.61162,     0.61272,     0.61341,     0.61427,     0.61506,     0.61588,     0.61671,     0.61759,     0.61796,     0.61884,      0.6195,     0.62006,     0.62078,     0.62135,     0.62184,\n",
       "            0.62249,     0.62324,     0.62375,     0.62463,     0.62523,     0.62604,      0.6264,     0.62708,     0.62768,      0.6281,     0.62861,     0.62894,     0.62974,     0.63029,     0.63068,      0.6312,     0.63176,     0.63247,     0.63286,     0.63356,     0.63409,     0.63471,     0.63516,\n",
       "            0.63574,     0.63613,     0.63671,     0.63713,      0.6377,     0.63809,     0.63828,     0.63888,     0.63918,     0.63967,     0.63993,     0.64047,     0.64082,     0.64095,     0.64127,     0.64198,     0.64228,     0.64254,     0.64271,     0.64304,     0.64297,     0.64318,     0.64332,\n",
       "             0.6435,     0.64397,     0.64425,     0.64451,     0.64471,     0.64487,     0.64493,     0.64498,     0.64537,     0.64563,     0.64591,     0.64622,     0.64654,     0.64695,     0.64722,     0.64733,     0.64747,     0.64776,     0.64815,     0.64846,     0.64871,     0.64875,       0.649,\n",
       "            0.64898,     0.64928,     0.64935,     0.64943,     0.64956,      0.6497,     0.64992,     0.64996,     0.65011,     0.65015,     0.65023,     0.65036,     0.65061,     0.65062,      0.6509,     0.65106,      0.6513,     0.65169,     0.65165,     0.65186,     0.65206,      0.6521,     0.65231,\n",
       "            0.65245,     0.65245,     0.65258,     0.65284,     0.65285,     0.65299,     0.65301,     0.65288,     0.65268,      0.6526,     0.65254,     0.65272,     0.65285,     0.65272,     0.65272,     0.65282,     0.65299,     0.65283,      0.6528,     0.65293,      0.6528,     0.65301,     0.65318,\n",
       "            0.65309,     0.65296,     0.65298,     0.65303,     0.65316,     0.65296,     0.65308,     0.65289,     0.65281,     0.65275,     0.65282,     0.65283,     0.65288,     0.65268,     0.65254,     0.65267,     0.65269,     0.65246,     0.65263,     0.65274,     0.65247,     0.65232,     0.65234,\n",
       "            0.65228,     0.65228,     0.65217,     0.65209,     0.65203,     0.65205,       0.652,       0.652,     0.65181,     0.65179,     0.65194,     0.65186,     0.65166,     0.65157,     0.65162,     0.65152,     0.65124,     0.65134,     0.65089,     0.65077,     0.65091,     0.65068,     0.65031,\n",
       "            0.65019,      0.6501,     0.65013,     0.64977,     0.64976,     0.64938,     0.64888,     0.64876,     0.64856,     0.64844,     0.64832,     0.64809,     0.64805,     0.64798,     0.64769,     0.64769,     0.64756,     0.64732,     0.64703,     0.64669,     0.64652,     0.64653,     0.64643,\n",
       "            0.64607,     0.64606,     0.64594,     0.64565,     0.64543,     0.64529,     0.64499,     0.64475,     0.64464,     0.64439,     0.64419,     0.64408,     0.64389,     0.64346,     0.64313,     0.64301,     0.64292,     0.64289,     0.64291,     0.64286,     0.64237,     0.64241,     0.64232,\n",
       "            0.64216,     0.64198,     0.64168,     0.64148,     0.64122,     0.64112,     0.64092,     0.64069,     0.64031,     0.64019,     0.63992,     0.63969,     0.63943,     0.63898,     0.63873,     0.63807,     0.63793,      0.6377,     0.63763,      0.6373,     0.63719,     0.63669,     0.63639,\n",
       "            0.63606,     0.63574,     0.63563,     0.63546,     0.63522,     0.63498,     0.63473,     0.63463,     0.63453,     0.63423,     0.63406,     0.63391,     0.63365,     0.63347,     0.63315,      0.6324,     0.63215,     0.63183,      0.6315,     0.63134,     0.63126,      0.6311,     0.63092,\n",
       "            0.63059,     0.62997,     0.62955,     0.62931,     0.62923,     0.62892,      0.6287,     0.62834,     0.62781,     0.62761,     0.62735,     0.62713,     0.62651,     0.62629,     0.62588,     0.62563,     0.62552,     0.62525,     0.62504,     0.62469,     0.62441,     0.62419,     0.62355,\n",
       "            0.62326,     0.62298,     0.62242,      0.6221,      0.6219,     0.62159,     0.62127,     0.62092,     0.62039,     0.62026,     0.61991,     0.61976,     0.61954,     0.61922,     0.61897,     0.61875,     0.61814,     0.61796,     0.61787,     0.61761,     0.61726,     0.61711,     0.61665,\n",
       "            0.61637,     0.61597,     0.61564,     0.61534,       0.615,     0.61475,      0.6141,     0.61364,     0.61338,     0.61283,     0.61267,     0.61241,     0.61212,     0.61158,     0.61129,     0.61102,     0.61062,     0.61017,      0.6096,     0.60933,     0.60901,     0.60861,     0.60828,\n",
       "              0.608,     0.60781,     0.60761,     0.60725,     0.60682,     0.60641,     0.60597,     0.60564,     0.60507,      0.6045,       0.604,     0.60373,     0.60333,     0.60274,     0.60235,     0.60198,     0.60144,     0.60091,     0.60057,     0.60008,      0.5999,     0.59962,     0.59926,\n",
       "             0.5988,     0.59842,     0.59796,      0.5975,     0.59685,     0.59626,     0.59569,     0.59531,     0.59497,     0.59456,       0.594,     0.59359,     0.59318,     0.59273,     0.59241,     0.59197,     0.59137,     0.59107,     0.59059,     0.59005,     0.58929,     0.58889,     0.58838,\n",
       "              0.588,      0.5875,     0.58713,     0.58686,     0.58646,     0.58616,     0.58585,     0.58551,     0.58499,     0.58449,     0.58405,     0.58371,     0.58318,     0.58285,     0.58225,     0.58181,     0.58138,     0.58085,     0.58035,     0.57962,     0.57918,     0.57851,     0.57803,\n",
       "             0.5777,     0.57725,     0.57674,     0.57641,     0.57601,     0.57541,     0.57493,     0.57459,     0.57422,     0.57366,      0.5731,      0.5724,     0.57192,     0.57151,      0.5704,     0.56987,     0.56928,     0.56888,      0.5685,     0.56815,     0.56769,     0.56701,     0.56654,\n",
       "            0.56608,     0.56572,     0.56528,     0.56481,     0.56416,      0.5636,     0.56313,     0.56277,     0.56209,     0.56107,     0.56053,     0.56003,     0.55963,     0.55909,     0.55855,     0.55791,     0.55726,     0.55677,     0.55615,     0.55582,     0.55513,     0.55453,     0.55405,\n",
       "            0.55349,     0.55319,      0.5528,     0.55228,      0.5519,     0.55105,     0.55067,        0.55,     0.54915,     0.54877,     0.54825,     0.54761,     0.54722,     0.54686,     0.54639,     0.54576,     0.54518,     0.54462,      0.5439,     0.54331,     0.54276,     0.54216,     0.54163,\n",
       "            0.54102,      0.5403,     0.53993,     0.53933,     0.53895,     0.53773,     0.53718,     0.53678,     0.53617,     0.53569,     0.53521,     0.53456,     0.53389,     0.53322,     0.53243,     0.53209,     0.53153,     0.53095,     0.53042,     0.52986,     0.52918,     0.52787,     0.52744,\n",
       "            0.52682,     0.52592,     0.52522,      0.5247,       0.524,     0.52308,      0.5225,     0.52184,     0.52121,     0.52033,     0.51996,     0.51938,     0.51835,     0.51757,     0.51672,     0.51611,     0.51529,     0.51454,      0.5139,      0.5134,     0.51305,     0.51208,     0.51116,\n",
       "            0.51023,     0.50973,     0.50897,     0.50792,     0.50762,     0.50696,     0.50628,     0.50551,     0.50475,      0.5043,     0.50354,     0.50247,     0.50206,     0.50142,     0.50076,     0.49991,     0.49933,      0.4986,     0.49781,      0.4965,     0.49578,       0.495,     0.49422,\n",
       "            0.49362,     0.49308,     0.49274,     0.49207,     0.49121,     0.49029,     0.48948,     0.48898,     0.48824,      0.4875,     0.48698,     0.48624,     0.48561,     0.48526,     0.48416,     0.48364,     0.48288,     0.48224,     0.48054,     0.47989,     0.47917,     0.47846,      0.4776,\n",
       "            0.47702,     0.47627,     0.47549,     0.47402,     0.47304,     0.47243,     0.47162,     0.47074,     0.46994,     0.46956,     0.46797,     0.46701,      0.4662,     0.46478,      0.4637,     0.46295,     0.46163,     0.46157,     0.46042,     0.46022,     0.45873,     0.45694,     0.45681,\n",
       "            0.45536,     0.45532,     0.45359,     0.45145,     0.45129,     0.44983,     0.44975,      0.4479,     0.44575,      0.4457,     0.44421,     0.44289,     0.44273,      0.4408,     0.44064,     0.43894,     0.43722,     0.43695,     0.43571,     0.43562,     0.43361,     0.43191,     0.43182,\n",
       "            0.43015,     0.42999,     0.42836,     0.42706,     0.42693,     0.42531,     0.42383,     0.42379,     0.42201,     0.41955,     0.41941,     0.41769,     0.41569,     0.41552,     0.41385,     0.41201,     0.41194,     0.41007,     0.41005,     0.40775,     0.40584,      0.4058,     0.40334,\n",
       "            0.40133,      0.4011,     0.39929,     0.39698,     0.39443,     0.39409,     0.39204,     0.39191,     0.38997,     0.38831,     0.38813,     0.38596,     0.38399,     0.38363,     0.38141,     0.37972,     0.37949,     0.37719,     0.37452,     0.37443,     0.37191,      0.3699,     0.36728,\n",
       "            0.36717,     0.36446,     0.36179,     0.35917,     0.35894,     0.35641,     0.35391,     0.35372,     0.35115,     0.34805,     0.34504,     0.34498,     0.34312,     0.33994,     0.33974,     0.33662,     0.33377,     0.33354,     0.33098,     0.32836,     0.32518,     0.32175,      0.3214,\n",
       "            0.31758,     0.31447,     0.31117,      0.3111,     0.30744,     0.30393,     0.30034,     0.30014,     0.29614,     0.29297,     0.28972,     0.28957,     0.28571,     0.28242,     0.27809,     0.27424,     0.27368,     0.27081,      0.2662,     0.26248,      0.2591,     0.25505,     0.25488,\n",
       "            0.25068,     0.24609,     0.24157,     0.23702,      0.2365,     0.23209,      0.2271,     0.22283,     0.21783,     0.21307,     0.21253,     0.20757,     0.20414,     0.19997,     0.19537,     0.19064,     0.18626,     0.18137,      0.1774,     0.17687,     0.17235,     0.16782,     0.16329,\n",
       "            0.15938,     0.15468,     0.15064,     0.14601,     0.14531,     0.14067,     0.13524,     0.13082,     0.12655,     0.12282,     0.11924,      0.1151,     0.10958,     0.10557,     0.10172,    0.098092,     0.09457,    0.090866,    0.086646,    0.082113,    0.077923,     0.07457,    0.071817,\n",
       "           0.068872,     0.06598,    0.063388,    0.060912,    0.058865,    0.055942,    0.053759,    0.051072,    0.048565,    0.043536,    0.041136,    0.039172,    0.037332,    0.035107,    0.033642,    0.032175,    0.030257,    0.028272,    0.026796,    0.025703,     0.02448,     0.02229,    0.020805,\n",
       "           0.019769,    0.018668,    0.017437,    0.016657,    0.015747,    0.014511,    0.013859,    0.012036,    0.011707,    0.011248,    0.010529,    0.010134,   0.0093488,   0.0087583,   0.0082327,   0.0075762,   0.0065269,   0.0061965,   0.0059853,   0.0054927,   0.0052702,   0.0051292,    0.004674,\n",
       "          0.0044741,   0.0038151,   0.0036151,   0.0032837,   0.0030658,   0.0030146,   0.0028144,   0.0026798,   0.0024138,   0.0022905,   0.0022101,   0.0020754,   0.0018584,   0.0016925,   0.0015398,   0.0014114,   0.0012273,   0.0011354,   0.0010267,  0.00086571,  0.00072742,  0.00065998,  0.00061442,\n",
       "         0.00055798,  0.00049053,  0.00042307,    0.000327,  0.00030451,  0.00028202,  0.00026007,   0.0002408,  0.00022152,  0.00020224,  0.00017205,  0.00013831,   0.0001253,  0.00011736,  0.00010942,  0.00010148,  9.3541e-05,  8.5602e-05,  7.7663e-05,  6.9724e-05,           0,           0,           0,\n",
       "                  0,           0,           0,           0,           0,           0,           0,           0,           0,           0,           0,           0,           0,           0,           0,           0,           0,           0,           0,           0,           0,           0,           0,\n",
       "                  0,           0,           0,           0,           0,           0,           0,           0,           0,           0,           0,           0,           0,           0,           0,           0,           0,           0,           0,           0,           0,           0,           0,\n",
       "                  0,           0,           0,           0,           0,           0,           0,           0,           0,           0,           0]]), 'Confidence', 'F1'], [array([          0,    0.001001,    0.002002,    0.003003,    0.004004,    0.005005,    0.006006,    0.007007,    0.008008,    0.009009,     0.01001,    0.011011,    0.012012,    0.013013,    0.014014,    0.015015,    0.016016,    0.017017,    0.018018,    0.019019,     0.02002,    0.021021,    0.022022,    0.023023,\n",
       "          0.024024,    0.025025,    0.026026,    0.027027,    0.028028,    0.029029,     0.03003,    0.031031,    0.032032,    0.033033,    0.034034,    0.035035,    0.036036,    0.037037,    0.038038,    0.039039,     0.04004,    0.041041,    0.042042,    0.043043,    0.044044,    0.045045,    0.046046,    0.047047,\n",
       "          0.048048,    0.049049,     0.05005,    0.051051,    0.052052,    0.053053,    0.054054,    0.055055,    0.056056,    0.057057,    0.058058,    0.059059,     0.06006,    0.061061,    0.062062,    0.063063,    0.064064,    0.065065,    0.066066,    0.067067,    0.068068,    0.069069,     0.07007,    0.071071,\n",
       "          0.072072,    0.073073,    0.074074,    0.075075,    0.076076,    0.077077,    0.078078,    0.079079,     0.08008,    0.081081,    0.082082,    0.083083,    0.084084,    0.085085,    0.086086,    0.087087,    0.088088,    0.089089,     0.09009,    0.091091,    0.092092,    0.093093,    0.094094,    0.095095,\n",
       "          0.096096,    0.097097,    0.098098,    0.099099,      0.1001,      0.1011,      0.1021,      0.1031,      0.1041,     0.10511,     0.10611,     0.10711,     0.10811,     0.10911,     0.11011,     0.11111,     0.11211,     0.11311,     0.11411,     0.11512,     0.11612,     0.11712,     0.11812,     0.11912,\n",
       "           0.12012,     0.12112,     0.12212,     0.12312,     0.12412,     0.12513,     0.12613,     0.12713,     0.12813,     0.12913,     0.13013,     0.13113,     0.13213,     0.13313,     0.13413,     0.13514,     0.13614,     0.13714,     0.13814,     0.13914,     0.14014,     0.14114,     0.14214,     0.14314,\n",
       "           0.14414,     0.14515,     0.14615,     0.14715,     0.14815,     0.14915,     0.15015,     0.15115,     0.15215,     0.15315,     0.15415,     0.15516,     0.15616,     0.15716,     0.15816,     0.15916,     0.16016,     0.16116,     0.16216,     0.16316,     0.16416,     0.16517,     0.16617,     0.16717,\n",
       "           0.16817,     0.16917,     0.17017,     0.17117,     0.17217,     0.17317,     0.17417,     0.17518,     0.17618,     0.17718,     0.17818,     0.17918,     0.18018,     0.18118,     0.18218,     0.18318,     0.18418,     0.18519,     0.18619,     0.18719,     0.18819,     0.18919,     0.19019,     0.19119,\n",
       "           0.19219,     0.19319,     0.19419,      0.1952,      0.1962,      0.1972,      0.1982,      0.1992,      0.2002,      0.2012,      0.2022,      0.2032,      0.2042,     0.20521,     0.20621,     0.20721,     0.20821,     0.20921,     0.21021,     0.21121,     0.21221,     0.21321,     0.21421,     0.21522,\n",
       "           0.21622,     0.21722,     0.21822,     0.21922,     0.22022,     0.22122,     0.22222,     0.22322,     0.22422,     0.22523,     0.22623,     0.22723,     0.22823,     0.22923,     0.23023,     0.23123,     0.23223,     0.23323,     0.23423,     0.23524,     0.23624,     0.23724,     0.23824,     0.23924,\n",
       "           0.24024,     0.24124,     0.24224,     0.24324,     0.24424,     0.24525,     0.24625,     0.24725,     0.24825,     0.24925,     0.25025,     0.25125,     0.25225,     0.25325,     0.25425,     0.25526,     0.25626,     0.25726,     0.25826,     0.25926,     0.26026,     0.26126,     0.26226,     0.26326,\n",
       "           0.26426,     0.26527,     0.26627,     0.26727,     0.26827,     0.26927,     0.27027,     0.27127,     0.27227,     0.27327,     0.27427,     0.27528,     0.27628,     0.27728,     0.27828,     0.27928,     0.28028,     0.28128,     0.28228,     0.28328,     0.28428,     0.28529,     0.28629,     0.28729,\n",
       "           0.28829,     0.28929,     0.29029,     0.29129,     0.29229,     0.29329,     0.29429,      0.2953,      0.2963,      0.2973,      0.2983,      0.2993,      0.3003,      0.3013,      0.3023,      0.3033,      0.3043,     0.30531,     0.30631,     0.30731,     0.30831,     0.30931,     0.31031,     0.31131,\n",
       "           0.31231,     0.31331,     0.31431,     0.31532,     0.31632,     0.31732,     0.31832,     0.31932,     0.32032,     0.32132,     0.32232,     0.32332,     0.32432,     0.32533,     0.32633,     0.32733,     0.32833,     0.32933,     0.33033,     0.33133,     0.33233,     0.33333,     0.33433,     0.33534,\n",
       "           0.33634,     0.33734,     0.33834,     0.33934,     0.34034,     0.34134,     0.34234,     0.34334,     0.34434,     0.34535,     0.34635,     0.34735,     0.34835,     0.34935,     0.35035,     0.35135,     0.35235,     0.35335,     0.35435,     0.35536,     0.35636,     0.35736,     0.35836,     0.35936,\n",
       "           0.36036,     0.36136,     0.36236,     0.36336,     0.36436,     0.36537,     0.36637,     0.36737,     0.36837,     0.36937,     0.37037,     0.37137,     0.37237,     0.37337,     0.37437,     0.37538,     0.37638,     0.37738,     0.37838,     0.37938,     0.38038,     0.38138,     0.38238,     0.38338,\n",
       "           0.38438,     0.38539,     0.38639,     0.38739,     0.38839,     0.38939,     0.39039,     0.39139,     0.39239,     0.39339,     0.39439,      0.3954,      0.3964,      0.3974,      0.3984,      0.3994,      0.4004,      0.4014,      0.4024,      0.4034,      0.4044,     0.40541,     0.40641,     0.40741,\n",
       "           0.40841,     0.40941,     0.41041,     0.41141,     0.41241,     0.41341,     0.41441,     0.41542,     0.41642,     0.41742,     0.41842,     0.41942,     0.42042,     0.42142,     0.42242,     0.42342,     0.42442,     0.42543,     0.42643,     0.42743,     0.42843,     0.42943,     0.43043,     0.43143,\n",
       "           0.43243,     0.43343,     0.43443,     0.43544,     0.43644,     0.43744,     0.43844,     0.43944,     0.44044,     0.44144,     0.44244,     0.44344,     0.44444,     0.44545,     0.44645,     0.44745,     0.44845,     0.44945,     0.45045,     0.45145,     0.45245,     0.45345,     0.45445,     0.45546,\n",
       "           0.45646,     0.45746,     0.45846,     0.45946,     0.46046,     0.46146,     0.46246,     0.46346,     0.46446,     0.46547,     0.46647,     0.46747,     0.46847,     0.46947,     0.47047,     0.47147,     0.47247,     0.47347,     0.47447,     0.47548,     0.47648,     0.47748,     0.47848,     0.47948,\n",
       "           0.48048,     0.48148,     0.48248,     0.48348,     0.48448,     0.48549,     0.48649,     0.48749,     0.48849,     0.48949,     0.49049,     0.49149,     0.49249,     0.49349,     0.49449,      0.4955,      0.4965,      0.4975,      0.4985,      0.4995,      0.5005,      0.5015,      0.5025,      0.5035,\n",
       "            0.5045,     0.50551,     0.50651,     0.50751,     0.50851,     0.50951,     0.51051,     0.51151,     0.51251,     0.51351,     0.51451,     0.51552,     0.51652,     0.51752,     0.51852,     0.51952,     0.52052,     0.52152,     0.52252,     0.52352,     0.52452,     0.52553,     0.52653,     0.52753,\n",
       "           0.52853,     0.52953,     0.53053,     0.53153,     0.53253,     0.53353,     0.53453,     0.53554,     0.53654,     0.53754,     0.53854,     0.53954,     0.54054,     0.54154,     0.54254,     0.54354,     0.54454,     0.54555,     0.54655,     0.54755,     0.54855,     0.54955,     0.55055,     0.55155,\n",
       "           0.55255,     0.55355,     0.55455,     0.55556,     0.55656,     0.55756,     0.55856,     0.55956,     0.56056,     0.56156,     0.56256,     0.56356,     0.56456,     0.56557,     0.56657,     0.56757,     0.56857,     0.56957,     0.57057,     0.57157,     0.57257,     0.57357,     0.57457,     0.57558,\n",
       "           0.57658,     0.57758,     0.57858,     0.57958,     0.58058,     0.58158,     0.58258,     0.58358,     0.58458,     0.58559,     0.58659,     0.58759,     0.58859,     0.58959,     0.59059,     0.59159,     0.59259,     0.59359,     0.59459,      0.5956,      0.5966,      0.5976,      0.5986,      0.5996,\n",
       "            0.6006,      0.6016,      0.6026,      0.6036,      0.6046,     0.60561,     0.60661,     0.60761,     0.60861,     0.60961,     0.61061,     0.61161,     0.61261,     0.61361,     0.61461,     0.61562,     0.61662,     0.61762,     0.61862,     0.61962,     0.62062,     0.62162,     0.62262,     0.62362,\n",
       "           0.62462,     0.62563,     0.62663,     0.62763,     0.62863,     0.62963,     0.63063,     0.63163,     0.63263,     0.63363,     0.63463,     0.63564,     0.63664,     0.63764,     0.63864,     0.63964,     0.64064,     0.64164,     0.64264,     0.64364,     0.64464,     0.64565,     0.64665,     0.64765,\n",
       "           0.64865,     0.64965,     0.65065,     0.65165,     0.65265,     0.65365,     0.65465,     0.65566,     0.65666,     0.65766,     0.65866,     0.65966,     0.66066,     0.66166,     0.66266,     0.66366,     0.66466,     0.66567,     0.66667,     0.66767,     0.66867,     0.66967,     0.67067,     0.67167,\n",
       "           0.67267,     0.67367,     0.67467,     0.67568,     0.67668,     0.67768,     0.67868,     0.67968,     0.68068,     0.68168,     0.68268,     0.68368,     0.68468,     0.68569,     0.68669,     0.68769,     0.68869,     0.68969,     0.69069,     0.69169,     0.69269,     0.69369,     0.69469,      0.6957,\n",
       "            0.6967,      0.6977,      0.6987,      0.6997,      0.7007,      0.7017,      0.7027,      0.7037,      0.7047,     0.70571,     0.70671,     0.70771,     0.70871,     0.70971,     0.71071,     0.71171,     0.71271,     0.71371,     0.71471,     0.71572,     0.71672,     0.71772,     0.71872,     0.71972,\n",
       "           0.72072,     0.72172,     0.72272,     0.72372,     0.72472,     0.72573,     0.72673,     0.72773,     0.72873,     0.72973,     0.73073,     0.73173,     0.73273,     0.73373,     0.73473,     0.73574,     0.73674,     0.73774,     0.73874,     0.73974,     0.74074,     0.74174,     0.74274,     0.74374,\n",
       "           0.74474,     0.74575,     0.74675,     0.74775,     0.74875,     0.74975,     0.75075,     0.75175,     0.75275,     0.75375,     0.75475,     0.75576,     0.75676,     0.75776,     0.75876,     0.75976,     0.76076,     0.76176,     0.76276,     0.76376,     0.76476,     0.76577,     0.76677,     0.76777,\n",
       "           0.76877,     0.76977,     0.77077,     0.77177,     0.77277,     0.77377,     0.77477,     0.77578,     0.77678,     0.77778,     0.77878,     0.77978,     0.78078,     0.78178,     0.78278,     0.78378,     0.78478,     0.78579,     0.78679,     0.78779,     0.78879,     0.78979,     0.79079,     0.79179,\n",
       "           0.79279,     0.79379,     0.79479,      0.7958,      0.7968,      0.7978,      0.7988,      0.7998,      0.8008,      0.8018,      0.8028,      0.8038,      0.8048,     0.80581,     0.80681,     0.80781,     0.80881,     0.80981,     0.81081,     0.81181,     0.81281,     0.81381,     0.81481,     0.81582,\n",
       "           0.81682,     0.81782,     0.81882,     0.81982,     0.82082,     0.82182,     0.82282,     0.82382,     0.82482,     0.82583,     0.82683,     0.82783,     0.82883,     0.82983,     0.83083,     0.83183,     0.83283,     0.83383,     0.83483,     0.83584,     0.83684,     0.83784,     0.83884,     0.83984,\n",
       "           0.84084,     0.84184,     0.84284,     0.84384,     0.84484,     0.84585,     0.84685,     0.84785,     0.84885,     0.84985,     0.85085,     0.85185,     0.85285,     0.85385,     0.85485,     0.85586,     0.85686,     0.85786,     0.85886,     0.85986,     0.86086,     0.86186,     0.86286,     0.86386,\n",
       "           0.86486,     0.86587,     0.86687,     0.86787,     0.86887,     0.86987,     0.87087,     0.87187,     0.87287,     0.87387,     0.87487,     0.87588,     0.87688,     0.87788,     0.87888,     0.87988,     0.88088,     0.88188,     0.88288,     0.88388,     0.88488,     0.88589,     0.88689,     0.88789,\n",
       "           0.88889,     0.88989,     0.89089,     0.89189,     0.89289,     0.89389,     0.89489,      0.8959,      0.8969,      0.8979,      0.8989,      0.8999,      0.9009,      0.9019,      0.9029,      0.9039,      0.9049,     0.90591,     0.90691,     0.90791,     0.90891,     0.90991,     0.91091,     0.91191,\n",
       "           0.91291,     0.91391,     0.91491,     0.91592,     0.91692,     0.91792,     0.91892,     0.91992,     0.92092,     0.92192,     0.92292,     0.92392,     0.92492,     0.92593,     0.92693,     0.92793,     0.92893,     0.92993,     0.93093,     0.93193,     0.93293,     0.93393,     0.93493,     0.93594,\n",
       "           0.93694,     0.93794,     0.93894,     0.93994,     0.94094,     0.94194,     0.94294,     0.94394,     0.94494,     0.94595,     0.94695,     0.94795,     0.94895,     0.94995,     0.95095,     0.95195,     0.95295,     0.95395,     0.95495,     0.95596,     0.95696,     0.95796,     0.95896,     0.95996,\n",
       "           0.96096,     0.96196,     0.96296,     0.96396,     0.96496,     0.96597,     0.96697,     0.96797,     0.96897,     0.96997,     0.97097,     0.97197,     0.97297,     0.97397,     0.97497,     0.97598,     0.97698,     0.97798,     0.97898,     0.97998,     0.98098,     0.98198,     0.98298,     0.98398,\n",
       "           0.98498,     0.98599,     0.98699,     0.98799,     0.98899,     0.98999,     0.99099,     0.99199,     0.99299,     0.99399,     0.99499,       0.996,       0.997,       0.998,       0.999,           1]), array([[   0.096159,    0.096159,     0.12456,     0.14557,     0.16258,     0.17728,     0.19071,     0.20211,     0.21331,     0.22334,     0.23317,     0.24157,      0.2501,     0.25806,     0.26618,     0.27392,     0.28072,     0.28785,     0.29472,     0.30146,     0.30846,      0.3149,     0.32123,\n",
       "            0.32719,     0.33308,     0.33873,     0.34439,     0.35013,     0.35564,     0.36079,     0.36603,     0.37137,     0.37608,     0.38139,     0.38622,     0.39078,     0.39515,     0.39921,     0.40406,     0.40791,     0.41251,     0.41715,     0.42087,     0.42569,     0.42992,     0.43403,\n",
       "            0.43818,     0.44182,     0.44588,     0.45022,     0.45417,      0.4577,     0.46235,      0.4663,     0.47002,     0.47357,     0.47743,     0.48073,     0.48453,      0.4882,     0.49136,     0.49507,     0.49781,     0.50164,     0.50498,     0.50816,     0.51142,     0.51471,     0.51943,\n",
       "            0.52293,     0.52582,     0.52921,     0.53188,     0.53515,     0.53833,     0.54187,     0.54429,     0.54736,     0.55051,      0.5529,     0.55619,      0.5592,     0.56185,     0.56458,     0.56718,     0.57088,     0.57348,     0.57614,     0.57885,     0.58126,     0.58446,     0.58674,\n",
       "            0.58931,     0.59183,     0.59445,     0.59689,     0.59909,     0.60155,     0.60399,     0.60576,     0.60825,     0.61089,     0.61284,     0.61512,     0.61699,     0.61928,     0.62167,     0.62406,     0.62555,     0.62806,     0.63047,     0.63199,     0.63439,     0.63625,     0.63819,\n",
       "            0.64008,     0.64233,      0.6439,      0.6465,     0.64831,     0.65075,     0.65215,     0.65413,     0.65656,     0.65834,     0.66051,     0.66216,     0.66454,     0.66692,     0.66866,     0.67041,     0.67226,     0.67449,     0.67611,     0.67823,     0.67987,     0.68246,     0.68407,\n",
       "            0.68609,     0.68763,     0.68964,     0.69162,      0.6936,     0.69535,     0.69654,      0.6988,      0.7003,     0.70202,     0.70356,     0.70554,     0.70721,     0.70849,     0.70985,     0.71188,     0.71337,     0.71493,     0.71625,     0.71796,     0.71855,     0.72012,     0.72161,\n",
       "            0.72327,     0.72526,     0.72692,     0.72839,     0.72974,     0.73104,     0.73172,     0.73308,     0.73483,     0.73659,     0.73852,     0.74008,     0.74111,     0.74284,      0.7446,     0.74629,     0.74713,     0.74888,     0.75069,     0.75217,     0.75323,     0.75426,     0.75582,\n",
       "            0.75663,     0.75855,     0.76005,     0.76153,     0.76234,     0.76357,      0.7654,     0.76599,     0.76733,     0.76883,     0.76972,     0.77151,     0.77298,      0.7737,     0.77555,     0.77637,     0.77811,     0.78008,     0.78068,      0.7829,     0.78399,     0.78541,     0.78649,\n",
       "             0.7884,     0.78984,     0.79083,     0.79262,     0.79331,     0.79499,     0.79559,     0.79722,     0.79751,     0.79856,     0.79906,     0.80079,     0.80166,     0.80302,     0.80393,     0.80538,     0.80653,     0.80798,     0.80895,     0.81045,     0.81103,      0.8128,      0.8139,\n",
       "            0.81532,     0.81592,     0.81653,     0.81848,     0.81948,     0.82059,     0.82154,     0.82262,     0.82318,     0.82386,     0.82523,     0.82616,     0.82776,     0.82807,     0.82869,     0.82981,     0.83046,     0.83118,     0.83259,     0.83318,     0.83422,     0.83472,     0.83521,\n",
       "            0.83649,     0.83708,     0.83774,     0.83894,      0.8397,     0.84035,      0.8415,     0.84229,     0.84367,     0.84435,     0.84526,     0.84582,     0.84654,     0.84692,     0.84799,     0.84952,     0.85044,     0.85124,      0.8524,     0.85291,     0.85399,     0.85435,     0.85538,\n",
       "            0.85566,     0.85641,     0.85702,     0.85811,     0.85865,     0.85928,     0.85997,      0.8606,     0.86124,     0.86192,     0.86303,     0.86362,     0.86439,     0.86512,     0.86628,     0.86717,     0.86793,     0.86858,     0.86959,     0.86999,     0.87037,     0.87125,     0.87213,\n",
       "            0.87313,     0.87393,     0.87464,     0.87512,     0.87633,     0.87684,     0.87734,     0.87787,     0.87868,     0.87942,     0.88003,     0.88053,     0.88111,     0.88211,     0.88255,     0.88324,     0.88431,     0.88502,     0.88594,     0.88646,     0.88737,     0.88821,     0.88885,\n",
       "            0.88921,     0.88955,     0.89057,     0.89096,     0.89152,     0.89219,     0.89261,     0.89301,     0.89397,     0.89436,      0.8949,     0.89533,     0.89568,     0.89613,     0.89684,     0.89761,     0.89804,     0.89852,     0.89894,     0.89908,     0.89982,     0.90085,      0.9014,\n",
       "            0.90175,     0.90212,     0.90278,     0.90319,     0.90355,     0.90497,     0.90587,     0.90649,     0.90725,     0.90769,     0.90817,     0.90892,     0.90942,     0.91008,     0.91061,     0.91144,     0.91199,     0.91242,     0.91276,      0.9135,     0.91387,     0.91428,     0.91481,\n",
       "             0.9153,     0.91546,      0.9166,     0.91739,     0.91815,     0.91866,     0.91918,     0.91962,     0.91985,     0.92056,     0.92102,     0.92144,     0.92235,     0.92283,     0.92316,     0.92357,     0.92424,      0.9246,     0.92512,     0.92572,     0.92618,     0.92661,     0.92699,\n",
       "            0.92734,     0.92753,     0.92791,     0.92817,     0.92859,      0.9289,     0.92944,     0.92985,     0.93016,     0.93046,     0.93117,     0.93168,     0.93225,     0.93227,     0.93301,     0.93346,     0.93434,     0.93473,     0.93527,     0.93571,      0.9359,     0.93643,     0.93661,\n",
       "            0.93687,     0.93737,     0.93767,     0.93794,     0.93857,     0.93917,     0.93933,     0.93958,     0.94034,     0.94127,     0.94181,      0.9421,      0.9425,     0.94306,     0.94327,     0.94355,     0.94395,     0.94408,     0.94426,     0.94474,     0.94508,     0.94548,      0.9457,\n",
       "            0.94637,     0.94679,     0.94728,     0.94763,     0.94777,     0.94844,      0.9487,     0.94913,     0.94919,     0.94959,     0.94953,     0.95002,     0.95031,      0.9509,     0.95139,     0.95141,     0.95149,     0.95163,     0.95179,     0.95213,     0.95245,     0.95262,     0.95285,\n",
       "              0.953,     0.95343,     0.95378,     0.95401,       0.954,     0.95401,     0.95433,     0.95459,     0.95476,     0.95506,     0.95546,     0.95571,     0.95572,     0.95596,     0.95593,      0.9563,     0.95659,     0.95704,     0.95727,     0.95729,     0.95791,     0.95815,     0.95845,\n",
       "            0.95883,     0.95921,     0.95959,      0.9602,     0.96024,     0.96085,      0.9611,      0.9615,     0.96176,     0.96214,     0.96258,     0.96308,     0.96344,      0.9637,     0.96379,     0.96419,     0.96466,     0.96491,     0.96538,     0.96561,     0.96627,     0.96647,     0.96688,\n",
       "            0.96737,     0.96741,     0.96781,     0.96816,     0.96865,     0.96896,     0.96916,      0.9695,     0.96979,     0.97012,      0.9703,     0.97041,     0.97068,     0.97095,     0.97156,     0.97175,     0.97179,     0.97191,      0.9722,     0.97248,     0.97268,     0.97296,     0.97314,\n",
       "            0.97334,     0.97379,     0.97415,     0.97427,     0.97439,     0.97443,     0.97451,     0.97485,     0.97496,     0.97506,     0.97526,     0.97535,     0.97568,     0.97565,     0.97586,     0.97611,     0.97642,     0.97647,      0.9766,      0.9769,     0.97702,     0.97707,      0.9772,\n",
       "            0.97749,      0.9778,     0.97786,     0.97824,     0.97845,     0.97874,     0.97889,     0.97918,     0.97922,     0.97961,     0.97983,     0.97988,     0.98019,     0.98039,     0.98065,     0.98078,     0.98101,     0.98121,     0.98145,     0.98159,     0.98165,     0.98179,     0.98193,\n",
       "            0.98199,     0.98204,     0.98211,     0.98251,     0.98275,     0.98295,     0.98301,     0.98325,      0.9834,     0.98346,     0.98359,     0.98359,     0.98356,     0.98379,     0.98385,     0.98399,     0.98399,     0.98405,     0.98429,     0.98436,      0.9845,      0.9848,     0.98491,\n",
       "            0.98494,     0.98508,     0.98515,     0.98548,     0.98554,     0.98565,     0.98576,     0.98582,     0.98616,      0.9864,     0.98657,     0.98655,      0.9866,     0.98667,     0.98673,     0.98671,     0.98677,     0.98684,       0.987,     0.98707,     0.98715,     0.98721,     0.98737,\n",
       "            0.98771,     0.98779,     0.98804,      0.9881,     0.98819,     0.98845,     0.98881,     0.98878,     0.98886,     0.98903,     0.98911,     0.98917,     0.98929,     0.98933,      0.9896,     0.98958,     0.98975,     0.98983,        0.99,     0.99016,     0.99034,     0.99032,     0.99039,\n",
       "            0.99077,     0.99086,     0.99085,     0.99083,     0.99081,     0.99079,     0.99087,     0.99105,     0.99114,     0.99132,      0.9914,     0.99149,     0.99157,     0.99177,     0.99184,     0.99193,     0.99192,      0.9919,     0.99207,     0.99205,     0.99204,     0.99213,     0.99231,\n",
       "             0.9923,     0.99239,     0.99258,     0.99255,     0.99274,     0.99273,     0.99281,      0.9929,     0.99289,     0.99298,     0.99306,     0.99304,     0.99302,       0.993,     0.99298,     0.99318,     0.99326,     0.99332,     0.99367,     0.99366,     0.99407,     0.99415,     0.99415,\n",
       "            0.99424,     0.99424,     0.99421,     0.99417,     0.99417,     0.99434,     0.99437,     0.99445,     0.99453,     0.99458,     0.99473,     0.99471,     0.99471,     0.99479,     0.99479,     0.99511,     0.99521,     0.99525,     0.99553,     0.99553,     0.99574,     0.99572,     0.99572,\n",
       "             0.9957,      0.9957,      0.9958,     0.99602,     0.99602,     0.99612,     0.99622,     0.99622,      0.9962,     0.99617,     0.99617,     0.99628,     0.99625,     0.99625,     0.99623,     0.99634,     0.99646,     0.99644,     0.99644,     0.99654,     0.99691,     0.99691,     0.99688,\n",
       "            0.99687,     0.99686,     0.99685,     0.99682,     0.99693,     0.99693,     0.99704,     0.99704,     0.99702,     0.99714,     0.99714,     0.99712,     0.99724,     0.99724,     0.99722,      0.9972,     0.99731,     0.99732,     0.99729,     0.99729,     0.99727,      0.9974,     0.99781,\n",
       "            0.99781,     0.99794,     0.99792,     0.99805,     0.99805,     0.99803,     0.99801,     0.99801,       0.998,     0.99797,     0.99795,     0.99795,     0.99794,     0.99808,     0.99807,     0.99805,     0.99803,     0.99803,     0.99801,     0.99799,     0.99797,     0.99794,     0.99794,\n",
       "            0.99809,     0.99806,     0.99804,     0.99804,     0.99801,     0.99798,     0.99796,     0.99795,     0.99792,      0.9979,     0.99806,     0.99806,     0.99803,      0.9982,     0.99817,     0.99814,     0.99814,     0.99832,     0.99829,     0.99826,     0.99867,     0.99865,     0.99865,\n",
       "            0.99862,     0.99883,      0.9988,     0.99878,     0.99877,     0.99875,     0.99872,     0.99869,     0.99866,     0.99862,     0.99862,     0.99858,     0.99855,     0.99852,     0.99848,     0.99844,      0.9984,     0.99835,     0.99838,     0.99864,     0.99895,     0.99892,     0.99889,\n",
       "            0.99886,     0.99882,     0.99879,     0.99875,     0.99874,      0.9987,     0.99864,     0.99859,     0.99854,     0.99849,     0.99844,     0.99839,      0.9983,     0.99823,     0.99816,     0.99809,     0.99801,     0.99862,     0.99855,     0.99846,     0.99838,      0.9983,     0.99824,\n",
       "            0.99816,     0.99807,     0.99799,     0.99791,     0.99783,     0.99772,     0.99762,     0.99749,     0.99736,     0.99852,     0.99843,     0.99835,     0.99827,     0.99816,     0.99808,           1,           1,           1,           1,           1,           1,           1,           1,\n",
       "                  1,           1,           1,           1,           1,           1,           1,           1,           1,           1,           1,           1,           1,           1,           1,           1,           1,           1,           1,           1,           1,           1,           1,\n",
       "                  1,           1,           1,           1,           1,           1,           1,           1,           1,           1,           1,           1,           1,           1,           1,           1,           1,           1,           1,           1,           1,           1,           1,\n",
       "                  1,           1,           1,           1,           1,           1,           1,           1,           1,           1,           1,           1,           1,           1,           1,           1,           1,           1,           1,           1,           1,           1,           1,\n",
       "                  1,           1,           1,           1,           1,           1,           1,           1,           1,           1,           1,           1,           1,           1,           1,           1,           1,           1,           1,           1,           1,           1,           1,\n",
       "                  1,           1,           1,           1,           1,           1,           1,           1,           1,           1,           1,           1,           1,           1,           1,           1,           1,           1,           1,           1,           1,           1,           1,\n",
       "                  1,           1,           1,           1,           1,           1,           1,           1,           1,           1,           1]]), 'Confidence', 'Precision'], [array([          0,    0.001001,    0.002002,    0.003003,    0.004004,    0.005005,    0.006006,    0.007007,    0.008008,    0.009009,     0.01001,    0.011011,    0.012012,    0.013013,    0.014014,    0.015015,    0.016016,    0.017017,    0.018018,    0.019019,     0.02002,    0.021021,    0.022022,    0.023023,\n",
       "          0.024024,    0.025025,    0.026026,    0.027027,    0.028028,    0.029029,     0.03003,    0.031031,    0.032032,    0.033033,    0.034034,    0.035035,    0.036036,    0.037037,    0.038038,    0.039039,     0.04004,    0.041041,    0.042042,    0.043043,    0.044044,    0.045045,    0.046046,    0.047047,\n",
       "          0.048048,    0.049049,     0.05005,    0.051051,    0.052052,    0.053053,    0.054054,    0.055055,    0.056056,    0.057057,    0.058058,    0.059059,     0.06006,    0.061061,    0.062062,    0.063063,    0.064064,    0.065065,    0.066066,    0.067067,    0.068068,    0.069069,     0.07007,    0.071071,\n",
       "          0.072072,    0.073073,    0.074074,    0.075075,    0.076076,    0.077077,    0.078078,    0.079079,     0.08008,    0.081081,    0.082082,    0.083083,    0.084084,    0.085085,    0.086086,    0.087087,    0.088088,    0.089089,     0.09009,    0.091091,    0.092092,    0.093093,    0.094094,    0.095095,\n",
       "          0.096096,    0.097097,    0.098098,    0.099099,      0.1001,      0.1011,      0.1021,      0.1031,      0.1041,     0.10511,     0.10611,     0.10711,     0.10811,     0.10911,     0.11011,     0.11111,     0.11211,     0.11311,     0.11411,     0.11512,     0.11612,     0.11712,     0.11812,     0.11912,\n",
       "           0.12012,     0.12112,     0.12212,     0.12312,     0.12412,     0.12513,     0.12613,     0.12713,     0.12813,     0.12913,     0.13013,     0.13113,     0.13213,     0.13313,     0.13413,     0.13514,     0.13614,     0.13714,     0.13814,     0.13914,     0.14014,     0.14114,     0.14214,     0.14314,\n",
       "           0.14414,     0.14515,     0.14615,     0.14715,     0.14815,     0.14915,     0.15015,     0.15115,     0.15215,     0.15315,     0.15415,     0.15516,     0.15616,     0.15716,     0.15816,     0.15916,     0.16016,     0.16116,     0.16216,     0.16316,     0.16416,     0.16517,     0.16617,     0.16717,\n",
       "           0.16817,     0.16917,     0.17017,     0.17117,     0.17217,     0.17317,     0.17417,     0.17518,     0.17618,     0.17718,     0.17818,     0.17918,     0.18018,     0.18118,     0.18218,     0.18318,     0.18418,     0.18519,     0.18619,     0.18719,     0.18819,     0.18919,     0.19019,     0.19119,\n",
       "           0.19219,     0.19319,     0.19419,      0.1952,      0.1962,      0.1972,      0.1982,      0.1992,      0.2002,      0.2012,      0.2022,      0.2032,      0.2042,     0.20521,     0.20621,     0.20721,     0.20821,     0.20921,     0.21021,     0.21121,     0.21221,     0.21321,     0.21421,     0.21522,\n",
       "           0.21622,     0.21722,     0.21822,     0.21922,     0.22022,     0.22122,     0.22222,     0.22322,     0.22422,     0.22523,     0.22623,     0.22723,     0.22823,     0.22923,     0.23023,     0.23123,     0.23223,     0.23323,     0.23423,     0.23524,     0.23624,     0.23724,     0.23824,     0.23924,\n",
       "           0.24024,     0.24124,     0.24224,     0.24324,     0.24424,     0.24525,     0.24625,     0.24725,     0.24825,     0.24925,     0.25025,     0.25125,     0.25225,     0.25325,     0.25425,     0.25526,     0.25626,     0.25726,     0.25826,     0.25926,     0.26026,     0.26126,     0.26226,     0.26326,\n",
       "           0.26426,     0.26527,     0.26627,     0.26727,     0.26827,     0.26927,     0.27027,     0.27127,     0.27227,     0.27327,     0.27427,     0.27528,     0.27628,     0.27728,     0.27828,     0.27928,     0.28028,     0.28128,     0.28228,     0.28328,     0.28428,     0.28529,     0.28629,     0.28729,\n",
       "           0.28829,     0.28929,     0.29029,     0.29129,     0.29229,     0.29329,     0.29429,      0.2953,      0.2963,      0.2973,      0.2983,      0.2993,      0.3003,      0.3013,      0.3023,      0.3033,      0.3043,     0.30531,     0.30631,     0.30731,     0.30831,     0.30931,     0.31031,     0.31131,\n",
       "           0.31231,     0.31331,     0.31431,     0.31532,     0.31632,     0.31732,     0.31832,     0.31932,     0.32032,     0.32132,     0.32232,     0.32332,     0.32432,     0.32533,     0.32633,     0.32733,     0.32833,     0.32933,     0.33033,     0.33133,     0.33233,     0.33333,     0.33433,     0.33534,\n",
       "           0.33634,     0.33734,     0.33834,     0.33934,     0.34034,     0.34134,     0.34234,     0.34334,     0.34434,     0.34535,     0.34635,     0.34735,     0.34835,     0.34935,     0.35035,     0.35135,     0.35235,     0.35335,     0.35435,     0.35536,     0.35636,     0.35736,     0.35836,     0.35936,\n",
       "           0.36036,     0.36136,     0.36236,     0.36336,     0.36436,     0.36537,     0.36637,     0.36737,     0.36837,     0.36937,     0.37037,     0.37137,     0.37237,     0.37337,     0.37437,     0.37538,     0.37638,     0.37738,     0.37838,     0.37938,     0.38038,     0.38138,     0.38238,     0.38338,\n",
       "           0.38438,     0.38539,     0.38639,     0.38739,     0.38839,     0.38939,     0.39039,     0.39139,     0.39239,     0.39339,     0.39439,      0.3954,      0.3964,      0.3974,      0.3984,      0.3994,      0.4004,      0.4014,      0.4024,      0.4034,      0.4044,     0.40541,     0.40641,     0.40741,\n",
       "           0.40841,     0.40941,     0.41041,     0.41141,     0.41241,     0.41341,     0.41441,     0.41542,     0.41642,     0.41742,     0.41842,     0.41942,     0.42042,     0.42142,     0.42242,     0.42342,     0.42442,     0.42543,     0.42643,     0.42743,     0.42843,     0.42943,     0.43043,     0.43143,\n",
       "           0.43243,     0.43343,     0.43443,     0.43544,     0.43644,     0.43744,     0.43844,     0.43944,     0.44044,     0.44144,     0.44244,     0.44344,     0.44444,     0.44545,     0.44645,     0.44745,     0.44845,     0.44945,     0.45045,     0.45145,     0.45245,     0.45345,     0.45445,     0.45546,\n",
       "           0.45646,     0.45746,     0.45846,     0.45946,     0.46046,     0.46146,     0.46246,     0.46346,     0.46446,     0.46547,     0.46647,     0.46747,     0.46847,     0.46947,     0.47047,     0.47147,     0.47247,     0.47347,     0.47447,     0.47548,     0.47648,     0.47748,     0.47848,     0.47948,\n",
       "           0.48048,     0.48148,     0.48248,     0.48348,     0.48448,     0.48549,     0.48649,     0.48749,     0.48849,     0.48949,     0.49049,     0.49149,     0.49249,     0.49349,     0.49449,      0.4955,      0.4965,      0.4975,      0.4985,      0.4995,      0.5005,      0.5015,      0.5025,      0.5035,\n",
       "            0.5045,     0.50551,     0.50651,     0.50751,     0.50851,     0.50951,     0.51051,     0.51151,     0.51251,     0.51351,     0.51451,     0.51552,     0.51652,     0.51752,     0.51852,     0.51952,     0.52052,     0.52152,     0.52252,     0.52352,     0.52452,     0.52553,     0.52653,     0.52753,\n",
       "           0.52853,     0.52953,     0.53053,     0.53153,     0.53253,     0.53353,     0.53453,     0.53554,     0.53654,     0.53754,     0.53854,     0.53954,     0.54054,     0.54154,     0.54254,     0.54354,     0.54454,     0.54555,     0.54655,     0.54755,     0.54855,     0.54955,     0.55055,     0.55155,\n",
       "           0.55255,     0.55355,     0.55455,     0.55556,     0.55656,     0.55756,     0.55856,     0.55956,     0.56056,     0.56156,     0.56256,     0.56356,     0.56456,     0.56557,     0.56657,     0.56757,     0.56857,     0.56957,     0.57057,     0.57157,     0.57257,     0.57357,     0.57457,     0.57558,\n",
       "           0.57658,     0.57758,     0.57858,     0.57958,     0.58058,     0.58158,     0.58258,     0.58358,     0.58458,     0.58559,     0.58659,     0.58759,     0.58859,     0.58959,     0.59059,     0.59159,     0.59259,     0.59359,     0.59459,      0.5956,      0.5966,      0.5976,      0.5986,      0.5996,\n",
       "            0.6006,      0.6016,      0.6026,      0.6036,      0.6046,     0.60561,     0.60661,     0.60761,     0.60861,     0.60961,     0.61061,     0.61161,     0.61261,     0.61361,     0.61461,     0.61562,     0.61662,     0.61762,     0.61862,     0.61962,     0.62062,     0.62162,     0.62262,     0.62362,\n",
       "           0.62462,     0.62563,     0.62663,     0.62763,     0.62863,     0.62963,     0.63063,     0.63163,     0.63263,     0.63363,     0.63463,     0.63564,     0.63664,     0.63764,     0.63864,     0.63964,     0.64064,     0.64164,     0.64264,     0.64364,     0.64464,     0.64565,     0.64665,     0.64765,\n",
       "           0.64865,     0.64965,     0.65065,     0.65165,     0.65265,     0.65365,     0.65465,     0.65566,     0.65666,     0.65766,     0.65866,     0.65966,     0.66066,     0.66166,     0.66266,     0.66366,     0.66466,     0.66567,     0.66667,     0.66767,     0.66867,     0.66967,     0.67067,     0.67167,\n",
       "           0.67267,     0.67367,     0.67467,     0.67568,     0.67668,     0.67768,     0.67868,     0.67968,     0.68068,     0.68168,     0.68268,     0.68368,     0.68468,     0.68569,     0.68669,     0.68769,     0.68869,     0.68969,     0.69069,     0.69169,     0.69269,     0.69369,     0.69469,      0.6957,\n",
       "            0.6967,      0.6977,      0.6987,      0.6997,      0.7007,      0.7017,      0.7027,      0.7037,      0.7047,     0.70571,     0.70671,     0.70771,     0.70871,     0.70971,     0.71071,     0.71171,     0.71271,     0.71371,     0.71471,     0.71572,     0.71672,     0.71772,     0.71872,     0.71972,\n",
       "           0.72072,     0.72172,     0.72272,     0.72372,     0.72472,     0.72573,     0.72673,     0.72773,     0.72873,     0.72973,     0.73073,     0.73173,     0.73273,     0.73373,     0.73473,     0.73574,     0.73674,     0.73774,     0.73874,     0.73974,     0.74074,     0.74174,     0.74274,     0.74374,\n",
       "           0.74474,     0.74575,     0.74675,     0.74775,     0.74875,     0.74975,     0.75075,     0.75175,     0.75275,     0.75375,     0.75475,     0.75576,     0.75676,     0.75776,     0.75876,     0.75976,     0.76076,     0.76176,     0.76276,     0.76376,     0.76476,     0.76577,     0.76677,     0.76777,\n",
       "           0.76877,     0.76977,     0.77077,     0.77177,     0.77277,     0.77377,     0.77477,     0.77578,     0.77678,     0.77778,     0.77878,     0.77978,     0.78078,     0.78178,     0.78278,     0.78378,     0.78478,     0.78579,     0.78679,     0.78779,     0.78879,     0.78979,     0.79079,     0.79179,\n",
       "           0.79279,     0.79379,     0.79479,      0.7958,      0.7968,      0.7978,      0.7988,      0.7998,      0.8008,      0.8018,      0.8028,      0.8038,      0.8048,     0.80581,     0.80681,     0.80781,     0.80881,     0.80981,     0.81081,     0.81181,     0.81281,     0.81381,     0.81481,     0.81582,\n",
       "           0.81682,     0.81782,     0.81882,     0.81982,     0.82082,     0.82182,     0.82282,     0.82382,     0.82482,     0.82583,     0.82683,     0.82783,     0.82883,     0.82983,     0.83083,     0.83183,     0.83283,     0.83383,     0.83483,     0.83584,     0.83684,     0.83784,     0.83884,     0.83984,\n",
       "           0.84084,     0.84184,     0.84284,     0.84384,     0.84484,     0.84585,     0.84685,     0.84785,     0.84885,     0.84985,     0.85085,     0.85185,     0.85285,     0.85385,     0.85485,     0.85586,     0.85686,     0.85786,     0.85886,     0.85986,     0.86086,     0.86186,     0.86286,     0.86386,\n",
       "           0.86486,     0.86587,     0.86687,     0.86787,     0.86887,     0.86987,     0.87087,     0.87187,     0.87287,     0.87387,     0.87487,     0.87588,     0.87688,     0.87788,     0.87888,     0.87988,     0.88088,     0.88188,     0.88288,     0.88388,     0.88488,     0.88589,     0.88689,     0.88789,\n",
       "           0.88889,     0.88989,     0.89089,     0.89189,     0.89289,     0.89389,     0.89489,      0.8959,      0.8969,      0.8979,      0.8989,      0.8999,      0.9009,      0.9019,      0.9029,      0.9039,      0.9049,     0.90591,     0.90691,     0.90791,     0.90891,     0.90991,     0.91091,     0.91191,\n",
       "           0.91291,     0.91391,     0.91491,     0.91592,     0.91692,     0.91792,     0.91892,     0.91992,     0.92092,     0.92192,     0.92292,     0.92392,     0.92492,     0.92593,     0.92693,     0.92793,     0.92893,     0.92993,     0.93093,     0.93193,     0.93293,     0.93393,     0.93493,     0.93594,\n",
       "           0.93694,     0.93794,     0.93894,     0.93994,     0.94094,     0.94194,     0.94294,     0.94394,     0.94494,     0.94595,     0.94695,     0.94795,     0.94895,     0.94995,     0.95095,     0.95195,     0.95295,     0.95395,     0.95495,     0.95596,     0.95696,     0.95796,     0.95896,     0.95996,\n",
       "           0.96096,     0.96196,     0.96296,     0.96396,     0.96496,     0.96597,     0.96697,     0.96797,     0.96897,     0.96997,     0.97097,     0.97197,     0.97297,     0.97397,     0.97497,     0.97598,     0.97698,     0.97798,     0.97898,     0.97998,     0.98098,     0.98198,     0.98298,     0.98398,\n",
       "           0.98498,     0.98599,     0.98699,     0.98799,     0.98899,     0.98999,     0.99099,     0.99199,     0.99299,     0.99399,     0.99499,       0.996,       0.997,       0.998,       0.999,           1]), array([[    0.70915,     0.70915,     0.70618,     0.70378,     0.70138,     0.69953,     0.69785,     0.69601,     0.69456,     0.69269,     0.69097,     0.68929,     0.68758,      0.6864,     0.68485,      0.6837,     0.68251,      0.6811,     0.68008,     0.67906,     0.67794,     0.67685,     0.67586,\n",
       "            0.67478,     0.67356,     0.67241,     0.67125,      0.6702,     0.66947,     0.66839,      0.6674,     0.66645,       0.665,     0.66408,     0.66322,      0.6624,     0.66154,     0.66042,      0.6595,     0.65871,     0.65771,      0.6569,     0.65598,     0.65516,     0.65446,     0.65348,\n",
       "            0.65252,      0.6518,     0.65084,     0.65002,     0.64933,     0.64883,     0.64768,     0.64686,     0.64614,     0.64511,     0.64442,     0.64397,     0.64307,     0.64261,     0.64218,     0.64123,     0.64067,     0.63978,     0.63899,     0.63827,     0.63767,     0.63698,     0.63626,\n",
       "             0.6356,     0.63458,     0.63405,     0.63359,     0.63274,     0.63198,     0.63125,     0.63083,     0.63004,     0.62941,     0.62898,     0.62823,     0.62767,     0.62698,     0.62632,     0.62572,     0.62493,     0.62418,     0.62352,     0.62296,     0.62227,     0.62161,     0.62079,\n",
       "             0.6199,     0.61947,     0.61875,     0.61789,     0.61716,     0.61674,     0.61608,     0.61555,     0.61503,     0.61456,     0.61397,     0.61341,     0.61315,     0.61252,     0.61183,     0.61124,     0.61055,     0.60989,      0.6089,     0.60857,     0.60775,     0.60712,      0.6063,\n",
       "            0.60584,     0.60525,     0.60482,     0.60419,     0.60373,     0.60314,     0.60261,     0.60219,     0.60123,     0.60051,     0.59965,     0.59889,     0.59841,     0.59747,     0.59679,     0.59633,     0.59587,     0.59537,     0.59481,     0.59442,     0.59409,      0.5932,     0.59277,\n",
       "            0.59228,     0.59182,     0.59132,      0.5906,     0.59014,     0.58954,     0.58902,     0.58842,     0.58787,      0.5875,     0.58684,     0.58638,     0.58582,     0.58517,     0.58477,     0.58457,     0.58408,     0.58345,     0.58286,     0.58227,     0.58178,     0.58108,     0.58036,\n",
       "            0.57958,     0.57906,     0.57847,     0.57796,     0.57742,     0.57687,     0.57654,     0.57578,     0.57532,     0.57466,     0.57394,     0.57348,     0.57338,     0.57299,     0.57236,     0.57154,     0.57127,     0.57069,     0.57025,     0.56989,     0.56966,     0.56913,     0.56864,\n",
       "            0.56815,     0.56752,      0.5668,      0.5661,     0.56584,     0.56538,     0.56472,     0.56446,     0.56396,     0.56321,     0.56285,     0.56209,     0.56169,     0.56133,     0.56077,     0.56058,     0.56003,     0.55958,     0.55922,      0.5584,     0.55814,     0.55748,     0.55725,\n",
       "             0.5565,     0.55577,     0.55547,     0.55498,     0.55465,     0.55402,     0.55377,     0.55279,     0.55238,     0.55175,     0.55142,     0.55086,     0.55063,     0.54981,     0.54939,     0.54885,     0.54856,     0.54767,     0.54718,     0.54668,     0.54623,     0.54573,     0.54546,\n",
       "            0.54471,     0.54426,     0.54402,     0.54322,     0.54296,      0.5422,     0.54196,     0.54122,     0.54087,     0.54049,        0.54,     0.53961,     0.53901,      0.5386,     0.53816,     0.53786,     0.53761,       0.537,     0.53664,     0.53654,     0.53575,     0.53534,     0.53516,\n",
       "            0.53456,     0.53432,     0.53391,     0.53331,     0.53292,     0.53269,     0.53216,     0.53185,     0.53104,     0.53075,     0.53058,     0.53026,     0.52972,     0.52945,      0.5291,     0.52837,     0.52765,     0.52747,     0.52643,     0.52609,     0.52586,     0.52542,     0.52455,\n",
       "             0.5243,      0.5239,      0.5237,     0.52284,     0.52262,     0.52189,       0.521,     0.52061,     0.52011,     0.51972,     0.51916,     0.51865,     0.51832,     0.51797,     0.51718,     0.51688,     0.51644,      0.5159,     0.51518,      0.5146,     0.51425,     0.51396,     0.51353,\n",
       "            0.51273,     0.51244,     0.51205,     0.51152,     0.51083,     0.51049,     0.50994,     0.50946,     0.50906,     0.50849,     0.50803,     0.50774,     0.50731,     0.50645,     0.50589,     0.50552,     0.50505,     0.50478,     0.50451,     0.50428,     0.50339,     0.50316,     0.50285,\n",
       "            0.50254,     0.50221,     0.50151,     0.50115,     0.50066,     0.50033,     0.49994,     0.49954,     0.49878,     0.49852,     0.49802,     0.49761,     0.49719,     0.49651,     0.49599,     0.49496,     0.49466,     0.49424,     0.49402,     0.49359,     0.49323,     0.49232,      0.4918,\n",
       "             0.4913,     0.49082,     0.49049,     0.49017,     0.48977,     0.48907,     0.48851,     0.48821,     0.48787,     0.48739,     0.48705,     0.48667,     0.48622,     0.48581,     0.48528,     0.48417,     0.48373,     0.48323,     0.48275,     0.48235,     0.48216,     0.48186,      0.4815,\n",
       "            0.48097,     0.48022,     0.47942,     0.47892,     0.47862,     0.47813,     0.47773,      0.4772,     0.47653,      0.4761,     0.47567,     0.47531,     0.47435,     0.47398,     0.47342,     0.47303,     0.47273,     0.47233,     0.47195,      0.4714,     0.47096,      0.4706,     0.46978,\n",
       "            0.46935,     0.46899,     0.46826,     0.46784,     0.46749,     0.46707,     0.46657,     0.46608,      0.4654,     0.46518,     0.46461,     0.46431,     0.46392,     0.46356,      0.4631,     0.46274,     0.46184,     0.46154,     0.46132,     0.46091,     0.46049,     0.46019,     0.45963,\n",
       "            0.45926,      0.4587,     0.45826,     0.45786,     0.45733,     0.45692,     0.45616,      0.4556,     0.45513,      0.4543,     0.45401,     0.45365,     0.45325,     0.45252,     0.45216,      0.4518,     0.45127,     0.45074,     0.45008,     0.44969,     0.44926,     0.44873,     0.44833,\n",
       "            0.44786,     0.44757,     0.44724,     0.44678,     0.44628,     0.44569,     0.44515,      0.4447,     0.44407,     0.44338,     0.44285,     0.44246,     0.44196,      0.4412,     0.44068,     0.44028,     0.43969,     0.43909,     0.43869,      0.4381,     0.43783,      0.4375,     0.43707,\n",
       "            0.43654,     0.43605,     0.43549,     0.43496,     0.43427,     0.43364,     0.43297,     0.43252,     0.43213,     0.43163,     0.43097,     0.43048,     0.43004,     0.42952,     0.42919,     0.42866,     0.42797,     0.42757,     0.42702,     0.42646,     0.42553,     0.42507,     0.42448,\n",
       "            0.42402,     0.42342,     0.42296,     0.42257,     0.42214,     0.42171,     0.42134,     0.42092,     0.42033,     0.41974,      0.4192,     0.41875,     0.41815,     0.41775,     0.41712,      0.4166,     0.41607,     0.41548,     0.41488,     0.41409,     0.41352,     0.41281,     0.41225,\n",
       "            0.41182,     0.41135,     0.41076,     0.41037,     0.40987,      0.4092,     0.40868,     0.40828,     0.40786,     0.40723,     0.40664,     0.40591,     0.40539,     0.40493,     0.40371,     0.40315,     0.40255,     0.40212,      0.4017,      0.4013,      0.4008,     0.40009,     0.39958,\n",
       "            0.39909,     0.39866,     0.39817,     0.39767,     0.39701,     0.39645,     0.39597,     0.39556,     0.39487,     0.39385,     0.39329,     0.39278,     0.39233,      0.3918,     0.39124,     0.39057,     0.38989,      0.3894,     0.38877,     0.38841,     0.38772,     0.38712,     0.38663,\n",
       "            0.38603,      0.3857,     0.38531,     0.38475,     0.38435,     0.38348,     0.38308,     0.38239,     0.38157,     0.38114,     0.38061,     0.37998,     0.37956,     0.37918,      0.3787,     0.37807,     0.37748,     0.37691,     0.37619,      0.3756,     0.37507,     0.37448,     0.37395,\n",
       "            0.37336,     0.37267,      0.3723,     0.37168,     0.37128,     0.37009,     0.36957,     0.36915,     0.36856,      0.3681,     0.36763,     0.36701,     0.36638,     0.36573,     0.36497,     0.36463,     0.36411,     0.36355,     0.36302,     0.36249,     0.36184,     0.36057,     0.36015,\n",
       "            0.35958,     0.35872,     0.35806,     0.35753,     0.35687,       0.356,     0.35546,     0.35483,     0.35421,     0.35336,       0.353,     0.35247,     0.35152,     0.35079,        0.35,     0.34944,     0.34868,     0.34799,     0.34739,     0.34692,     0.34659,      0.3457,     0.34484,\n",
       "            0.34395,     0.34349,     0.34277,     0.34181,     0.34153,     0.34091,     0.34025,     0.33955,     0.33886,     0.33843,     0.33774,     0.33677,     0.33638,     0.33581,     0.33519,     0.33443,     0.33389,     0.33322,      0.3325,     0.33131,     0.33065,     0.32996,     0.32927,\n",
       "            0.32869,      0.3282,      0.3279,     0.32731,     0.32655,     0.32574,     0.32502,     0.32456,      0.3239,     0.32323,     0.32276,      0.3221,     0.32154,     0.32121,     0.32024,     0.31978,     0.31912,     0.31856,     0.31706,      0.3165,     0.31587,     0.31524,     0.31448,\n",
       "            0.31398,     0.31332,     0.31262,     0.31136,      0.3105,     0.30997,     0.30927,      0.3085,     0.30781,     0.30748,     0.30612,     0.30529,      0.3046,      0.3034,     0.30247,     0.30182,     0.30069,     0.30063,     0.29962,     0.29946,     0.29816,     0.29664,     0.29653,\n",
       "            0.29531,     0.29527,     0.29382,     0.29203,      0.2919,     0.29066,     0.29059,     0.28905,     0.28725,      0.2872,     0.28595,     0.28486,     0.28473,     0.28313,       0.283,     0.28157,     0.28015,     0.27992,     0.27888,     0.27881,     0.27715,     0.27577,     0.27569,\n",
       "            0.27433,      0.2742,     0.27287,      0.2718,      0.2717,     0.27038,     0.26918,     0.26914,     0.26771,     0.26573,     0.26562,     0.26423,     0.26264,      0.2625,     0.26117,      0.2597,     0.25964,     0.25816,     0.25814,     0.25631,     0.25478,     0.25474,     0.25281,\n",
       "            0.25124,     0.25106,     0.24964,     0.24784,     0.24585,     0.24559,     0.24399,     0.24389,     0.24239,      0.2411,     0.24096,     0.23929,     0.23777,      0.2375,      0.2358,     0.23451,     0.23433,     0.23257,     0.23055,     0.23048,     0.22857,     0.22706,     0.22506,\n",
       "            0.22498,     0.22294,     0.22095,     0.21899,     0.21882,     0.21694,     0.21509,     0.21495,     0.21306,     0.21078,     0.20858,     0.20854,     0.20718,     0.20486,     0.20471,     0.20245,      0.2004,     0.20023,     0.19838,      0.1965,     0.19423,     0.19179,     0.19155,\n",
       "            0.18883,     0.18664,     0.18432,     0.18427,     0.18171,     0.17926,     0.17677,     0.17663,     0.17387,     0.17169,     0.16945,     0.16935,     0.16672,     0.16448,     0.16155,     0.15896,     0.15858,     0.15665,     0.15357,      0.1511,     0.14886,     0.14619,     0.14608,\n",
       "            0.14333,     0.14034,      0.1374,     0.13447,     0.13413,      0.1313,     0.12812,     0.12541,     0.12224,     0.11926,     0.11892,     0.11582,     0.11369,     0.11111,     0.10828,     0.10538,     0.10271,    0.099745,    0.097347,     0.09703,    0.094308,    0.091607,    0.088912,\n",
       "             0.0866,    0.083833,    0.081461,     0.07876,    0.078357,    0.075662,    0.072533,    0.069996,    0.067559,    0.065432,    0.063407,    0.061068,    0.057972,    0.055732,     0.05359,     0.05158,    0.049636,    0.047599,    0.045288,    0.042817,    0.040544,    0.038731,    0.037248,\n",
       "           0.035667,    0.034118,    0.032733,    0.031415,    0.030327,    0.028778,    0.027624,    0.026207,    0.024888,    0.022253,       0.021,    0.019978,    0.019022,    0.017868,    0.017109,     0.01635,    0.015361,    0.014339,     0.01358,    0.013019,    0.012392,    0.011271,    0.010512,\n",
       "          0.0099834,   0.0094221,    0.008795,   0.0083983,   0.0079357,   0.0073086,   0.0069777,   0.0060543,   0.0058881,    0.005656,   0.0052922,    0.005093,   0.0046963,   0.0043984,   0.0041334,   0.0038025,   0.0032741,   0.0031079,   0.0030016,   0.0027539,   0.0026421,   0.0025712,   0.0023425,\n",
       "          0.0022421,   0.0019112,   0.0018108,   0.0016446,   0.0015353,   0.0015096,   0.0014092,   0.0013417,   0.0012083,   0.0011465,   0.0011063,   0.0010388,  0.00093008,  0.00084696,  0.00077049,   0.0007062,  0.00061404,  0.00056802,  0.00051363,  0.00043304,  0.00036384,   0.0003301,   0.0003073,\n",
       "         0.00027907,  0.00024532,  0.00021158,  0.00016353,  0.00015228,  0.00014103,  0.00013005,  0.00012041,  0.00011077,  0.00010113,  8.6034e-05,  6.9162e-05,  6.2653e-05,  5.8683e-05,  5.4713e-05,  5.0743e-05,  4.6773e-05,  4.2803e-05,  3.8833e-05,  3.4863e-05,           0,           0,           0,\n",
       "                  0,           0,           0,           0,           0,           0,           0,           0,           0,           0,           0,           0,           0,           0,           0,           0,           0,           0,           0,           0,           0,           0,           0,\n",
       "                  0,           0,           0,           0,           0,           0,           0,           0,           0,           0,           0,           0,           0,           0,           0,           0,           0,           0,           0,           0,           0,           0,           0,\n",
       "                  0,           0,           0,           0,           0,           0,           0,           0,           0,           0,           0]]), 'Confidence', 'Recall']]\n",
       "fitness: np.float64(0.3680962245173565)\n",
       "keys: ['metrics/precision(B)', 'metrics/recall(B)', 'metrics/mAP50(B)', 'metrics/mAP50-95(B)']\n",
       "maps: array([    0.33891])\n",
       "names: {0: 'face'}\n",
       "nt_per_class: array([30376])\n",
       "nt_per_image: array([2575])\n",
       "results_dict: {'metrics/precision(B)': np.float64(0.818483669519492), 'metrics/recall(B)': np.float64(0.5432249144061101), 'metrics/mAP50(B)': np.float64(0.6307690873040259), 'metrics/mAP50-95(B)': np.float64(0.3389103508743932), 'fitness': np.float64(0.3680962245173565)}\n",
       "save_dir: PosixPath('runs/detect/train')\n",
       "speed: {'preprocess': 0.1716641350861927, 'inference': 3.5098200155234225, 'loss': 0.0003129499102373223, 'postprocess': 0.8791237162299214}\n",
       "stats: {'tp': [], 'conf': [], 'pred_cls': [], 'target_cls': [], 'target_img': []}\n",
       "task: 'detect'"
      ]
     },
     "execution_count": 24,
     "metadata": {},
     "output_type": "execute_result"
    }
   ],
   "source": [
    "from ultralytics import YOLO\n",
    "\n",
    "# Load the pre-trained YOLOv8 model (YOLOv8n, yolov8s, yolov8m, etc.)\n",
    "model = YOLO('yolov8n.pt')  # You can use yolov8s.pt, yolov8m.pt, yolov8l.pt, etc.\n",
    "\n",
    "# Path to your dataset YAML file\n",
    "train_data = '/home/cse/Documents/MdSourav/DNN/Assignment7/data.yaml'  # Modify this path to your data.yaml file\n",
    "\n",
    "# Fine-tune YOLOv8 on the WIDER FACE dataset using the correct syntax\n",
    "model.train(\n",
    "    data=train_data,  # Path to the YAML file\n",
    "    epochs=10,  # Number of epochs\n",
    "    batch=16,  # Correct argument for batch size\n",
    "    imgsz=640,  # Image size\n",
    "    val=True,  # Perform validation\n",
    "    workers=4  # Number of worker threads for data loading\n",
    ")\n"
   ]
  },
  {
   "cell_type": "code",
   "execution_count": 25,
   "id": "3bf19c0a",
   "metadata": {},
   "outputs": [
    {
     "name": "stdout",
     "output_type": "stream",
     "text": [
      "Ultralytics 8.3.162 🚀 Python-3.12.3 torch-2.7.1+cu126 CUDA:0 (NVIDIA GeForce GTX 1070, 8111MiB)\n",
      "Model summary (fused): 72 layers, 3,005,843 parameters, 0 gradients, 8.1 GFLOPs\n",
      "\u001b[34m\u001b[1mval: \u001b[0mFast image access ✅ (ping: 0.0±0.0 ms, read: 973.4±879.2 MB/s, size: 109.6 KB)\n"
     ]
    },
    {
     "name": "stderr",
     "output_type": "stream",
     "text": [
      "\u001b[34m\u001b[1mval: \u001b[0mScanning /home/cse/Documents/MdSourav/DNN/Assignment7/WIDER Face Dataset/split_data/val/labels.cache... 2576 images, 1 backgrounds, 0 corrupt: 100%|██████████| 2576/2576 [00:00<?, ?it/s]\n",
      "                 Class     Images  Instances      Box(P          R      mAP50  mAP50-95): 100%|██████████| 161/161 [00:17<00:00,  9.04it/s]\n"
     ]
    },
    {
     "name": "stdout",
     "output_type": "stream",
     "text": [
      "                   all       2576      30376      0.819      0.544      0.632       0.34\n",
      "Speed: 0.2ms preprocess, 3.2ms inference, 0.0ms loss, 0.8ms postprocess per image\n",
      "Results saved to \u001b[1mruns/detect/train2\u001b[0m\n",
      "Evaluation results: ultralytics.utils.metrics.DetMetrics object with attributes:\n",
      "\n",
      "ap_class_index: array([0])\n",
      "box: ultralytics.utils.metrics.Metric object\n",
      "confusion_matrix: <ultralytics.utils.metrics.ConfusionMatrix object at 0x7ee6cb363dd0>\n",
      "curves: ['Precision-Recall(B)', 'F1-Confidence(B)', 'Precision-Confidence(B)', 'Recall-Confidence(B)']\n",
      "curves_results: [[array([          0,    0.001001,    0.002002,    0.003003,    0.004004,    0.005005,    0.006006,    0.007007,    0.008008,    0.009009,     0.01001,    0.011011,    0.012012,    0.013013,    0.014014,    0.015015,    0.016016,    0.017017,    0.018018,    0.019019,     0.02002,    0.021021,    0.022022,    0.023023,\n",
      "          0.024024,    0.025025,    0.026026,    0.027027,    0.028028,    0.029029,     0.03003,    0.031031,    0.032032,    0.033033,    0.034034,    0.035035,    0.036036,    0.037037,    0.038038,    0.039039,     0.04004,    0.041041,    0.042042,    0.043043,    0.044044,    0.045045,    0.046046,    0.047047,\n",
      "          0.048048,    0.049049,     0.05005,    0.051051,    0.052052,    0.053053,    0.054054,    0.055055,    0.056056,    0.057057,    0.058058,    0.059059,     0.06006,    0.061061,    0.062062,    0.063063,    0.064064,    0.065065,    0.066066,    0.067067,    0.068068,    0.069069,     0.07007,    0.071071,\n",
      "          0.072072,    0.073073,    0.074074,    0.075075,    0.076076,    0.077077,    0.078078,    0.079079,     0.08008,    0.081081,    0.082082,    0.083083,    0.084084,    0.085085,    0.086086,    0.087087,    0.088088,    0.089089,     0.09009,    0.091091,    0.092092,    0.093093,    0.094094,    0.095095,\n",
      "          0.096096,    0.097097,    0.098098,    0.099099,      0.1001,      0.1011,      0.1021,      0.1031,      0.1041,     0.10511,     0.10611,     0.10711,     0.10811,     0.10911,     0.11011,     0.11111,     0.11211,     0.11311,     0.11411,     0.11512,     0.11612,     0.11712,     0.11812,     0.11912,\n",
      "           0.12012,     0.12112,     0.12212,     0.12312,     0.12412,     0.12513,     0.12613,     0.12713,     0.12813,     0.12913,     0.13013,     0.13113,     0.13213,     0.13313,     0.13413,     0.13514,     0.13614,     0.13714,     0.13814,     0.13914,     0.14014,     0.14114,     0.14214,     0.14314,\n",
      "           0.14414,     0.14515,     0.14615,     0.14715,     0.14815,     0.14915,     0.15015,     0.15115,     0.15215,     0.15315,     0.15415,     0.15516,     0.15616,     0.15716,     0.15816,     0.15916,     0.16016,     0.16116,     0.16216,     0.16316,     0.16416,     0.16517,     0.16617,     0.16717,\n",
      "           0.16817,     0.16917,     0.17017,     0.17117,     0.17217,     0.17317,     0.17417,     0.17518,     0.17618,     0.17718,     0.17818,     0.17918,     0.18018,     0.18118,     0.18218,     0.18318,     0.18418,     0.18519,     0.18619,     0.18719,     0.18819,     0.18919,     0.19019,     0.19119,\n",
      "           0.19219,     0.19319,     0.19419,      0.1952,      0.1962,      0.1972,      0.1982,      0.1992,      0.2002,      0.2012,      0.2022,      0.2032,      0.2042,     0.20521,     0.20621,     0.20721,     0.20821,     0.20921,     0.21021,     0.21121,     0.21221,     0.21321,     0.21421,     0.21522,\n",
      "           0.21622,     0.21722,     0.21822,     0.21922,     0.22022,     0.22122,     0.22222,     0.22322,     0.22422,     0.22523,     0.22623,     0.22723,     0.22823,     0.22923,     0.23023,     0.23123,     0.23223,     0.23323,     0.23423,     0.23524,     0.23624,     0.23724,     0.23824,     0.23924,\n",
      "           0.24024,     0.24124,     0.24224,     0.24324,     0.24424,     0.24525,     0.24625,     0.24725,     0.24825,     0.24925,     0.25025,     0.25125,     0.25225,     0.25325,     0.25425,     0.25526,     0.25626,     0.25726,     0.25826,     0.25926,     0.26026,     0.26126,     0.26226,     0.26326,\n",
      "           0.26426,     0.26527,     0.26627,     0.26727,     0.26827,     0.26927,     0.27027,     0.27127,     0.27227,     0.27327,     0.27427,     0.27528,     0.27628,     0.27728,     0.27828,     0.27928,     0.28028,     0.28128,     0.28228,     0.28328,     0.28428,     0.28529,     0.28629,     0.28729,\n",
      "           0.28829,     0.28929,     0.29029,     0.29129,     0.29229,     0.29329,     0.29429,      0.2953,      0.2963,      0.2973,      0.2983,      0.2993,      0.3003,      0.3013,      0.3023,      0.3033,      0.3043,     0.30531,     0.30631,     0.30731,     0.30831,     0.30931,     0.31031,     0.31131,\n",
      "           0.31231,     0.31331,     0.31431,     0.31532,     0.31632,     0.31732,     0.31832,     0.31932,     0.32032,     0.32132,     0.32232,     0.32332,     0.32432,     0.32533,     0.32633,     0.32733,     0.32833,     0.32933,     0.33033,     0.33133,     0.33233,     0.33333,     0.33433,     0.33534,\n",
      "           0.33634,     0.33734,     0.33834,     0.33934,     0.34034,     0.34134,     0.34234,     0.34334,     0.34434,     0.34535,     0.34635,     0.34735,     0.34835,     0.34935,     0.35035,     0.35135,     0.35235,     0.35335,     0.35435,     0.35536,     0.35636,     0.35736,     0.35836,     0.35936,\n",
      "           0.36036,     0.36136,     0.36236,     0.36336,     0.36436,     0.36537,     0.36637,     0.36737,     0.36837,     0.36937,     0.37037,     0.37137,     0.37237,     0.37337,     0.37437,     0.37538,     0.37638,     0.37738,     0.37838,     0.37938,     0.38038,     0.38138,     0.38238,     0.38338,\n",
      "           0.38438,     0.38539,     0.38639,     0.38739,     0.38839,     0.38939,     0.39039,     0.39139,     0.39239,     0.39339,     0.39439,      0.3954,      0.3964,      0.3974,      0.3984,      0.3994,      0.4004,      0.4014,      0.4024,      0.4034,      0.4044,     0.40541,     0.40641,     0.40741,\n",
      "           0.40841,     0.40941,     0.41041,     0.41141,     0.41241,     0.41341,     0.41441,     0.41542,     0.41642,     0.41742,     0.41842,     0.41942,     0.42042,     0.42142,     0.42242,     0.42342,     0.42442,     0.42543,     0.42643,     0.42743,     0.42843,     0.42943,     0.43043,     0.43143,\n",
      "           0.43243,     0.43343,     0.43443,     0.43544,     0.43644,     0.43744,     0.43844,     0.43944,     0.44044,     0.44144,     0.44244,     0.44344,     0.44444,     0.44545,     0.44645,     0.44745,     0.44845,     0.44945,     0.45045,     0.45145,     0.45245,     0.45345,     0.45445,     0.45546,\n",
      "           0.45646,     0.45746,     0.45846,     0.45946,     0.46046,     0.46146,     0.46246,     0.46346,     0.46446,     0.46547,     0.46647,     0.46747,     0.46847,     0.46947,     0.47047,     0.47147,     0.47247,     0.47347,     0.47447,     0.47548,     0.47648,     0.47748,     0.47848,     0.47948,\n",
      "           0.48048,     0.48148,     0.48248,     0.48348,     0.48448,     0.48549,     0.48649,     0.48749,     0.48849,     0.48949,     0.49049,     0.49149,     0.49249,     0.49349,     0.49449,      0.4955,      0.4965,      0.4975,      0.4985,      0.4995,      0.5005,      0.5015,      0.5025,      0.5035,\n",
      "            0.5045,     0.50551,     0.50651,     0.50751,     0.50851,     0.50951,     0.51051,     0.51151,     0.51251,     0.51351,     0.51451,     0.51552,     0.51652,     0.51752,     0.51852,     0.51952,     0.52052,     0.52152,     0.52252,     0.52352,     0.52452,     0.52553,     0.52653,     0.52753,\n",
      "           0.52853,     0.52953,     0.53053,     0.53153,     0.53253,     0.53353,     0.53453,     0.53554,     0.53654,     0.53754,     0.53854,     0.53954,     0.54054,     0.54154,     0.54254,     0.54354,     0.54454,     0.54555,     0.54655,     0.54755,     0.54855,     0.54955,     0.55055,     0.55155,\n",
      "           0.55255,     0.55355,     0.55455,     0.55556,     0.55656,     0.55756,     0.55856,     0.55956,     0.56056,     0.56156,     0.56256,     0.56356,     0.56456,     0.56557,     0.56657,     0.56757,     0.56857,     0.56957,     0.57057,     0.57157,     0.57257,     0.57357,     0.57457,     0.57558,\n",
      "           0.57658,     0.57758,     0.57858,     0.57958,     0.58058,     0.58158,     0.58258,     0.58358,     0.58458,     0.58559,     0.58659,     0.58759,     0.58859,     0.58959,     0.59059,     0.59159,     0.59259,     0.59359,     0.59459,      0.5956,      0.5966,      0.5976,      0.5986,      0.5996,\n",
      "            0.6006,      0.6016,      0.6026,      0.6036,      0.6046,     0.60561,     0.60661,     0.60761,     0.60861,     0.60961,     0.61061,     0.61161,     0.61261,     0.61361,     0.61461,     0.61562,     0.61662,     0.61762,     0.61862,     0.61962,     0.62062,     0.62162,     0.62262,     0.62362,\n",
      "           0.62462,     0.62563,     0.62663,     0.62763,     0.62863,     0.62963,     0.63063,     0.63163,     0.63263,     0.63363,     0.63463,     0.63564,     0.63664,     0.63764,     0.63864,     0.63964,     0.64064,     0.64164,     0.64264,     0.64364,     0.64464,     0.64565,     0.64665,     0.64765,\n",
      "           0.64865,     0.64965,     0.65065,     0.65165,     0.65265,     0.65365,     0.65465,     0.65566,     0.65666,     0.65766,     0.65866,     0.65966,     0.66066,     0.66166,     0.66266,     0.66366,     0.66466,     0.66567,     0.66667,     0.66767,     0.66867,     0.66967,     0.67067,     0.67167,\n",
      "           0.67267,     0.67367,     0.67467,     0.67568,     0.67668,     0.67768,     0.67868,     0.67968,     0.68068,     0.68168,     0.68268,     0.68368,     0.68468,     0.68569,     0.68669,     0.68769,     0.68869,     0.68969,     0.69069,     0.69169,     0.69269,     0.69369,     0.69469,      0.6957,\n",
      "            0.6967,      0.6977,      0.6987,      0.6997,      0.7007,      0.7017,      0.7027,      0.7037,      0.7047,     0.70571,     0.70671,     0.70771,     0.70871,     0.70971,     0.71071,     0.71171,     0.71271,     0.71371,     0.71471,     0.71572,     0.71672,     0.71772,     0.71872,     0.71972,\n",
      "           0.72072,     0.72172,     0.72272,     0.72372,     0.72472,     0.72573,     0.72673,     0.72773,     0.72873,     0.72973,     0.73073,     0.73173,     0.73273,     0.73373,     0.73473,     0.73574,     0.73674,     0.73774,     0.73874,     0.73974,     0.74074,     0.74174,     0.74274,     0.74374,\n",
      "           0.74474,     0.74575,     0.74675,     0.74775,     0.74875,     0.74975,     0.75075,     0.75175,     0.75275,     0.75375,     0.75475,     0.75576,     0.75676,     0.75776,     0.75876,     0.75976,     0.76076,     0.76176,     0.76276,     0.76376,     0.76476,     0.76577,     0.76677,     0.76777,\n",
      "           0.76877,     0.76977,     0.77077,     0.77177,     0.77277,     0.77377,     0.77477,     0.77578,     0.77678,     0.77778,     0.77878,     0.77978,     0.78078,     0.78178,     0.78278,     0.78378,     0.78478,     0.78579,     0.78679,     0.78779,     0.78879,     0.78979,     0.79079,     0.79179,\n",
      "           0.79279,     0.79379,     0.79479,      0.7958,      0.7968,      0.7978,      0.7988,      0.7998,      0.8008,      0.8018,      0.8028,      0.8038,      0.8048,     0.80581,     0.80681,     0.80781,     0.80881,     0.80981,     0.81081,     0.81181,     0.81281,     0.81381,     0.81481,     0.81582,\n",
      "           0.81682,     0.81782,     0.81882,     0.81982,     0.82082,     0.82182,     0.82282,     0.82382,     0.82482,     0.82583,     0.82683,     0.82783,     0.82883,     0.82983,     0.83083,     0.83183,     0.83283,     0.83383,     0.83483,     0.83584,     0.83684,     0.83784,     0.83884,     0.83984,\n",
      "           0.84084,     0.84184,     0.84284,     0.84384,     0.84484,     0.84585,     0.84685,     0.84785,     0.84885,     0.84985,     0.85085,     0.85185,     0.85285,     0.85385,     0.85485,     0.85586,     0.85686,     0.85786,     0.85886,     0.85986,     0.86086,     0.86186,     0.86286,     0.86386,\n",
      "           0.86486,     0.86587,     0.86687,     0.86787,     0.86887,     0.86987,     0.87087,     0.87187,     0.87287,     0.87387,     0.87487,     0.87588,     0.87688,     0.87788,     0.87888,     0.87988,     0.88088,     0.88188,     0.88288,     0.88388,     0.88488,     0.88589,     0.88689,     0.88789,\n",
      "           0.88889,     0.88989,     0.89089,     0.89189,     0.89289,     0.89389,     0.89489,      0.8959,      0.8969,      0.8979,      0.8989,      0.8999,      0.9009,      0.9019,      0.9029,      0.9039,      0.9049,     0.90591,     0.90691,     0.90791,     0.90891,     0.90991,     0.91091,     0.91191,\n",
      "           0.91291,     0.91391,     0.91491,     0.91592,     0.91692,     0.91792,     0.91892,     0.91992,     0.92092,     0.92192,     0.92292,     0.92392,     0.92492,     0.92593,     0.92693,     0.92793,     0.92893,     0.92993,     0.93093,     0.93193,     0.93293,     0.93393,     0.93493,     0.93594,\n",
      "           0.93694,     0.93794,     0.93894,     0.93994,     0.94094,     0.94194,     0.94294,     0.94394,     0.94494,     0.94595,     0.94695,     0.94795,     0.94895,     0.94995,     0.95095,     0.95195,     0.95295,     0.95395,     0.95495,     0.95596,     0.95696,     0.95796,     0.95896,     0.95996,\n",
      "           0.96096,     0.96196,     0.96296,     0.96396,     0.96496,     0.96597,     0.96697,     0.96797,     0.96897,     0.96997,     0.97097,     0.97197,     0.97297,     0.97397,     0.97497,     0.97598,     0.97698,     0.97798,     0.97898,     0.97998,     0.98098,     0.98198,     0.98298,     0.98398,\n",
      "           0.98498,     0.98599,     0.98699,     0.98799,     0.98899,     0.98999,     0.99099,     0.99199,     0.99299,     0.99399,     0.99499,       0.996,       0.997,       0.998,       0.999,           1]), array([[          1,           1,           1,           1,           1,           1,           1,           1,           1,           1,           1,           1,           1,           1,           1,           1,           1,     0.99897,     0.99897,     0.99897,     0.99897,     0.99897,     0.99897,\n",
      "            0.99897,     0.99897,     0.99897,     0.99897,     0.99897,     0.99897,     0.99897,     0.99897,     0.99897,     0.99897,     0.99897,     0.99897,     0.99897,     0.99897,     0.99897,     0.99897,     0.99897,     0.99897,     0.99897,     0.99897,     0.99897,     0.99897,     0.99897,\n",
      "            0.99897,     0.99897,     0.99897,     0.99897,     0.99897,     0.99897,     0.99897,     0.99897,     0.99897,     0.99897,     0.99897,     0.99897,     0.99897,     0.99897,     0.99897,     0.99897,     0.99897,     0.99897,     0.99897,     0.99897,     0.99897,     0.99897,     0.99897,\n",
      "            0.99897,     0.99897,     0.99897,     0.99897,     0.99897,     0.99897,     0.99897,     0.99897,     0.99897,     0.99897,     0.99897,     0.99897,     0.99897,     0.99897,     0.99897,     0.99897,     0.99897,     0.99897,     0.99897,     0.99897,     0.99897,     0.99897,     0.99897,\n",
      "            0.99897,     0.99897,     0.99897,     0.99897,     0.99884,     0.99884,     0.99884,     0.99884,     0.99884,     0.99884,     0.99884,     0.99884,     0.99884,     0.99884,     0.99884,     0.99884,     0.99884,     0.99884,     0.99884,     0.99884,     0.99884,     0.99884,     0.99884,\n",
      "            0.99884,     0.99884,     0.99884,     0.99884,     0.99884,     0.99884,     0.99884,     0.99884,     0.99884,     0.99884,     0.99884,     0.99884,     0.99884,     0.99884,     0.99884,     0.99884,     0.99884,     0.99884,     0.99884,     0.99884,     0.99884,     0.99884,     0.99884,\n",
      "            0.99884,     0.99884,     0.99884,     0.99884,     0.99869,     0.99869,     0.99869,     0.99869,     0.99869,     0.99869,     0.99869,     0.99869,     0.99869,     0.99832,     0.99832,     0.99832,     0.99832,     0.99832,     0.99832,     0.99821,     0.99821,     0.99821,     0.99821,\n",
      "            0.99821,     0.99821,     0.99821,     0.99821,     0.99821,      0.9981,      0.9981,      0.9981,      0.9981,      0.9981,      0.9981,      0.9981,      0.9981,      0.9981,      0.9981,      0.9981,      0.9981,      0.9981,      0.9981,      0.9981,      0.9981,      0.9981,      0.9981,\n",
      "             0.9981,      0.9981,      0.9981,      0.9981,      0.9981,      0.9981,      0.9981,     0.99808,     0.99808,     0.99808,     0.99808,     0.99808,     0.99808,     0.99808,     0.99808,     0.99808,     0.99808,     0.99808,     0.99808,     0.99808,     0.99808,     0.99808,     0.99805,\n",
      "            0.99805,     0.99805,     0.99805,     0.99805,     0.99805,     0.99805,     0.99805,     0.99805,     0.99805,     0.99805,     0.99805,     0.99805,     0.99795,     0.99795,     0.99795,     0.99795,     0.99795,     0.99782,     0.99782,     0.99754,     0.99741,     0.99734,     0.99734,\n",
      "            0.99734,     0.99734,     0.99734,     0.99734,     0.99734,     0.99724,     0.99724,     0.99724,     0.99714,     0.99714,     0.99714,     0.99714,     0.99702,      0.9969,     0.99679,     0.99679,     0.99679,     0.99679,     0.99679,     0.99679,     0.99679,     0.99679,     0.99679,\n",
      "            0.99679,     0.99679,     0.99679,     0.99656,     0.99656,     0.99646,     0.99646,     0.99628,     0.99628,     0.99628,     0.99628,     0.99624,     0.99624,     0.99624,     0.99624,     0.99624,     0.99624,     0.99603,     0.99603,     0.99603,      0.9958,     0.99575,     0.99575,\n",
      "            0.99575,     0.99575,     0.99553,     0.99521,     0.99521,     0.99501,      0.9949,      0.9947,     0.99462,     0.99462,     0.99453,     0.99444,     0.99444,     0.99425,     0.99425,     0.99421,     0.99421,     0.99421,     0.99415,     0.99415,     0.99415,     0.99397,     0.99397,\n",
      "            0.99356,     0.99347,     0.99317,     0.99302,     0.99302,     0.99302,     0.99294,     0.99287,     0.99287,     0.99279,     0.99272,     0.99255,     0.99255,     0.99247,     0.99229,     0.99222,     0.99213,     0.99196,     0.99188,     0.99184,     0.99184,     0.99176,     0.99167,\n",
      "            0.99149,     0.99133,     0.99105,     0.99088,     0.99077,     0.99077,     0.99077,     0.99031,     0.99014,     0.98998,     0.98991,     0.98974,     0.98958,     0.98934,     0.98925,      0.9891,     0.98903,     0.98897,     0.98872,     0.98838,     0.98823,      0.9878,     0.98763,\n",
      "             0.9873,     0.98715,       0.987,     0.98685,     0.98672,      0.9867,      0.9867,     0.98667,     0.98651,     0.98608,     0.98585,     0.98571,     0.98566,     0.98525,     0.98514,     0.98499,     0.98469,     0.98456,     0.98422,     0.98417,     0.98388,     0.98369,     0.98363,\n",
      "            0.98349,     0.98302,     0.98281,     0.98258,     0.98203,     0.98191,      0.9817,     0.98161,     0.98129,     0.98109,     0.98089,     0.98043,     0.97984,     0.97954,     0.97928,     0.97899,     0.97846,     0.97804,     0.97743,     0.97717,     0.97699,     0.97641,     0.97629,\n",
      "            0.97564,     0.97553,     0.97511,     0.97482,     0.97469,     0.97422,     0.97418,     0.97408,      0.9733,     0.97297,     0.97241,     0.97194,      0.9717,     0.97146,      0.9706,     0.97045,     0.97008,     0.96961,     0.96885,     0.96819,     0.96773,      0.9669,     0.96637,\n",
      "            0.96578,     0.96505,     0.96464,     0.96392,     0.96376,     0.96261,     0.96218,     0.96148,     0.96048,     0.95987,     0.95924,     0.95884,     0.95828,     0.95795,     0.95756,     0.95673,     0.95642,     0.95601,     0.95563,     0.95517,     0.95501,     0.95497,     0.95424,\n",
      "            0.95398,     0.95347,     0.95275,     0.95262,     0.95222,     0.95151,     0.95075,     0.95051,     0.94983,     0.94908,     0.94872,     0.94697,     0.94625,     0.94569,     0.94501,     0.94435,     0.94343,     0.94277,     0.94122,     0.94022,     0.94007,     0.93911,     0.93841,\n",
      "            0.93778,     0.93666,     0.93566,     0.93449,     0.93321,     0.93176,     0.93114,      0.9303,     0.92971,     0.92912,      0.9286,     0.92778,      0.9266,     0.92525,      0.9241,     0.92335,     0.92205,     0.92148,     0.92006,     0.91911,     0.91735,     0.91682,     0.91589,\n",
      "            0.91405,     0.91331,     0.91279,     0.91155,     0.90992,     0.90881,     0.90743,     0.90529,     0.90414,     0.90333,     0.90215,     0.90038,     0.89913,     0.89833,     0.89739,     0.89673,     0.89537,      0.8942,     0.89302,     0.89154,     0.88946,     0.88836,     0.88614,\n",
      "            0.88476,     0.88309,     0.88148,     0.88023,     0.87905,      0.8778,     0.87644,     0.87454,     0.87254,     0.87165,     0.87047,     0.86905,     0.86725,     0.86557,     0.86378,     0.86263,     0.86201,     0.86078,     0.85883,      0.8572,     0.85548,     0.85403,     0.85241,\n",
      "             0.8499,     0.84817,      0.8458,     0.84378,     0.84179,     0.83956,     0.83743,     0.83597,     0.83321,     0.83139,     0.82992,     0.82737,     0.82514,     0.82271,     0.82157,     0.81814,     0.81672,     0.81378,     0.81172,     0.80935,     0.80687,     0.80493,     0.80236,\n",
      "            0.80009,     0.79858,     0.79689,     0.79417,     0.79183,     0.78884,     0.78693,     0.78361,     0.78072,     0.77642,     0.77438,      0.7712,     0.76949,     0.76767,     0.76474,     0.76234,     0.76023,     0.75766,     0.75491,     0.75116,     0.74867,     0.74665,     0.74187,\n",
      "            0.73981,     0.73733,     0.73438,     0.73272,      0.7299,     0.72609,     0.72379,     0.72218,     0.71973,     0.71712,     0.71386,     0.71046,      0.7076,     0.70456,     0.70101,      0.6977,     0.69397,     0.69021,     0.68656,     0.68311,     0.67903,      0.6746,     0.67189,\n",
      "            0.66843,     0.66489,     0.66301,     0.66089,     0.65871,     0.65429,     0.65197,     0.64823,     0.64363,     0.64038,     0.63767,     0.63457,     0.63084,      0.6275,     0.62423,     0.62049,     0.61611,     0.61153,     0.60646,     0.60404,     0.59946,     0.59682,     0.59264,\n",
      "            0.58867,     0.58558,     0.58143,     0.57726,     0.57259,     0.56772,     0.56349,     0.56018,     0.55509,     0.55055,     0.54581,      0.5416,     0.53773,     0.53309,     0.52777,     0.52422,     0.51808,     0.51277,     0.50895,      0.5049,     0.50064,     0.49612,     0.49068,\n",
      "            0.48471,     0.47932,     0.47472,     0.47003,     0.46565,     0.46088,     0.45559,     0.44986,     0.44372,     0.43848,     0.43463,     0.43023,     0.42461,     0.41987,     0.41467,     0.41009,     0.40503,     0.39927,      0.3959,     0.38955,     0.38415,     0.37878,     0.37422,\n",
      "            0.37094,     0.36578,     0.35903,     0.35254,      0.3477,     0.34157,     0.33712,     0.33266,     0.32793,     0.32116,     0.31397,     0.30834,     0.30216,     0.29481,     0.28855,      0.2829,     0.27704,     0.27122,     0.26464,     0.25909,     0.25204,      0.2471,     0.24093,\n",
      "            0.23679,     0.22965,     0.22585,     0.22037,     0.21666,     0.20979,     0.20172,     0.19529,     0.18854,     0.18112,      0.1735,     0.16496,     0.15753,      0.1502,     0.14226,     0.13277,      0.1243,     0.11545,     0.10388,    0.096077,    0.095746,    0.095414,    0.095083,\n",
      "           0.094752,     0.09442,    0.094089,    0.093758,    0.093427,    0.093095,    0.092764,    0.092433,    0.092101,     0.09177,    0.091439,    0.091107,    0.090776,    0.090445,    0.090114,    0.089782,    0.089451,     0.08912,    0.088788,    0.088457,    0.088126,    0.087794,    0.087463,\n",
      "           0.087132,    0.086801,    0.086469,    0.086138,    0.085807,    0.085475,    0.085144,    0.084813,    0.084481,     0.08415,    0.083819,    0.083488,    0.083156,    0.082825,    0.082494,    0.082162,    0.081831,      0.0815,    0.081168,    0.080837,    0.080506,    0.080175,    0.079843,\n",
      "           0.079512,    0.079181,    0.078849,    0.078518,    0.078187,    0.077855,    0.077524,    0.077193,    0.076862,     0.07653,    0.076199,    0.075868,    0.075536,    0.075205,    0.074874,    0.074542,    0.074211,     0.07388,    0.073549,    0.073217,    0.072886,    0.072555,    0.072223,\n",
      "           0.071892,    0.071561,    0.071229,    0.070898,    0.070567,    0.070236,    0.069904,    0.069573,    0.069242,     0.06891,    0.068579,    0.068248,    0.067916,    0.067585,    0.067254,    0.066923,    0.066591,     0.06626,    0.065929,    0.065597,    0.065266,    0.064935,    0.064603,\n",
      "           0.064272,    0.063941,     0.06361,    0.063278,    0.062947,    0.062616,    0.062284,    0.061953,    0.061622,     0.06129,    0.060959,    0.060628,    0.060297,    0.059965,    0.059634,    0.059303,    0.058971,     0.05864,    0.058309,    0.057977,    0.057646,    0.057315,    0.056984,\n",
      "           0.056652,    0.056321,     0.05599,    0.055658,    0.055327,    0.054996,    0.054664,    0.054333,    0.054002,    0.053671,    0.053339,    0.053008,    0.052677,    0.052345,    0.052014,    0.051683,    0.051351,     0.05102,    0.050689,    0.050358,    0.050026,    0.049695,    0.049364,\n",
      "           0.049032,    0.048701,     0.04837,    0.048038,    0.047707,    0.047376,    0.047045,    0.046713,    0.046382,    0.046051,    0.045719,    0.045388,    0.045057,    0.044725,    0.044394,    0.044063,    0.043732,      0.0434,    0.043069,    0.042738,    0.042406,    0.042075,    0.041744,\n",
      "           0.041412,    0.041081,     0.04075,    0.040419,    0.040087,    0.039756,    0.039425,    0.039093,    0.038762,    0.038431,    0.038099,    0.037768,    0.037437,    0.037106,    0.036774,    0.036443,    0.036112,     0.03578,    0.035449,    0.035118,    0.034786,    0.034455,    0.034124,\n",
      "           0.033793,    0.033461,     0.03313,    0.032799,    0.032467,    0.032136,    0.031805,    0.031473,    0.031142,    0.030811,     0.03048,    0.030148,    0.029817,    0.029486,    0.029154,    0.028823,    0.028492,     0.02816,    0.027829,    0.027498,    0.027167,    0.026835,    0.026504,\n",
      "           0.026173,    0.025841,     0.02551,    0.025179,    0.024847,    0.024516,    0.024185,    0.023854,    0.023522,    0.023191,     0.02286,    0.022528,    0.022197,    0.021866,    0.021534,    0.021203,    0.020872,    0.020541,    0.020209,    0.019878,    0.019547,    0.019215,    0.018884,\n",
      "           0.018553,    0.018221,     0.01789,    0.017559,    0.017228,    0.016896,    0.016565,    0.016234,    0.015902,    0.015571,     0.01524,    0.014908,    0.014577,    0.014246,    0.013915,    0.013583,    0.013252,    0.012921,    0.012589,    0.012258,    0.011927,    0.011595,    0.011264,\n",
      "           0.010933,    0.010602,     0.01027,    0.009939,   0.0096077,   0.0092764,   0.0089451,   0.0086138,   0.0082825,   0.0079512,   0.0076199,   0.0072886,   0.0069573,    0.006626,   0.0062947,   0.0059634,   0.0056321,   0.0053008,   0.0049695,   0.0046382,   0.0043069,   0.0039756,   0.0036443,\n",
      "           0.003313,   0.0029817,   0.0026504,   0.0023191,   0.0019878,   0.0016565,   0.0013252,   0.0009939,   0.0006626,   0.0003313,           0]]), 'Recall', 'Precision'], [array([          0,    0.001001,    0.002002,    0.003003,    0.004004,    0.005005,    0.006006,    0.007007,    0.008008,    0.009009,     0.01001,    0.011011,    0.012012,    0.013013,    0.014014,    0.015015,    0.016016,    0.017017,    0.018018,    0.019019,     0.02002,    0.021021,    0.022022,    0.023023,\n",
      "          0.024024,    0.025025,    0.026026,    0.027027,    0.028028,    0.029029,     0.03003,    0.031031,    0.032032,    0.033033,    0.034034,    0.035035,    0.036036,    0.037037,    0.038038,    0.039039,     0.04004,    0.041041,    0.042042,    0.043043,    0.044044,    0.045045,    0.046046,    0.047047,\n",
      "          0.048048,    0.049049,     0.05005,    0.051051,    0.052052,    0.053053,    0.054054,    0.055055,    0.056056,    0.057057,    0.058058,    0.059059,     0.06006,    0.061061,    0.062062,    0.063063,    0.064064,    0.065065,    0.066066,    0.067067,    0.068068,    0.069069,     0.07007,    0.071071,\n",
      "          0.072072,    0.073073,    0.074074,    0.075075,    0.076076,    0.077077,    0.078078,    0.079079,     0.08008,    0.081081,    0.082082,    0.083083,    0.084084,    0.085085,    0.086086,    0.087087,    0.088088,    0.089089,     0.09009,    0.091091,    0.092092,    0.093093,    0.094094,    0.095095,\n",
      "          0.096096,    0.097097,    0.098098,    0.099099,      0.1001,      0.1011,      0.1021,      0.1031,      0.1041,     0.10511,     0.10611,     0.10711,     0.10811,     0.10911,     0.11011,     0.11111,     0.11211,     0.11311,     0.11411,     0.11512,     0.11612,     0.11712,     0.11812,     0.11912,\n",
      "           0.12012,     0.12112,     0.12212,     0.12312,     0.12412,     0.12513,     0.12613,     0.12713,     0.12813,     0.12913,     0.13013,     0.13113,     0.13213,     0.13313,     0.13413,     0.13514,     0.13614,     0.13714,     0.13814,     0.13914,     0.14014,     0.14114,     0.14214,     0.14314,\n",
      "           0.14414,     0.14515,     0.14615,     0.14715,     0.14815,     0.14915,     0.15015,     0.15115,     0.15215,     0.15315,     0.15415,     0.15516,     0.15616,     0.15716,     0.15816,     0.15916,     0.16016,     0.16116,     0.16216,     0.16316,     0.16416,     0.16517,     0.16617,     0.16717,\n",
      "           0.16817,     0.16917,     0.17017,     0.17117,     0.17217,     0.17317,     0.17417,     0.17518,     0.17618,     0.17718,     0.17818,     0.17918,     0.18018,     0.18118,     0.18218,     0.18318,     0.18418,     0.18519,     0.18619,     0.18719,     0.18819,     0.18919,     0.19019,     0.19119,\n",
      "           0.19219,     0.19319,     0.19419,      0.1952,      0.1962,      0.1972,      0.1982,      0.1992,      0.2002,      0.2012,      0.2022,      0.2032,      0.2042,     0.20521,     0.20621,     0.20721,     0.20821,     0.20921,     0.21021,     0.21121,     0.21221,     0.21321,     0.21421,     0.21522,\n",
      "           0.21622,     0.21722,     0.21822,     0.21922,     0.22022,     0.22122,     0.22222,     0.22322,     0.22422,     0.22523,     0.22623,     0.22723,     0.22823,     0.22923,     0.23023,     0.23123,     0.23223,     0.23323,     0.23423,     0.23524,     0.23624,     0.23724,     0.23824,     0.23924,\n",
      "           0.24024,     0.24124,     0.24224,     0.24324,     0.24424,     0.24525,     0.24625,     0.24725,     0.24825,     0.24925,     0.25025,     0.25125,     0.25225,     0.25325,     0.25425,     0.25526,     0.25626,     0.25726,     0.25826,     0.25926,     0.26026,     0.26126,     0.26226,     0.26326,\n",
      "           0.26426,     0.26527,     0.26627,     0.26727,     0.26827,     0.26927,     0.27027,     0.27127,     0.27227,     0.27327,     0.27427,     0.27528,     0.27628,     0.27728,     0.27828,     0.27928,     0.28028,     0.28128,     0.28228,     0.28328,     0.28428,     0.28529,     0.28629,     0.28729,\n",
      "           0.28829,     0.28929,     0.29029,     0.29129,     0.29229,     0.29329,     0.29429,      0.2953,      0.2963,      0.2973,      0.2983,      0.2993,      0.3003,      0.3013,      0.3023,      0.3033,      0.3043,     0.30531,     0.30631,     0.30731,     0.30831,     0.30931,     0.31031,     0.31131,\n",
      "           0.31231,     0.31331,     0.31431,     0.31532,     0.31632,     0.31732,     0.31832,     0.31932,     0.32032,     0.32132,     0.32232,     0.32332,     0.32432,     0.32533,     0.32633,     0.32733,     0.32833,     0.32933,     0.33033,     0.33133,     0.33233,     0.33333,     0.33433,     0.33534,\n",
      "           0.33634,     0.33734,     0.33834,     0.33934,     0.34034,     0.34134,     0.34234,     0.34334,     0.34434,     0.34535,     0.34635,     0.34735,     0.34835,     0.34935,     0.35035,     0.35135,     0.35235,     0.35335,     0.35435,     0.35536,     0.35636,     0.35736,     0.35836,     0.35936,\n",
      "           0.36036,     0.36136,     0.36236,     0.36336,     0.36436,     0.36537,     0.36637,     0.36737,     0.36837,     0.36937,     0.37037,     0.37137,     0.37237,     0.37337,     0.37437,     0.37538,     0.37638,     0.37738,     0.37838,     0.37938,     0.38038,     0.38138,     0.38238,     0.38338,\n",
      "           0.38438,     0.38539,     0.38639,     0.38739,     0.38839,     0.38939,     0.39039,     0.39139,     0.39239,     0.39339,     0.39439,      0.3954,      0.3964,      0.3974,      0.3984,      0.3994,      0.4004,      0.4014,      0.4024,      0.4034,      0.4044,     0.40541,     0.40641,     0.40741,\n",
      "           0.40841,     0.40941,     0.41041,     0.41141,     0.41241,     0.41341,     0.41441,     0.41542,     0.41642,     0.41742,     0.41842,     0.41942,     0.42042,     0.42142,     0.42242,     0.42342,     0.42442,     0.42543,     0.42643,     0.42743,     0.42843,     0.42943,     0.43043,     0.43143,\n",
      "           0.43243,     0.43343,     0.43443,     0.43544,     0.43644,     0.43744,     0.43844,     0.43944,     0.44044,     0.44144,     0.44244,     0.44344,     0.44444,     0.44545,     0.44645,     0.44745,     0.44845,     0.44945,     0.45045,     0.45145,     0.45245,     0.45345,     0.45445,     0.45546,\n",
      "           0.45646,     0.45746,     0.45846,     0.45946,     0.46046,     0.46146,     0.46246,     0.46346,     0.46446,     0.46547,     0.46647,     0.46747,     0.46847,     0.46947,     0.47047,     0.47147,     0.47247,     0.47347,     0.47447,     0.47548,     0.47648,     0.47748,     0.47848,     0.47948,\n",
      "           0.48048,     0.48148,     0.48248,     0.48348,     0.48448,     0.48549,     0.48649,     0.48749,     0.48849,     0.48949,     0.49049,     0.49149,     0.49249,     0.49349,     0.49449,      0.4955,      0.4965,      0.4975,      0.4985,      0.4995,      0.5005,      0.5015,      0.5025,      0.5035,\n",
      "            0.5045,     0.50551,     0.50651,     0.50751,     0.50851,     0.50951,     0.51051,     0.51151,     0.51251,     0.51351,     0.51451,     0.51552,     0.51652,     0.51752,     0.51852,     0.51952,     0.52052,     0.52152,     0.52252,     0.52352,     0.52452,     0.52553,     0.52653,     0.52753,\n",
      "           0.52853,     0.52953,     0.53053,     0.53153,     0.53253,     0.53353,     0.53453,     0.53554,     0.53654,     0.53754,     0.53854,     0.53954,     0.54054,     0.54154,     0.54254,     0.54354,     0.54454,     0.54555,     0.54655,     0.54755,     0.54855,     0.54955,     0.55055,     0.55155,\n",
      "           0.55255,     0.55355,     0.55455,     0.55556,     0.55656,     0.55756,     0.55856,     0.55956,     0.56056,     0.56156,     0.56256,     0.56356,     0.56456,     0.56557,     0.56657,     0.56757,     0.56857,     0.56957,     0.57057,     0.57157,     0.57257,     0.57357,     0.57457,     0.57558,\n",
      "           0.57658,     0.57758,     0.57858,     0.57958,     0.58058,     0.58158,     0.58258,     0.58358,     0.58458,     0.58559,     0.58659,     0.58759,     0.58859,     0.58959,     0.59059,     0.59159,     0.59259,     0.59359,     0.59459,      0.5956,      0.5966,      0.5976,      0.5986,      0.5996,\n",
      "            0.6006,      0.6016,      0.6026,      0.6036,      0.6046,     0.60561,     0.60661,     0.60761,     0.60861,     0.60961,     0.61061,     0.61161,     0.61261,     0.61361,     0.61461,     0.61562,     0.61662,     0.61762,     0.61862,     0.61962,     0.62062,     0.62162,     0.62262,     0.62362,\n",
      "           0.62462,     0.62563,     0.62663,     0.62763,     0.62863,     0.62963,     0.63063,     0.63163,     0.63263,     0.63363,     0.63463,     0.63564,     0.63664,     0.63764,     0.63864,     0.63964,     0.64064,     0.64164,     0.64264,     0.64364,     0.64464,     0.64565,     0.64665,     0.64765,\n",
      "           0.64865,     0.64965,     0.65065,     0.65165,     0.65265,     0.65365,     0.65465,     0.65566,     0.65666,     0.65766,     0.65866,     0.65966,     0.66066,     0.66166,     0.66266,     0.66366,     0.66466,     0.66567,     0.66667,     0.66767,     0.66867,     0.66967,     0.67067,     0.67167,\n",
      "           0.67267,     0.67367,     0.67467,     0.67568,     0.67668,     0.67768,     0.67868,     0.67968,     0.68068,     0.68168,     0.68268,     0.68368,     0.68468,     0.68569,     0.68669,     0.68769,     0.68869,     0.68969,     0.69069,     0.69169,     0.69269,     0.69369,     0.69469,      0.6957,\n",
      "            0.6967,      0.6977,      0.6987,      0.6997,      0.7007,      0.7017,      0.7027,      0.7037,      0.7047,     0.70571,     0.70671,     0.70771,     0.70871,     0.70971,     0.71071,     0.71171,     0.71271,     0.71371,     0.71471,     0.71572,     0.71672,     0.71772,     0.71872,     0.71972,\n",
      "           0.72072,     0.72172,     0.72272,     0.72372,     0.72472,     0.72573,     0.72673,     0.72773,     0.72873,     0.72973,     0.73073,     0.73173,     0.73273,     0.73373,     0.73473,     0.73574,     0.73674,     0.73774,     0.73874,     0.73974,     0.74074,     0.74174,     0.74274,     0.74374,\n",
      "           0.74474,     0.74575,     0.74675,     0.74775,     0.74875,     0.74975,     0.75075,     0.75175,     0.75275,     0.75375,     0.75475,     0.75576,     0.75676,     0.75776,     0.75876,     0.75976,     0.76076,     0.76176,     0.76276,     0.76376,     0.76476,     0.76577,     0.76677,     0.76777,\n",
      "           0.76877,     0.76977,     0.77077,     0.77177,     0.77277,     0.77377,     0.77477,     0.77578,     0.77678,     0.77778,     0.77878,     0.77978,     0.78078,     0.78178,     0.78278,     0.78378,     0.78478,     0.78579,     0.78679,     0.78779,     0.78879,     0.78979,     0.79079,     0.79179,\n",
      "           0.79279,     0.79379,     0.79479,      0.7958,      0.7968,      0.7978,      0.7988,      0.7998,      0.8008,      0.8018,      0.8028,      0.8038,      0.8048,     0.80581,     0.80681,     0.80781,     0.80881,     0.80981,     0.81081,     0.81181,     0.81281,     0.81381,     0.81481,     0.81582,\n",
      "           0.81682,     0.81782,     0.81882,     0.81982,     0.82082,     0.82182,     0.82282,     0.82382,     0.82482,     0.82583,     0.82683,     0.82783,     0.82883,     0.82983,     0.83083,     0.83183,     0.83283,     0.83383,     0.83483,     0.83584,     0.83684,     0.83784,     0.83884,     0.83984,\n",
      "           0.84084,     0.84184,     0.84284,     0.84384,     0.84484,     0.84585,     0.84685,     0.84785,     0.84885,     0.84985,     0.85085,     0.85185,     0.85285,     0.85385,     0.85485,     0.85586,     0.85686,     0.85786,     0.85886,     0.85986,     0.86086,     0.86186,     0.86286,     0.86386,\n",
      "           0.86486,     0.86587,     0.86687,     0.86787,     0.86887,     0.86987,     0.87087,     0.87187,     0.87287,     0.87387,     0.87487,     0.87588,     0.87688,     0.87788,     0.87888,     0.87988,     0.88088,     0.88188,     0.88288,     0.88388,     0.88488,     0.88589,     0.88689,     0.88789,\n",
      "           0.88889,     0.88989,     0.89089,     0.89189,     0.89289,     0.89389,     0.89489,      0.8959,      0.8969,      0.8979,      0.8989,      0.8999,      0.9009,      0.9019,      0.9029,      0.9039,      0.9049,     0.90591,     0.90691,     0.90791,     0.90891,     0.90991,     0.91091,     0.91191,\n",
      "           0.91291,     0.91391,     0.91491,     0.91592,     0.91692,     0.91792,     0.91892,     0.91992,     0.92092,     0.92192,     0.92292,     0.92392,     0.92492,     0.92593,     0.92693,     0.92793,     0.92893,     0.92993,     0.93093,     0.93193,     0.93293,     0.93393,     0.93493,     0.93594,\n",
      "           0.93694,     0.93794,     0.93894,     0.93994,     0.94094,     0.94194,     0.94294,     0.94394,     0.94494,     0.94595,     0.94695,     0.94795,     0.94895,     0.94995,     0.95095,     0.95195,     0.95295,     0.95395,     0.95495,     0.95596,     0.95696,     0.95796,     0.95896,     0.95996,\n",
      "           0.96096,     0.96196,     0.96296,     0.96396,     0.96496,     0.96597,     0.96697,     0.96797,     0.96897,     0.96997,     0.97097,     0.97197,     0.97297,     0.97397,     0.97497,     0.97598,     0.97698,     0.97798,     0.97898,     0.97998,     0.98098,     0.98198,     0.98298,     0.98398,\n",
      "           0.98498,     0.98599,     0.98699,     0.98799,     0.98899,     0.98999,     0.99099,     0.99199,     0.99299,     0.99399,     0.99499,       0.996,       0.997,       0.998,       0.999,           1]), array([[    0.16934,     0.16939,     0.21222,      0.2418,     0.26455,     0.28321,     0.29989,     0.31403,     0.32681,     0.33815,     0.34869,     0.35815,     0.36717,     0.37575,     0.38401,     0.39169,     0.39884,      0.4056,     0.41214,     0.41833,     0.42461,     0.43051,     0.43637,\n",
      "            0.44181,     0.44675,     0.45151,     0.45615,     0.46084,     0.46547,     0.46984,     0.47403,     0.47825,     0.48194,     0.48569,     0.48933,     0.49268,     0.49611,     0.49896,     0.50237,      0.5056,     0.50873,     0.51185,     0.51453,     0.51743,     0.52026,     0.52286,\n",
      "            0.52556,      0.5283,     0.53085,     0.53348,     0.53618,     0.53868,     0.54126,      0.5436,     0.54592,     0.54804,     0.55013,     0.55251,     0.55458,     0.55666,     0.55875,     0.56045,     0.56232,     0.56416,       0.566,     0.56768,     0.56951,     0.57119,      0.5735,\n",
      "            0.57549,     0.57703,     0.57872,     0.58034,     0.58185,     0.58322,     0.58486,     0.58626,      0.5875,     0.58885,     0.59021,     0.59141,     0.59292,     0.59424,     0.59539,     0.59651,     0.59804,     0.59927,     0.60049,     0.60162,     0.60272,     0.60386,     0.60487,\n",
      "            0.60578,     0.60691,     0.60801,     0.60873,     0.60956,     0.61068,     0.61143,      0.6124,     0.61344,      0.6145,     0.61511,     0.61588,     0.61683,     0.61763,     0.61846,     0.61922,     0.61977,     0.62056,     0.62131,     0.62203,     0.62262,     0.62338,     0.62384,\n",
      "            0.62459,     0.62533,     0.62606,     0.62656,     0.62723,     0.62775,     0.62829,     0.62899,     0.62954,     0.62985,     0.63042,     0.63064,     0.63136,     0.63202,     0.63253,     0.63301,     0.63351,     0.63397,     0.63457,     0.63526,     0.63574,     0.63617,     0.63668,\n",
      "            0.63727,      0.6377,     0.63835,     0.63886,     0.63923,     0.63972,     0.63998,     0.64046,     0.64073,     0.64128,     0.64161,      0.6421,     0.64243,     0.64267,     0.64294,     0.64351,     0.64386,     0.64411,     0.64434,     0.64458,     0.64483,     0.64491,     0.64498,\n",
      "            0.64529,     0.64561,     0.64612,     0.64649,     0.64659,     0.64672,     0.64683,     0.64706,     0.64718,     0.64739,      0.6475,      0.6478,      0.6482,     0.64857,     0.64874,     0.64883,     0.64915,     0.64929,     0.64959,     0.64989,     0.65012,     0.65016,     0.65032,\n",
      "            0.65058,     0.65056,      0.6507,     0.65081,     0.65091,     0.65097,     0.65127,     0.65145,     0.65126,     0.65135,     0.65147,     0.65168,     0.65183,     0.65179,     0.65192,     0.65226,     0.65251,     0.65288,     0.65303,     0.65305,     0.65328,     0.65324,     0.65335,\n",
      "            0.65341,     0.65369,     0.65376,     0.65383,     0.65404,     0.65411,     0.65398,     0.65382,     0.65371,     0.65365,     0.65365,     0.65379,     0.65397,     0.65381,     0.65377,     0.65381,     0.65383,     0.65383,     0.65387,     0.65406,     0.65389,     0.65394,     0.65413,\n",
      "             0.6541,     0.65399,     0.65388,     0.65416,     0.65425,     0.65402,     0.65402,     0.65402,     0.65386,     0.65381,     0.65394,     0.65386,      0.6539,     0.65394,     0.65372,     0.65359,     0.65361,     0.65353,     0.65368,      0.6536,     0.65354,     0.65338,     0.65322,\n",
      "            0.65333,     0.65321,     0.65317,     0.65315,     0.65311,     0.65296,     0.65294,     0.65296,     0.65283,     0.65277,     0.65284,      0.6527,     0.65251,     0.65259,     0.65245,     0.65271,     0.65237,     0.65221,     0.65207,      0.6519,     0.65185,      0.6517,     0.65151,\n",
      "            0.65135,     0.65132,     0.65128,     0.65109,     0.65084,     0.65051,     0.65015,     0.64997,     0.64967,     0.64952,      0.6495,     0.64926,     0.64897,     0.64891,     0.64884,     0.64862,     0.64851,     0.64814,     0.64781,     0.64757,     0.64736,     0.64725,      0.6471,\n",
      "            0.64695,     0.64692,     0.64671,     0.64651,     0.64624,     0.64608,     0.64576,     0.64547,      0.6453,     0.64509,     0.64494,     0.64481,     0.64464,     0.64441,     0.64416,     0.64408,     0.64377,     0.64372,     0.64375,     0.64348,     0.64311,       0.643,     0.64301,\n",
      "            0.64294,     0.64274,     0.64262,     0.64241,     0.64219,     0.64194,     0.64168,     0.64145,     0.64116,     0.64101,     0.64089,     0.64047,     0.64011,     0.63975,     0.63942,     0.63907,     0.63886,     0.63868,     0.63839,     0.63821,     0.63799,     0.63786,     0.63748,\n",
      "            0.63725,     0.63686,      0.6367,     0.63648,     0.63625,     0.63624,     0.63599,     0.63574,     0.63549,     0.63519,     0.63482,     0.63474,     0.63444,     0.63422,     0.63387,     0.63338,     0.63288,     0.63263,      0.6323,     0.63206,     0.63208,     0.63185,     0.63163,\n",
      "            0.63116,     0.63063,     0.63034,     0.63019,     0.62994,     0.62966,     0.62941,     0.62923,      0.6288,     0.62832,     0.62802,     0.62788,     0.62752,     0.62712,     0.62671,     0.62644,     0.62641,     0.62608,     0.62581,     0.62546,     0.62526,     0.62489,     0.62469,\n",
      "            0.62432,     0.62384,     0.62342,     0.62306,     0.62273,     0.62236,     0.62211,     0.62167,     0.62117,      0.6208,      0.6206,     0.62035,     0.62012,      0.6198,     0.61962,     0.61938,     0.61912,     0.61871,     0.61836,     0.61818,       0.618,     0.61771,     0.61745,\n",
      "            0.61709,     0.61668,     0.61624,     0.61597,     0.61572,     0.61517,     0.61447,     0.61411,     0.61374,     0.61348,     0.61331,     0.61313,     0.61272,     0.61235,     0.61183,      0.6116,     0.61112,     0.61078,     0.61047,     0.60995,     0.60947,     0.60916,     0.60873,\n",
      "             0.6086,     0.60849,      0.6082,     0.60767,     0.60721,     0.60682,     0.60637,     0.60595,     0.60547,     0.60486,     0.60453,     0.60429,      0.6038,     0.60353,     0.60307,     0.60267,     0.60214,     0.60155,      0.6013,     0.60078,      0.6005,     0.60015,     0.59979,\n",
      "            0.59943,     0.59898,     0.59839,     0.59795,     0.59737,     0.59687,     0.59623,     0.59568,     0.59532,     0.59481,      0.5942,     0.59386,     0.59335,     0.59303,     0.59268,     0.59221,     0.59176,      0.5912,     0.59073,     0.59029,     0.58979,     0.58943,     0.58895,\n",
      "            0.58841,     0.58793,      0.5874,     0.58705,     0.58675,     0.58644,     0.58608,     0.58574,      0.5852,     0.58462,      0.5842,      0.5839,     0.58335,     0.58292,      0.5824,     0.58188,     0.58137,     0.58076,     0.58042,     0.57971,     0.57923,      0.5786,     0.57809,\n",
      "            0.57765,     0.57707,     0.57653,      0.5762,     0.57578,     0.57515,     0.57491,     0.57436,     0.57399,      0.5735,     0.57279,     0.57203,     0.57176,     0.57128,     0.57063,     0.57009,     0.56948,     0.56901,     0.56859,     0.56815,     0.56781,     0.56741,     0.56672,\n",
      "            0.56631,     0.56582,     0.56541,     0.56467,       0.564,     0.56338,     0.56306,     0.56258,     0.56199,     0.56098,     0.56033,     0.55998,     0.55924,     0.55881,     0.55825,     0.55783,     0.55715,     0.55647,     0.55614,     0.55549,     0.55494,     0.55427,     0.55381,\n",
      "            0.55325,     0.55288,     0.55236,     0.55195,     0.55171,     0.55115,      0.5506,     0.54999,     0.54941,     0.54871,     0.54821,     0.54766,     0.54712,     0.54681,     0.54617,      0.5457,     0.54506,     0.54423,     0.54367,     0.54314,     0.54251,     0.54197,     0.54135,\n",
      "            0.54081,     0.54009,     0.53955,     0.53905,     0.53835,     0.53784,     0.53731,      0.5368,     0.53623,     0.53568,     0.53516,     0.53448,     0.53374,      0.5331,     0.53238,     0.53178,     0.53135,     0.53071,     0.53022,     0.52947,     0.52862,     0.52792,     0.52737,\n",
      "            0.52679,     0.52589,      0.5252,     0.52469,     0.52384,     0.52285,     0.52241,     0.52161,     0.52098,     0.52054,     0.52007,     0.51936,     0.51871,     0.51758,     0.51686,     0.51621,     0.51519,     0.51471,     0.51385,     0.51345,     0.51286,     0.51202,     0.51153,\n",
      "            0.51076,     0.51003,     0.50914,     0.50799,     0.50763,     0.50695,     0.50615,     0.50532,     0.50453,     0.50382,     0.50311,      0.5027,     0.50201,      0.5014,     0.50057,     0.49976,     0.49913,     0.49831,     0.49748,     0.49652,     0.49586,     0.49475,      0.4942,\n",
      "            0.49352,      0.4928,     0.49253,     0.49164,     0.49104,     0.49042,     0.48974,     0.48889,     0.48824,     0.48735,     0.48684,     0.48588,     0.48541,      0.4848,     0.48417,     0.48364,     0.48297,     0.48213,     0.48114,     0.47999,      0.4795,     0.47864,     0.47742,\n",
      "            0.47689,     0.47584,     0.47516,     0.47427,     0.47332,     0.47226,     0.47155,     0.47052,      0.4696,     0.46884,     0.46804,     0.46707,     0.46598,     0.46509,     0.46417,     0.46285,     0.46216,     0.46123,      0.4604,     0.45955,     0.45873,     0.45753,      0.4565,\n",
      "             0.4555,     0.45451,     0.45351,     0.45239,     0.45107,     0.44998,     0.44862,      0.4477,      0.4465,     0.44535,     0.44426,     0.44315,     0.44228,     0.44107,     0.43999,     0.43885,     0.43788,     0.43654,     0.43563,     0.43473,     0.43343,     0.43247,     0.43111,\n",
      "            0.43004,     0.42904,     0.42823,     0.42728,     0.42628,     0.42524,      0.4242,     0.42317,     0.42204,     0.42037,     0.41892,     0.41783,      0.4166,     0.41534,     0.41411,      0.4131,     0.41173,     0.41033,     0.40905,     0.40756,     0.40641,     0.40482,     0.40323,\n",
      "            0.40154,     0.40034,     0.39897,     0.39757,      0.3958,     0.39408,     0.39245,     0.39119,     0.38976,     0.38877,     0.38753,     0.38576,      0.3844,      0.3826,     0.38129,     0.38011,     0.37841,     0.37675,     0.37487,     0.37323,     0.37146,     0.36982,     0.36812,\n",
      "            0.36599,     0.36416,     0.36246,     0.36017,      0.3584,      0.3567,     0.35476,     0.35278,     0.35123,     0.34869,     0.34673,     0.34492,     0.34335,     0.34112,     0.33908,     0.33671,     0.33399,     0.33234,     0.33026,       0.328,     0.32536,     0.32289,     0.32017,\n",
      "            0.31761,     0.31501,     0.31218,     0.31009,     0.30713,     0.30413,     0.30122,     0.29848,     0.29561,     0.29292,     0.29003,     0.28764,     0.28429,     0.28164,     0.27811,     0.27501,     0.27186,     0.26926,     0.26558,     0.26283,      0.2596,      0.2561,     0.25332,\n",
      "            0.24939,     0.24575,     0.24209,     0.23781,     0.23446,      0.2306,     0.22666,     0.22223,       0.218,     0.21388,     0.21031,     0.20617,     0.20326,     0.19921,     0.19511,     0.19159,     0.18744,     0.18292,     0.17958,     0.17511,     0.17149,     0.16706,     0.16309,\n",
      "            0.15927,     0.15479,     0.15107,     0.14671,     0.14302,     0.13781,     0.13366,     0.12971,     0.12525,     0.12184,     0.11795,     0.11381,     0.10944,      0.1059,     0.10197,    0.097973,    0.094923,    0.091205,    0.086422,    0.082059,    0.078098,    0.074654,    0.071444,\n",
      "           0.068646,    0.065705,    0.063081,    0.060473,    0.058341,    0.055678,    0.053319,    0.050411,    0.047477,    0.044999,    0.042704,    0.040237,    0.037961,      0.0356,    0.033886,    0.032351,     0.03014,    0.028312,    0.026744,    0.025403,    0.024111,    0.022511,    0.021014,\n",
      "            0.01937,    0.018424,    0.017173,    0.016282,    0.015403,    0.014384,    0.013652,    0.012335,    0.011662,    0.011211,    0.010653,    0.010237,   0.0097274,   0.0090496,   0.0082639,    0.007599,    0.006693,    0.006324,   0.0061173,   0.0056171,   0.0052404,   0.0050597,   0.0046135,\n",
      "          0.0043787,   0.0038195,   0.0034842,   0.0031233,   0.0029864,   0.0028566,   0.0026855,   0.0025673,   0.0024492,   0.0023475,   0.0022838,   0.0020536,   0.0017993,   0.0016497,    0.001463,   0.0014106,   0.0012944,   0.0011767,   0.0010212,  0.00089271,  0.00071174,  0.00066329,  0.00061166,\n",
      "         0.00055172,  0.00049633,  0.00043672,  0.00035436,  0.00031127,  0.00028509,  0.00025978,  0.00023874,   0.0002177,  0.00019637,  0.00016821,  0.00014005,  0.00012598,  0.00011787,  0.00010976,  0.00010165,  9.3546e-05,  8.5438e-05,   7.733e-05,  6.9222e-05,           0,           0,           0,\n",
      "                  0,           0,           0,           0,           0,           0,           0,           0,           0,           0,           0,           0,           0,           0,           0,           0,           0,           0,           0,           0,           0,           0,           0,\n",
      "                  0,           0,           0,           0,           0,           0,           0,           0,           0,           0,           0,           0,           0,           0,           0,           0,           0,           0,           0,           0,           0,           0,           0,\n",
      "                  0,           0,           0,           0,           0,           0,           0,           0,           0,           0,           0]]), 'Confidence', 'F1'], [array([          0,    0.001001,    0.002002,    0.003003,    0.004004,    0.005005,    0.006006,    0.007007,    0.008008,    0.009009,     0.01001,    0.011011,    0.012012,    0.013013,    0.014014,    0.015015,    0.016016,    0.017017,    0.018018,    0.019019,     0.02002,    0.021021,    0.022022,    0.023023,\n",
      "          0.024024,    0.025025,    0.026026,    0.027027,    0.028028,    0.029029,     0.03003,    0.031031,    0.032032,    0.033033,    0.034034,    0.035035,    0.036036,    0.037037,    0.038038,    0.039039,     0.04004,    0.041041,    0.042042,    0.043043,    0.044044,    0.045045,    0.046046,    0.047047,\n",
      "          0.048048,    0.049049,     0.05005,    0.051051,    0.052052,    0.053053,    0.054054,    0.055055,    0.056056,    0.057057,    0.058058,    0.059059,     0.06006,    0.061061,    0.062062,    0.063063,    0.064064,    0.065065,    0.066066,    0.067067,    0.068068,    0.069069,     0.07007,    0.071071,\n",
      "          0.072072,    0.073073,    0.074074,    0.075075,    0.076076,    0.077077,    0.078078,    0.079079,     0.08008,    0.081081,    0.082082,    0.083083,    0.084084,    0.085085,    0.086086,    0.087087,    0.088088,    0.089089,     0.09009,    0.091091,    0.092092,    0.093093,    0.094094,    0.095095,\n",
      "          0.096096,    0.097097,    0.098098,    0.099099,      0.1001,      0.1011,      0.1021,      0.1031,      0.1041,     0.10511,     0.10611,     0.10711,     0.10811,     0.10911,     0.11011,     0.11111,     0.11211,     0.11311,     0.11411,     0.11512,     0.11612,     0.11712,     0.11812,     0.11912,\n",
      "           0.12012,     0.12112,     0.12212,     0.12312,     0.12412,     0.12513,     0.12613,     0.12713,     0.12813,     0.12913,     0.13013,     0.13113,     0.13213,     0.13313,     0.13413,     0.13514,     0.13614,     0.13714,     0.13814,     0.13914,     0.14014,     0.14114,     0.14214,     0.14314,\n",
      "           0.14414,     0.14515,     0.14615,     0.14715,     0.14815,     0.14915,     0.15015,     0.15115,     0.15215,     0.15315,     0.15415,     0.15516,     0.15616,     0.15716,     0.15816,     0.15916,     0.16016,     0.16116,     0.16216,     0.16316,     0.16416,     0.16517,     0.16617,     0.16717,\n",
      "           0.16817,     0.16917,     0.17017,     0.17117,     0.17217,     0.17317,     0.17417,     0.17518,     0.17618,     0.17718,     0.17818,     0.17918,     0.18018,     0.18118,     0.18218,     0.18318,     0.18418,     0.18519,     0.18619,     0.18719,     0.18819,     0.18919,     0.19019,     0.19119,\n",
      "           0.19219,     0.19319,     0.19419,      0.1952,      0.1962,      0.1972,      0.1982,      0.1992,      0.2002,      0.2012,      0.2022,      0.2032,      0.2042,     0.20521,     0.20621,     0.20721,     0.20821,     0.20921,     0.21021,     0.21121,     0.21221,     0.21321,     0.21421,     0.21522,\n",
      "           0.21622,     0.21722,     0.21822,     0.21922,     0.22022,     0.22122,     0.22222,     0.22322,     0.22422,     0.22523,     0.22623,     0.22723,     0.22823,     0.22923,     0.23023,     0.23123,     0.23223,     0.23323,     0.23423,     0.23524,     0.23624,     0.23724,     0.23824,     0.23924,\n",
      "           0.24024,     0.24124,     0.24224,     0.24324,     0.24424,     0.24525,     0.24625,     0.24725,     0.24825,     0.24925,     0.25025,     0.25125,     0.25225,     0.25325,     0.25425,     0.25526,     0.25626,     0.25726,     0.25826,     0.25926,     0.26026,     0.26126,     0.26226,     0.26326,\n",
      "           0.26426,     0.26527,     0.26627,     0.26727,     0.26827,     0.26927,     0.27027,     0.27127,     0.27227,     0.27327,     0.27427,     0.27528,     0.27628,     0.27728,     0.27828,     0.27928,     0.28028,     0.28128,     0.28228,     0.28328,     0.28428,     0.28529,     0.28629,     0.28729,\n",
      "           0.28829,     0.28929,     0.29029,     0.29129,     0.29229,     0.29329,     0.29429,      0.2953,      0.2963,      0.2973,      0.2983,      0.2993,      0.3003,      0.3013,      0.3023,      0.3033,      0.3043,     0.30531,     0.30631,     0.30731,     0.30831,     0.30931,     0.31031,     0.31131,\n",
      "           0.31231,     0.31331,     0.31431,     0.31532,     0.31632,     0.31732,     0.31832,     0.31932,     0.32032,     0.32132,     0.32232,     0.32332,     0.32432,     0.32533,     0.32633,     0.32733,     0.32833,     0.32933,     0.33033,     0.33133,     0.33233,     0.33333,     0.33433,     0.33534,\n",
      "           0.33634,     0.33734,     0.33834,     0.33934,     0.34034,     0.34134,     0.34234,     0.34334,     0.34434,     0.34535,     0.34635,     0.34735,     0.34835,     0.34935,     0.35035,     0.35135,     0.35235,     0.35335,     0.35435,     0.35536,     0.35636,     0.35736,     0.35836,     0.35936,\n",
      "           0.36036,     0.36136,     0.36236,     0.36336,     0.36436,     0.36537,     0.36637,     0.36737,     0.36837,     0.36937,     0.37037,     0.37137,     0.37237,     0.37337,     0.37437,     0.37538,     0.37638,     0.37738,     0.37838,     0.37938,     0.38038,     0.38138,     0.38238,     0.38338,\n",
      "           0.38438,     0.38539,     0.38639,     0.38739,     0.38839,     0.38939,     0.39039,     0.39139,     0.39239,     0.39339,     0.39439,      0.3954,      0.3964,      0.3974,      0.3984,      0.3994,      0.4004,      0.4014,      0.4024,      0.4034,      0.4044,     0.40541,     0.40641,     0.40741,\n",
      "           0.40841,     0.40941,     0.41041,     0.41141,     0.41241,     0.41341,     0.41441,     0.41542,     0.41642,     0.41742,     0.41842,     0.41942,     0.42042,     0.42142,     0.42242,     0.42342,     0.42442,     0.42543,     0.42643,     0.42743,     0.42843,     0.42943,     0.43043,     0.43143,\n",
      "           0.43243,     0.43343,     0.43443,     0.43544,     0.43644,     0.43744,     0.43844,     0.43944,     0.44044,     0.44144,     0.44244,     0.44344,     0.44444,     0.44545,     0.44645,     0.44745,     0.44845,     0.44945,     0.45045,     0.45145,     0.45245,     0.45345,     0.45445,     0.45546,\n",
      "           0.45646,     0.45746,     0.45846,     0.45946,     0.46046,     0.46146,     0.46246,     0.46346,     0.46446,     0.46547,     0.46647,     0.46747,     0.46847,     0.46947,     0.47047,     0.47147,     0.47247,     0.47347,     0.47447,     0.47548,     0.47648,     0.47748,     0.47848,     0.47948,\n",
      "           0.48048,     0.48148,     0.48248,     0.48348,     0.48448,     0.48549,     0.48649,     0.48749,     0.48849,     0.48949,     0.49049,     0.49149,     0.49249,     0.49349,     0.49449,      0.4955,      0.4965,      0.4975,      0.4985,      0.4995,      0.5005,      0.5015,      0.5025,      0.5035,\n",
      "            0.5045,     0.50551,     0.50651,     0.50751,     0.50851,     0.50951,     0.51051,     0.51151,     0.51251,     0.51351,     0.51451,     0.51552,     0.51652,     0.51752,     0.51852,     0.51952,     0.52052,     0.52152,     0.52252,     0.52352,     0.52452,     0.52553,     0.52653,     0.52753,\n",
      "           0.52853,     0.52953,     0.53053,     0.53153,     0.53253,     0.53353,     0.53453,     0.53554,     0.53654,     0.53754,     0.53854,     0.53954,     0.54054,     0.54154,     0.54254,     0.54354,     0.54454,     0.54555,     0.54655,     0.54755,     0.54855,     0.54955,     0.55055,     0.55155,\n",
      "           0.55255,     0.55355,     0.55455,     0.55556,     0.55656,     0.55756,     0.55856,     0.55956,     0.56056,     0.56156,     0.56256,     0.56356,     0.56456,     0.56557,     0.56657,     0.56757,     0.56857,     0.56957,     0.57057,     0.57157,     0.57257,     0.57357,     0.57457,     0.57558,\n",
      "           0.57658,     0.57758,     0.57858,     0.57958,     0.58058,     0.58158,     0.58258,     0.58358,     0.58458,     0.58559,     0.58659,     0.58759,     0.58859,     0.58959,     0.59059,     0.59159,     0.59259,     0.59359,     0.59459,      0.5956,      0.5966,      0.5976,      0.5986,      0.5996,\n",
      "            0.6006,      0.6016,      0.6026,      0.6036,      0.6046,     0.60561,     0.60661,     0.60761,     0.60861,     0.60961,     0.61061,     0.61161,     0.61261,     0.61361,     0.61461,     0.61562,     0.61662,     0.61762,     0.61862,     0.61962,     0.62062,     0.62162,     0.62262,     0.62362,\n",
      "           0.62462,     0.62563,     0.62663,     0.62763,     0.62863,     0.62963,     0.63063,     0.63163,     0.63263,     0.63363,     0.63463,     0.63564,     0.63664,     0.63764,     0.63864,     0.63964,     0.64064,     0.64164,     0.64264,     0.64364,     0.64464,     0.64565,     0.64665,     0.64765,\n",
      "           0.64865,     0.64965,     0.65065,     0.65165,     0.65265,     0.65365,     0.65465,     0.65566,     0.65666,     0.65766,     0.65866,     0.65966,     0.66066,     0.66166,     0.66266,     0.66366,     0.66466,     0.66567,     0.66667,     0.66767,     0.66867,     0.66967,     0.67067,     0.67167,\n",
      "           0.67267,     0.67367,     0.67467,     0.67568,     0.67668,     0.67768,     0.67868,     0.67968,     0.68068,     0.68168,     0.68268,     0.68368,     0.68468,     0.68569,     0.68669,     0.68769,     0.68869,     0.68969,     0.69069,     0.69169,     0.69269,     0.69369,     0.69469,      0.6957,\n",
      "            0.6967,      0.6977,      0.6987,      0.6997,      0.7007,      0.7017,      0.7027,      0.7037,      0.7047,     0.70571,     0.70671,     0.70771,     0.70871,     0.70971,     0.71071,     0.71171,     0.71271,     0.71371,     0.71471,     0.71572,     0.71672,     0.71772,     0.71872,     0.71972,\n",
      "           0.72072,     0.72172,     0.72272,     0.72372,     0.72472,     0.72573,     0.72673,     0.72773,     0.72873,     0.72973,     0.73073,     0.73173,     0.73273,     0.73373,     0.73473,     0.73574,     0.73674,     0.73774,     0.73874,     0.73974,     0.74074,     0.74174,     0.74274,     0.74374,\n",
      "           0.74474,     0.74575,     0.74675,     0.74775,     0.74875,     0.74975,     0.75075,     0.75175,     0.75275,     0.75375,     0.75475,     0.75576,     0.75676,     0.75776,     0.75876,     0.75976,     0.76076,     0.76176,     0.76276,     0.76376,     0.76476,     0.76577,     0.76677,     0.76777,\n",
      "           0.76877,     0.76977,     0.77077,     0.77177,     0.77277,     0.77377,     0.77477,     0.77578,     0.77678,     0.77778,     0.77878,     0.77978,     0.78078,     0.78178,     0.78278,     0.78378,     0.78478,     0.78579,     0.78679,     0.78779,     0.78879,     0.78979,     0.79079,     0.79179,\n",
      "           0.79279,     0.79379,     0.79479,      0.7958,      0.7968,      0.7978,      0.7988,      0.7998,      0.8008,      0.8018,      0.8028,      0.8038,      0.8048,     0.80581,     0.80681,     0.80781,     0.80881,     0.80981,     0.81081,     0.81181,     0.81281,     0.81381,     0.81481,     0.81582,\n",
      "           0.81682,     0.81782,     0.81882,     0.81982,     0.82082,     0.82182,     0.82282,     0.82382,     0.82482,     0.82583,     0.82683,     0.82783,     0.82883,     0.82983,     0.83083,     0.83183,     0.83283,     0.83383,     0.83483,     0.83584,     0.83684,     0.83784,     0.83884,     0.83984,\n",
      "           0.84084,     0.84184,     0.84284,     0.84384,     0.84484,     0.84585,     0.84685,     0.84785,     0.84885,     0.84985,     0.85085,     0.85185,     0.85285,     0.85385,     0.85485,     0.85586,     0.85686,     0.85786,     0.85886,     0.85986,     0.86086,     0.86186,     0.86286,     0.86386,\n",
      "           0.86486,     0.86587,     0.86687,     0.86787,     0.86887,     0.86987,     0.87087,     0.87187,     0.87287,     0.87387,     0.87487,     0.87588,     0.87688,     0.87788,     0.87888,     0.87988,     0.88088,     0.88188,     0.88288,     0.88388,     0.88488,     0.88589,     0.88689,     0.88789,\n",
      "           0.88889,     0.88989,     0.89089,     0.89189,     0.89289,     0.89389,     0.89489,      0.8959,      0.8969,      0.8979,      0.8989,      0.8999,      0.9009,      0.9019,      0.9029,      0.9039,      0.9049,     0.90591,     0.90691,     0.90791,     0.90891,     0.90991,     0.91091,     0.91191,\n",
      "           0.91291,     0.91391,     0.91491,     0.91592,     0.91692,     0.91792,     0.91892,     0.91992,     0.92092,     0.92192,     0.92292,     0.92392,     0.92492,     0.92593,     0.92693,     0.92793,     0.92893,     0.92993,     0.93093,     0.93193,     0.93293,     0.93393,     0.93493,     0.93594,\n",
      "           0.93694,     0.93794,     0.93894,     0.93994,     0.94094,     0.94194,     0.94294,     0.94394,     0.94494,     0.94595,     0.94695,     0.94795,     0.94895,     0.94995,     0.95095,     0.95195,     0.95295,     0.95395,     0.95495,     0.95596,     0.95696,     0.95796,     0.95896,     0.95996,\n",
      "           0.96096,     0.96196,     0.96296,     0.96396,     0.96496,     0.96597,     0.96697,     0.96797,     0.96897,     0.96997,     0.97097,     0.97197,     0.97297,     0.97397,     0.97497,     0.97598,     0.97698,     0.97798,     0.97898,     0.97998,     0.98098,     0.98198,     0.98298,     0.98398,\n",
      "           0.98498,     0.98599,     0.98699,     0.98799,     0.98899,     0.98999,     0.99099,     0.99199,     0.99299,     0.99399,     0.99499,       0.996,       0.997,       0.998,       0.999,           1]), array([[   0.096144,    0.096176,     0.12486,     0.14596,     0.16299,     0.17751,     0.19093,     0.20271,     0.21362,     0.22363,     0.23314,     0.24191,     0.25041,     0.25863,     0.26672,     0.27438,     0.28165,      0.2887,     0.29556,     0.30216,     0.30899,     0.31553,     0.32205,\n",
      "            0.32822,     0.33399,     0.33967,     0.34527,     0.35094,     0.35657,       0.362,     0.36729,     0.37264,     0.37764,     0.38258,     0.38736,     0.39187,     0.39649,     0.40061,      0.4053,     0.40988,     0.41438,     0.41885,     0.42286,     0.42711,     0.43128,     0.43532,\n",
      "             0.4395,     0.44377,     0.44769,      0.4518,     0.45605,     0.45999,      0.4642,     0.46815,     0.47198,     0.47562,     0.47922,     0.48317,     0.48684,     0.49036,     0.49388,     0.49711,     0.50042,     0.50384,     0.50727,     0.51055,       0.514,      0.5172,     0.52141,\n",
      "            0.52521,     0.52844,     0.53159,     0.53483,     0.53802,     0.54093,      0.5442,     0.54709,     0.54979,     0.55259,     0.55548,     0.55814,     0.56138,     0.56434,     0.56687,     0.56949,     0.57281,     0.57558,     0.57849,     0.58106,      0.5838,     0.58634,     0.58904,\n",
      "            0.59139,     0.59412,     0.59682,     0.59907,      0.6013,     0.60389,     0.60622,     0.60868,     0.61111,     0.61378,     0.61548,      0.6177,     0.61998,     0.62218,     0.62452,     0.62661,     0.62855,     0.63091,     0.63307,     0.63528,     0.63722,     0.63955,     0.64147,\n",
      "            0.64358,     0.64563,      0.6478,     0.64961,     0.65156,     0.65349,     0.65539,     0.65771,     0.65966,     0.66165,     0.66355,     0.66513,      0.6675,     0.66986,     0.67178,      0.6737,     0.67552,     0.67715,     0.67903,     0.68123,     0.68297,     0.68471,     0.68647,\n",
      "            0.68856,     0.69028,     0.69247,     0.69439,     0.69626,     0.69794,      0.6992,     0.70081,     0.70226,     0.70428,      0.7058,     0.70783,     0.70939,     0.71085,     0.71221,     0.71422,     0.71578,     0.71715,     0.71867,     0.72007,      0.7217,     0.72327,     0.72467,\n",
      "            0.72633,     0.72781,      0.7299,     0.73167,      0.7329,       0.734,      0.7353,     0.73682,     0.73793,     0.73956,     0.74098,     0.74265,     0.74431,     0.74589,     0.74735,     0.74871,      0.7504,     0.75158,     0.75322,     0.75464,     0.75594,     0.75681,     0.75811,\n",
      "            0.75969,     0.76065,     0.76231,     0.76359,     0.76475,     0.76577,      0.7674,     0.76873,     0.76954,     0.77065,     0.77216,     0.77355,     0.77499,     0.77599,     0.77731,     0.77892,     0.78027,     0.78209,     0.78334,     0.78476,      0.7866,     0.78761,      0.7887,\n",
      "            0.79027,      0.7917,     0.79311,     0.79445,      0.7956,     0.79683,     0.79756,     0.79883,     0.79968,      0.8006,     0.80149,     0.80277,     0.80407,      0.8049,     0.80592,     0.80706,     0.80828,     0.80943,     0.81074,     0.81217,     0.81296,     0.81432,     0.81562,\n",
      "            0.81656,     0.81775,     0.81875,     0.82037,     0.82172,     0.82233,     0.82333,     0.82436,     0.82526,     0.82626,     0.82727,     0.82822,     0.82948,     0.83044,     0.83132,     0.83198,     0.83308,     0.83382,     0.83498,     0.83552,     0.83661,     0.83712,     0.83776,\n",
      "            0.83897,     0.83947,     0.84037,     0.84131,     0.84222,     0.84286,     0.84381,      0.8449,     0.84579,     0.84664,     0.84774,     0.84839,     0.84874,     0.84948,     0.85053,     0.85186,      0.8529,     0.85386,     0.85456,      0.8554,     0.85636,      0.8572,     0.85774,\n",
      "            0.85838,     0.85924,     0.86004,     0.86066,     0.86136,     0.86201,     0.86252,     0.86296,     0.86365,     0.86461,     0.86538,     0.86595,     0.86662,     0.86752,     0.86853,     0.86924,     0.87015,      0.8707,     0.87131,     0.87211,     0.87276,     0.87343,     0.87438,\n",
      "            0.87509,     0.87592,     0.87668,     0.87741,     0.87807,     0.87871,     0.87923,     0.87982,     0.88057,     0.88132,     0.88167,     0.88227,     0.88291,     0.88347,     0.88427,     0.88534,     0.88608,     0.88708,     0.88797,     0.88839,     0.88876,     0.88944,     0.89031,\n",
      "            0.89099,     0.89154,     0.89223,     0.89284,     0.89329,     0.89413,     0.89447,     0.89501,      0.8955,     0.89602,     0.89659,     0.89694,     0.89746,     0.89808,     0.89849,     0.89899,     0.89961,      0.9001,     0.90048,     0.90088,     0.90175,     0.90244,     0.90297,\n",
      "            0.90365,     0.90406,     0.90469,     0.90506,     0.90583,     0.90681,     0.90738,     0.90806,     0.90875,     0.90956,     0.90991,     0.91064,     0.91134,     0.91199,     0.91279,     0.91309,     0.91353,     0.91387,     0.91424,     0.91499,     0.91557,     0.91602,     0.91651,\n",
      "            0.91683,     0.91734,       0.918,     0.91891,     0.91939,     0.91996,     0.92059,      0.9214,     0.92172,     0.92203,     0.92249,     0.92309,     0.92349,     0.92391,     0.92415,     0.92479,     0.92576,     0.92611,     0.92659,     0.92705,     0.92778,     0.92814,     0.92844,\n",
      "            0.92862,     0.92883,     0.92921,     0.92969,     0.92989,     0.93019,     0.93057,     0.93109,     0.93142,     0.93173,     0.93243,     0.93273,     0.93354,     0.93379,     0.93449,     0.93487,     0.93558,     0.93587,     0.93624,      0.9367,     0.93722,     0.93748,     0.93794,\n",
      "            0.93819,     0.93863,     0.93906,     0.93933,     0.93979,     0.94007,     0.94031,     0.94069,     0.94158,     0.94208,     0.94271,      0.9431,     0.94326,     0.94397,     0.94422,     0.94456,     0.94484,     0.94524,     0.94558,     0.94609,     0.94622,     0.94657,     0.94684,\n",
      "            0.94766,      0.9481,     0.94871,     0.94884,     0.94924,     0.94955,     0.94986,     0.95008,     0.95055,     0.95074,     0.95081,      0.9514,     0.95157,     0.95178,     0.95232,     0.95261,     0.95262,     0.95269,     0.95293,     0.95341,     0.95345,     0.95361,     0.95404,\n",
      "            0.95407,     0.95423,     0.95463,       0.955,     0.95496,     0.95502,     0.95516,     0.95558,     0.95568,     0.95583,     0.95625,     0.95642,     0.95651,     0.95668,     0.95674,     0.95736,     0.95759,     0.95768,     0.95812,     0.95821,     0.95844,     0.95883,     0.95899,\n",
      "            0.95922,     0.95953,     0.95997,     0.96029,     0.96069,     0.96114,     0.96145,     0.96173,     0.96211,     0.96234,     0.96265,     0.96343,     0.96374,     0.96385,     0.96409,     0.96463,     0.96466,     0.96507,     0.96545,     0.96598,     0.96631,     0.96663,      0.9671,\n",
      "            0.96758,     0.96784,     0.96816,     0.96851,     0.96885,     0.96925,     0.96954,     0.96988,     0.97007,     0.97033,     0.97044,     0.97046,     0.97082,     0.97116,      0.9715,     0.97169,     0.97188,     0.97192,     0.97228,     0.97244,     0.97268,     0.97295,     0.97315,\n",
      "            0.97328,     0.97371,     0.97415,     0.97411,     0.97422,     0.97418,     0.97432,     0.97468,      0.9748,     0.97482,     0.97517,     0.97547,     0.97558,     0.97564,     0.97577,     0.97629,     0.97633,     0.97638,     0.97664,     0.97712,     0.97709,     0.97713,     0.97743,\n",
      "            0.97788,     0.97803,     0.97808,     0.97835,     0.97878,     0.97891,     0.97905,     0.97926,     0.97939,     0.97961,     0.97983,     0.98004,     0.98035,     0.98075,     0.98089,     0.98086,     0.98108,     0.98121,     0.98161,     0.98158,     0.98164,      0.9817,     0.98184,\n",
      "            0.98198,     0.98203,     0.98235,     0.98258,     0.98281,     0.98278,     0.98302,     0.98334,     0.98341,     0.98355,     0.98361,     0.98367,     0.98364,     0.98388,     0.98407,     0.98417,     0.98415,     0.98438,     0.98454,     0.98469,      0.9848,     0.98498,     0.98514,\n",
      "            0.98512,     0.98508,     0.98537,     0.98566,     0.98563,     0.98577,     0.98584,     0.98599,     0.98624,      0.9865,     0.98666,     0.98664,     0.98661,     0.98667,     0.98664,     0.98671,     0.98668,      0.9869,       0.987,     0.98708,     0.98715,     0.98726,     0.98729,\n",
      "             0.9876,      0.9878,     0.98799,     0.98829,     0.98838,     0.98845,     0.98871,     0.98887,     0.98894,     0.98902,     0.98909,     0.98917,     0.98922,     0.98933,      0.9894,     0.98957,     0.98956,     0.98973,      0.9899,     0.98997,     0.99005,     0.99012,      0.9903,\n",
      "            0.99067,     0.99075,     0.99074,     0.99072,     0.99071,     0.99079,     0.99087,     0.99095,     0.99114,     0.99131,      0.9914,     0.99158,     0.99167,     0.99176,     0.99174,     0.99183,     0.99182,      0.9918,     0.99188,     0.99195,     0.99194,     0.99213,     0.99221,\n",
      "             0.9922,     0.99238,     0.99247,     0.99245,     0.99253,     0.99251,     0.99271,     0.99279,     0.99277,     0.99286,     0.99285,     0.99293,     0.99298,       0.993,     0.99298,     0.99302,     0.99316,     0.99347,     0.99345,     0.99365,     0.99396,     0.99394,     0.99415,\n",
      "            0.99413,     0.99411,     0.99421,     0.99419,     0.99417,     0.99415,     0.99424,     0.99422,     0.99443,     0.99452,     0.99451,      0.9946,     0.99459,     0.99468,     0.99478,       0.995,      0.9951,      0.9952,     0.99542,     0.99552,     0.99574,     0.99573,     0.99571,\n",
      "             0.9957,      0.9958,     0.99591,     0.99602,     0.99601,       0.996,     0.99623,     0.99622,      0.9962,     0.99618,     0.99617,     0.99615,     0.99626,     0.99625,     0.99624,     0.99622,     0.99636,     0.99644,     0.99656,     0.99654,     0.99679,     0.99677,     0.99675,\n",
      "            0.99674,     0.99672,     0.99671,      0.9967,     0.99668,     0.99671,     0.99678,      0.9969,     0.99702,     0.99701,     0.99713,     0.99712,      0.9971,     0.99723,     0.99721,      0.9972,     0.99733,     0.99731,      0.9973,     0.99728,     0.99727,      0.9974,     0.99782,\n",
      "             0.9978,     0.99793,     0.99792,     0.99791,     0.99804,     0.99803,     0.99802,     0.99801,       0.998,     0.99798,     0.99796,     0.99795,     0.99794,     0.99792,     0.99807,     0.99805,     0.99803,     0.99802,     0.99801,     0.99799,     0.99797,     0.99795,     0.99793,\n",
      "            0.99809,     0.99807,     0.99805,     0.99803,     0.99801,     0.99799,     0.99796,     0.99794,     0.99792,     0.99789,     0.99806,     0.99804,     0.99802,      0.9982,     0.99817,     0.99815,     0.99812,     0.99831,     0.99828,     0.99826,     0.99868,     0.99866,     0.99864,\n",
      "            0.99862,     0.99883,     0.99881,     0.99878,     0.99876,     0.99874,     0.99871,     0.99869,     0.99866,     0.99863,      0.9986,     0.99857,     0.99855,     0.99851,     0.99848,     0.99845,     0.99841,     0.99837,     0.99858,     0.99863,     0.99895,     0.99892,     0.99889,\n",
      "            0.99886,     0.99882,     0.99879,     0.99875,     0.99872,     0.99867,     0.99862,     0.99858,     0.99852,     0.99848,     0.99843,     0.99837,      0.9983,     0.99824,     0.99817,     0.99809,     0.99802,     0.99862,     0.99854,     0.99846,     0.99838,      0.9983,     0.99823,\n",
      "            0.99815,     0.99807,     0.99798,     0.99789,     0.99781,     0.99771,      0.9976,     0.99746,      0.9973,     0.99857,     0.99849,      0.9984,      0.9983,     0.99819,     0.99809,       0.998,           1,           1,           1,           1,           1,           1,           1,\n",
      "                  1,           1,           1,           1,           1,           1,           1,           1,           1,           1,           1,           1,           1,           1,           1,           1,           1,           1,           1,           1,           1,           1,           1,\n",
      "                  1,           1,           1,           1,           1,           1,           1,           1,           1,           1,           1,           1,           1,           1,           1,           1,           1,           1,           1,           1,           1,           1,           1,\n",
      "                  1,           1,           1,           1,           1,           1,           1,           1,           1,           1,           1,           1,           1,           1,           1,           1,           1,           1,           1,           1,           1,           1,           1,\n",
      "                  1,           1,           1,           1,           1,           1,           1,           1,           1,           1,           1,           1,           1,           1,           1,           1,           1,           1,           1,           1,           1,           1,           1,\n",
      "                  1,           1,           1,           1,           1,           1,           1,           1,           1,           1,           1,           1,           1,           1,           1,           1,           1,           1,           1,           1,           1,           1,           1,\n",
      "                  1,           1,           1,           1,           1,           1,           1,           1,           1,           1,           1]]), 'Confidence', 'Precision'], [array([          0,    0.001001,    0.002002,    0.003003,    0.004004,    0.005005,    0.006006,    0.007007,    0.008008,    0.009009,     0.01001,    0.011011,    0.012012,    0.013013,    0.014014,    0.015015,    0.016016,    0.017017,    0.018018,    0.019019,     0.02002,    0.021021,    0.022022,    0.023023,\n",
      "          0.024024,    0.025025,    0.026026,    0.027027,    0.028028,    0.029029,     0.03003,    0.031031,    0.032032,    0.033033,    0.034034,    0.035035,    0.036036,    0.037037,    0.038038,    0.039039,     0.04004,    0.041041,    0.042042,    0.043043,    0.044044,    0.045045,    0.046046,    0.047047,\n",
      "          0.048048,    0.049049,     0.05005,    0.051051,    0.052052,    0.053053,    0.054054,    0.055055,    0.056056,    0.057057,    0.058058,    0.059059,     0.06006,    0.061061,    0.062062,    0.063063,    0.064064,    0.065065,    0.066066,    0.067067,    0.068068,    0.069069,     0.07007,    0.071071,\n",
      "          0.072072,    0.073073,    0.074074,    0.075075,    0.076076,    0.077077,    0.078078,    0.079079,     0.08008,    0.081081,    0.082082,    0.083083,    0.084084,    0.085085,    0.086086,    0.087087,    0.088088,    0.089089,     0.09009,    0.091091,    0.092092,    0.093093,    0.094094,    0.095095,\n",
      "          0.096096,    0.097097,    0.098098,    0.099099,      0.1001,      0.1011,      0.1021,      0.1031,      0.1041,     0.10511,     0.10611,     0.10711,     0.10811,     0.10911,     0.11011,     0.11111,     0.11211,     0.11311,     0.11411,     0.11512,     0.11612,     0.11712,     0.11812,     0.11912,\n",
      "           0.12012,     0.12112,     0.12212,     0.12312,     0.12412,     0.12513,     0.12613,     0.12713,     0.12813,     0.12913,     0.13013,     0.13113,     0.13213,     0.13313,     0.13413,     0.13514,     0.13614,     0.13714,     0.13814,     0.13914,     0.14014,     0.14114,     0.14214,     0.14314,\n",
      "           0.14414,     0.14515,     0.14615,     0.14715,     0.14815,     0.14915,     0.15015,     0.15115,     0.15215,     0.15315,     0.15415,     0.15516,     0.15616,     0.15716,     0.15816,     0.15916,     0.16016,     0.16116,     0.16216,     0.16316,     0.16416,     0.16517,     0.16617,     0.16717,\n",
      "           0.16817,     0.16917,     0.17017,     0.17117,     0.17217,     0.17317,     0.17417,     0.17518,     0.17618,     0.17718,     0.17818,     0.17918,     0.18018,     0.18118,     0.18218,     0.18318,     0.18418,     0.18519,     0.18619,     0.18719,     0.18819,     0.18919,     0.19019,     0.19119,\n",
      "           0.19219,     0.19319,     0.19419,      0.1952,      0.1962,      0.1972,      0.1982,      0.1992,      0.2002,      0.2012,      0.2022,      0.2032,      0.2042,     0.20521,     0.20621,     0.20721,     0.20821,     0.20921,     0.21021,     0.21121,     0.21221,     0.21321,     0.21421,     0.21522,\n",
      "           0.21622,     0.21722,     0.21822,     0.21922,     0.22022,     0.22122,     0.22222,     0.22322,     0.22422,     0.22523,     0.22623,     0.22723,     0.22823,     0.22923,     0.23023,     0.23123,     0.23223,     0.23323,     0.23423,     0.23524,     0.23624,     0.23724,     0.23824,     0.23924,\n",
      "           0.24024,     0.24124,     0.24224,     0.24324,     0.24424,     0.24525,     0.24625,     0.24725,     0.24825,     0.24925,     0.25025,     0.25125,     0.25225,     0.25325,     0.25425,     0.25526,     0.25626,     0.25726,     0.25826,     0.25926,     0.26026,     0.26126,     0.26226,     0.26326,\n",
      "           0.26426,     0.26527,     0.26627,     0.26727,     0.26827,     0.26927,     0.27027,     0.27127,     0.27227,     0.27327,     0.27427,     0.27528,     0.27628,     0.27728,     0.27828,     0.27928,     0.28028,     0.28128,     0.28228,     0.28328,     0.28428,     0.28529,     0.28629,     0.28729,\n",
      "           0.28829,     0.28929,     0.29029,     0.29129,     0.29229,     0.29329,     0.29429,      0.2953,      0.2963,      0.2973,      0.2983,      0.2993,      0.3003,      0.3013,      0.3023,      0.3033,      0.3043,     0.30531,     0.30631,     0.30731,     0.30831,     0.30931,     0.31031,     0.31131,\n",
      "           0.31231,     0.31331,     0.31431,     0.31532,     0.31632,     0.31732,     0.31832,     0.31932,     0.32032,     0.32132,     0.32232,     0.32332,     0.32432,     0.32533,     0.32633,     0.32733,     0.32833,     0.32933,     0.33033,     0.33133,     0.33233,     0.33333,     0.33433,     0.33534,\n",
      "           0.33634,     0.33734,     0.33834,     0.33934,     0.34034,     0.34134,     0.34234,     0.34334,     0.34434,     0.34535,     0.34635,     0.34735,     0.34835,     0.34935,     0.35035,     0.35135,     0.35235,     0.35335,     0.35435,     0.35536,     0.35636,     0.35736,     0.35836,     0.35936,\n",
      "           0.36036,     0.36136,     0.36236,     0.36336,     0.36436,     0.36537,     0.36637,     0.36737,     0.36837,     0.36937,     0.37037,     0.37137,     0.37237,     0.37337,     0.37437,     0.37538,     0.37638,     0.37738,     0.37838,     0.37938,     0.38038,     0.38138,     0.38238,     0.38338,\n",
      "           0.38438,     0.38539,     0.38639,     0.38739,     0.38839,     0.38939,     0.39039,     0.39139,     0.39239,     0.39339,     0.39439,      0.3954,      0.3964,      0.3974,      0.3984,      0.3994,      0.4004,      0.4014,      0.4024,      0.4034,      0.4044,     0.40541,     0.40641,     0.40741,\n",
      "           0.40841,     0.40941,     0.41041,     0.41141,     0.41241,     0.41341,     0.41441,     0.41542,     0.41642,     0.41742,     0.41842,     0.41942,     0.42042,     0.42142,     0.42242,     0.42342,     0.42442,     0.42543,     0.42643,     0.42743,     0.42843,     0.42943,     0.43043,     0.43143,\n",
      "           0.43243,     0.43343,     0.43443,     0.43544,     0.43644,     0.43744,     0.43844,     0.43944,     0.44044,     0.44144,     0.44244,     0.44344,     0.44444,     0.44545,     0.44645,     0.44745,     0.44845,     0.44945,     0.45045,     0.45145,     0.45245,     0.45345,     0.45445,     0.45546,\n",
      "           0.45646,     0.45746,     0.45846,     0.45946,     0.46046,     0.46146,     0.46246,     0.46346,     0.46446,     0.46547,     0.46647,     0.46747,     0.46847,     0.46947,     0.47047,     0.47147,     0.47247,     0.47347,     0.47447,     0.47548,     0.47648,     0.47748,     0.47848,     0.47948,\n",
      "           0.48048,     0.48148,     0.48248,     0.48348,     0.48448,     0.48549,     0.48649,     0.48749,     0.48849,     0.48949,     0.49049,     0.49149,     0.49249,     0.49349,     0.49449,      0.4955,      0.4965,      0.4975,      0.4985,      0.4995,      0.5005,      0.5015,      0.5025,      0.5035,\n",
      "            0.5045,     0.50551,     0.50651,     0.50751,     0.50851,     0.50951,     0.51051,     0.51151,     0.51251,     0.51351,     0.51451,     0.51552,     0.51652,     0.51752,     0.51852,     0.51952,     0.52052,     0.52152,     0.52252,     0.52352,     0.52452,     0.52553,     0.52653,     0.52753,\n",
      "           0.52853,     0.52953,     0.53053,     0.53153,     0.53253,     0.53353,     0.53453,     0.53554,     0.53654,     0.53754,     0.53854,     0.53954,     0.54054,     0.54154,     0.54254,     0.54354,     0.54454,     0.54555,     0.54655,     0.54755,     0.54855,     0.54955,     0.55055,     0.55155,\n",
      "           0.55255,     0.55355,     0.55455,     0.55556,     0.55656,     0.55756,     0.55856,     0.55956,     0.56056,     0.56156,     0.56256,     0.56356,     0.56456,     0.56557,     0.56657,     0.56757,     0.56857,     0.56957,     0.57057,     0.57157,     0.57257,     0.57357,     0.57457,     0.57558,\n",
      "           0.57658,     0.57758,     0.57858,     0.57958,     0.58058,     0.58158,     0.58258,     0.58358,     0.58458,     0.58559,     0.58659,     0.58759,     0.58859,     0.58959,     0.59059,     0.59159,     0.59259,     0.59359,     0.59459,      0.5956,      0.5966,      0.5976,      0.5986,      0.5996,\n",
      "            0.6006,      0.6016,      0.6026,      0.6036,      0.6046,     0.60561,     0.60661,     0.60761,     0.60861,     0.60961,     0.61061,     0.61161,     0.61261,     0.61361,     0.61461,     0.61562,     0.61662,     0.61762,     0.61862,     0.61962,     0.62062,     0.62162,     0.62262,     0.62362,\n",
      "           0.62462,     0.62563,     0.62663,     0.62763,     0.62863,     0.62963,     0.63063,     0.63163,     0.63263,     0.63363,     0.63463,     0.63564,     0.63664,     0.63764,     0.63864,     0.63964,     0.64064,     0.64164,     0.64264,     0.64364,     0.64464,     0.64565,     0.64665,     0.64765,\n",
      "           0.64865,     0.64965,     0.65065,     0.65165,     0.65265,     0.65365,     0.65465,     0.65566,     0.65666,     0.65766,     0.65866,     0.65966,     0.66066,     0.66166,     0.66266,     0.66366,     0.66466,     0.66567,     0.66667,     0.66767,     0.66867,     0.66967,     0.67067,     0.67167,\n",
      "           0.67267,     0.67367,     0.67467,     0.67568,     0.67668,     0.67768,     0.67868,     0.67968,     0.68068,     0.68168,     0.68268,     0.68368,     0.68468,     0.68569,     0.68669,     0.68769,     0.68869,     0.68969,     0.69069,     0.69169,     0.69269,     0.69369,     0.69469,      0.6957,\n",
      "            0.6967,      0.6977,      0.6987,      0.6997,      0.7007,      0.7017,      0.7027,      0.7037,      0.7047,     0.70571,     0.70671,     0.70771,     0.70871,     0.70971,     0.71071,     0.71171,     0.71271,     0.71371,     0.71471,     0.71572,     0.71672,     0.71772,     0.71872,     0.71972,\n",
      "           0.72072,     0.72172,     0.72272,     0.72372,     0.72472,     0.72573,     0.72673,     0.72773,     0.72873,     0.72973,     0.73073,     0.73173,     0.73273,     0.73373,     0.73473,     0.73574,     0.73674,     0.73774,     0.73874,     0.73974,     0.74074,     0.74174,     0.74274,     0.74374,\n",
      "           0.74474,     0.74575,     0.74675,     0.74775,     0.74875,     0.74975,     0.75075,     0.75175,     0.75275,     0.75375,     0.75475,     0.75576,     0.75676,     0.75776,     0.75876,     0.75976,     0.76076,     0.76176,     0.76276,     0.76376,     0.76476,     0.76577,     0.76677,     0.76777,\n",
      "           0.76877,     0.76977,     0.77077,     0.77177,     0.77277,     0.77377,     0.77477,     0.77578,     0.77678,     0.77778,     0.77878,     0.77978,     0.78078,     0.78178,     0.78278,     0.78378,     0.78478,     0.78579,     0.78679,     0.78779,     0.78879,     0.78979,     0.79079,     0.79179,\n",
      "           0.79279,     0.79379,     0.79479,      0.7958,      0.7968,      0.7978,      0.7988,      0.7998,      0.8008,      0.8018,      0.8028,      0.8038,      0.8048,     0.80581,     0.80681,     0.80781,     0.80881,     0.80981,     0.81081,     0.81181,     0.81281,     0.81381,     0.81481,     0.81582,\n",
      "           0.81682,     0.81782,     0.81882,     0.81982,     0.82082,     0.82182,     0.82282,     0.82382,     0.82482,     0.82583,     0.82683,     0.82783,     0.82883,     0.82983,     0.83083,     0.83183,     0.83283,     0.83383,     0.83483,     0.83584,     0.83684,     0.83784,     0.83884,     0.83984,\n",
      "           0.84084,     0.84184,     0.84284,     0.84384,     0.84484,     0.84585,     0.84685,     0.84785,     0.84885,     0.84985,     0.85085,     0.85185,     0.85285,     0.85385,     0.85485,     0.85586,     0.85686,     0.85786,     0.85886,     0.85986,     0.86086,     0.86186,     0.86286,     0.86386,\n",
      "           0.86486,     0.86587,     0.86687,     0.86787,     0.86887,     0.86987,     0.87087,     0.87187,     0.87287,     0.87387,     0.87487,     0.87588,     0.87688,     0.87788,     0.87888,     0.87988,     0.88088,     0.88188,     0.88288,     0.88388,     0.88488,     0.88589,     0.88689,     0.88789,\n",
      "           0.88889,     0.88989,     0.89089,     0.89189,     0.89289,     0.89389,     0.89489,      0.8959,      0.8969,      0.8979,      0.8989,      0.8999,      0.9009,      0.9019,      0.9029,      0.9039,      0.9049,     0.90591,     0.90691,     0.90791,     0.90891,     0.90991,     0.91091,     0.91191,\n",
      "           0.91291,     0.91391,     0.91491,     0.91592,     0.91692,     0.91792,     0.91892,     0.91992,     0.92092,     0.92192,     0.92292,     0.92392,     0.92492,     0.92593,     0.92693,     0.92793,     0.92893,     0.92993,     0.93093,     0.93193,     0.93293,     0.93393,     0.93493,     0.93594,\n",
      "           0.93694,     0.93794,     0.93894,     0.93994,     0.94094,     0.94194,     0.94294,     0.94394,     0.94494,     0.94595,     0.94695,     0.94795,     0.94895,     0.94995,     0.95095,     0.95195,     0.95295,     0.95395,     0.95495,     0.95596,     0.95696,     0.95796,     0.95896,     0.95996,\n",
      "           0.96096,     0.96196,     0.96296,     0.96396,     0.96496,     0.96597,     0.96697,     0.96797,     0.96897,     0.96997,     0.97097,     0.97197,     0.97297,     0.97397,     0.97497,     0.97598,     0.97698,     0.97798,     0.97898,     0.97998,     0.98098,     0.98198,     0.98298,     0.98398,\n",
      "           0.98498,     0.98599,     0.98699,     0.98799,     0.98899,     0.98999,     0.99099,     0.99199,     0.99299,     0.99399,     0.99499,       0.996,       0.997,       0.998,       0.999,           1]), array([[    0.70951,     0.70951,     0.70664,     0.70417,     0.70187,     0.70006,     0.69845,      0.6965,     0.69519,     0.69311,     0.69134,     0.68949,     0.68798,     0.68676,     0.68544,     0.68422,     0.68304,     0.68156,      0.6806,     0.67965,      0.6785,     0.67734,     0.67652,\n",
      "            0.67563,     0.67445,     0.67316,     0.67194,     0.67092,     0.67017,     0.66918,     0.66822,     0.66737,     0.66582,     0.66487,     0.66414,     0.66332,      0.6626,     0.66131,     0.66059,     0.65967,     0.65871,     0.65792,     0.65696,     0.65621,     0.65548,     0.65446,\n",
      "            0.65354,     0.65262,     0.65196,      0.6512,     0.65048,     0.64986,       0.649,     0.64804,     0.64732,     0.64646,     0.64568,     0.64508,     0.64423,      0.6437,     0.64324,     0.64228,     0.64169,      0.6409,     0.64011,      0.6392,     0.63846,     0.63777,     0.63715,\n",
      "            0.63642,     0.63547,     0.63501,     0.63432,     0.63346,     0.63267,     0.63208,     0.63149,     0.63076,      0.6302,     0.62958,     0.62888,     0.62823,     0.62748,     0.62694,     0.62622,     0.62559,       0.625,     0.62424,     0.62368,     0.62289,     0.62247,     0.62158,\n",
      "            0.62088,     0.62025,     0.61963,     0.61871,     0.61805,     0.61763,     0.61674,     0.61617,     0.61578,     0.61522,     0.61474,     0.61407,     0.61372,     0.61315,     0.61252,     0.61201,     0.61123,     0.61055,     0.60999,     0.60933,     0.60867,     0.60801,     0.60716,\n",
      "             0.6067,     0.60627,     0.60574,     0.60508,     0.60465,     0.60396,     0.60334,     0.60268,     0.60205,     0.60096,     0.60044,     0.59955,     0.59893,     0.59824,     0.59761,     0.59695,     0.59642,     0.59596,     0.59557,     0.59511,     0.59461,     0.59405,     0.59363,\n",
      "             0.5931,     0.59257,     0.59208,     0.59155,     0.59083,     0.59047,     0.59001,     0.58968,     0.58912,     0.58862,     0.58813,     0.58754,     0.58703,     0.58642,     0.58596,     0.58554,     0.58507,     0.58457,     0.58395,     0.58342,     0.58276,     0.58187,     0.58108,\n",
      "            0.58052,      0.5801,      0.5796,     0.57907,     0.57848,     0.57799,     0.57736,      0.5768,     0.57631,     0.57565,     0.57496,     0.57443,     0.57407,     0.57371,     0.57312,     0.57246,     0.57197,     0.57151,     0.57103,     0.57068,     0.57029,     0.56986,     0.56936,\n",
      "            0.56887,     0.56831,      0.5676,     0.56706,     0.56657,      0.5661,     0.56568,     0.56522,     0.56449,     0.56403,     0.56341,     0.56298,     0.56245,     0.56186,     0.56136,     0.56104,     0.56071,     0.56031,     0.55989,     0.55919,      0.5586,     0.55803,     0.55764,\n",
      "            0.55695,     0.55666,     0.55605,      0.5555,     0.55524,     0.55475,     0.55421,     0.55336,      0.5528,     0.55228,     0.55185,     0.55146,     0.55109,     0.55048,     0.54994,     0.54948,     0.54894,     0.54841,     0.54787,     0.54747,     0.54688,     0.54633,     0.54602,\n",
      "            0.54556,     0.54487,     0.54428,     0.54395,     0.54349,      0.5429,     0.54247,     0.54202,     0.54141,     0.54092,     0.54066,     0.54014,     0.53967,     0.53931,     0.53865,     0.53819,     0.53776,     0.53735,     0.53707,     0.53674,     0.53621,     0.53578,      0.5353,\n",
      "            0.53496,      0.5346,     0.53417,     0.53378,     0.53335,      0.5329,     0.53249,     0.53208,     0.53155,     0.53114,      0.5308,     0.53036,     0.52998,     0.52979,      0.5292,     0.52904,     0.52818,     0.52761,     0.52716,     0.52661,     0.52618,     0.52568,     0.52523,\n",
      "            0.52478,     0.52443,     0.52407,     0.52359,     0.52301,     0.52235,      0.5217,      0.5213,     0.52067,     0.52012,     0.51982,     0.51931,      0.5187,      0.5183,     0.51785,     0.51732,     0.51686,      0.5162,     0.51556,     0.51498,     0.51449,     0.51412,      0.5136,\n",
      "            0.51317,     0.51284,     0.51232,     0.51182,     0.51126,     0.51085,     0.51026,     0.50971,     0.50924,     0.50872,     0.50843,     0.50807,     0.50764,     0.50718,      0.5066,     0.50616,     0.50553,     0.50514,     0.50489,     0.50442,     0.50385,     0.50349,     0.50323,\n",
      "            0.50292,      0.5025,     0.50214,     0.50169,     0.50128,     0.50072,     0.50029,     0.49984,     0.49934,       0.499,     0.49867,     0.49806,     0.49747,     0.49684,     0.49631,     0.49574,     0.49529,     0.49493,     0.49447,     0.49414,     0.49361,     0.49325,     0.49264,\n",
      "            0.49216,     0.49157,      0.4912,     0.49083,     0.49032,     0.49003,     0.48956,     0.48907,     0.48858,     0.48798,     0.48745,     0.48714,     0.48659,     0.48614,     0.48551,     0.48486,     0.48414,     0.48376,     0.48326,     0.48278,     0.48264,     0.48225,     0.48186,\n",
      "            0.48122,     0.48046,     0.47995,     0.47952,     0.47911,     0.47863,     0.47817,     0.47774,     0.47717,     0.47652,     0.47605,     0.47574,     0.47522,     0.47465,     0.47412,     0.47364,     0.47335,     0.47288,     0.47245,     0.47193,     0.47152,       0.471,     0.47069,\n",
      "            0.47023,     0.46963,     0.46905,     0.46853,     0.46811,     0.46761,     0.46724,      0.4666,     0.46596,     0.46547,     0.46507,     0.46471,     0.46425,     0.46384,     0.46347,      0.4631,     0.46263,     0.46211,     0.46163,     0.46131,     0.46099,      0.4606,      0.4602,\n",
      "            0.45974,     0.45918,     0.45859,     0.45823,     0.45784,     0.45717,     0.45634,     0.45585,     0.45524,     0.45483,      0.4545,     0.45421,     0.45372,     0.45315,     0.45253,      0.4522,     0.45161,     0.45115,     0.45073,     0.45005,      0.4495,     0.44908,     0.44856,\n",
      "            0.44823,     0.44801,     0.44757,     0.44695,     0.44637,     0.44588,     0.44533,     0.44483,     0.44421,     0.44351,     0.44315,     0.44275,     0.44219,     0.44186,     0.44125,     0.44076,     0.44018,     0.43954,     0.43923,     0.43857,     0.43827,     0.43786,     0.43738,\n",
      "              0.437,     0.43648,     0.43577,     0.43523,     0.43462,     0.43408,     0.43338,      0.4327,     0.43231,     0.43174,     0.43101,     0.43062,     0.43007,     0.42969,     0.42932,      0.4287,     0.42818,     0.42757,       0.427,     0.42652,     0.42596,      0.4255,     0.42497,\n",
      "            0.42436,      0.4238,     0.42316,     0.42274,     0.42235,     0.42194,     0.42152,      0.4211,     0.42048,     0.41983,     0.41934,     0.41889,     0.41826,      0.4178,     0.41722,     0.41658,     0.41606,     0.41536,     0.41494,     0.41412,     0.41357,     0.41287,     0.41226,\n",
      "            0.41172,     0.41109,     0.41048,     0.41009,      0.4096,     0.40889,      0.4086,     0.40799,     0.40758,     0.40703,      0.4063,     0.40554,      0.4052,     0.40466,     0.40395,     0.40338,     0.40273,     0.40226,     0.40177,      0.4013,     0.40092,     0.40048,     0.39976,\n",
      "            0.39933,     0.39877,      0.3983,     0.39757,     0.39688,     0.39628,     0.39594,      0.3954,      0.3948,      0.3938,      0.3931,     0.39271,     0.39197,     0.39153,     0.39097,     0.39046,      0.3898,     0.38912,     0.38876,     0.38804,     0.38751,     0.38686,     0.38636,\n",
      "            0.38574,     0.38536,     0.38485,     0.38442,     0.38411,     0.38355,       0.383,     0.38237,     0.38179,     0.38109,     0.38057,        0.38,     0.37944,     0.37908,     0.37844,       0.378,     0.37736,     0.37654,     0.37595,     0.37544,     0.37484,      0.3743,      0.3737,\n",
      "            0.37316,     0.37247,     0.37191,     0.37141,      0.3707,     0.37022,     0.36969,     0.36916,     0.36861,     0.36808,     0.36758,     0.36693,     0.36623,      0.3656,     0.36489,     0.36432,     0.36391,     0.36328,      0.3628,     0.36208,     0.36127,      0.3606,     0.36006,\n",
      "            0.35952,     0.35869,     0.35801,      0.3575,     0.35671,     0.35578,     0.35536,      0.3546,     0.35398,     0.35355,     0.35309,     0.35244,     0.35184,      0.3508,     0.35014,     0.34953,     0.34861,     0.34814,     0.34734,     0.34696,     0.34642,     0.34563,     0.34519,\n",
      "            0.34445,     0.34376,     0.34294,     0.34185,     0.34151,     0.34089,     0.34014,     0.33937,     0.33865,       0.338,     0.33736,     0.33698,     0.33635,     0.33579,     0.33504,      0.3343,     0.33373,     0.33298,     0.33222,     0.33135,     0.33076,     0.32977,     0.32926,\n",
      "            0.32861,     0.32796,     0.32772,     0.32694,     0.32641,     0.32586,     0.32524,     0.32449,      0.3239,      0.3231,     0.32264,     0.32178,     0.32135,     0.32081,     0.32026,     0.31979,      0.3192,     0.31847,      0.3176,     0.31659,     0.31617,      0.3154,     0.31433,\n",
      "            0.31388,     0.31295,     0.31235,     0.31159,     0.31076,     0.30985,     0.30922,     0.30833,     0.30753,     0.30687,     0.30619,     0.30535,     0.30442,     0.30366,     0.30287,     0.30175,     0.30115,     0.30033,     0.29963,     0.29889,     0.29817,     0.29716,     0.29627,\n",
      "            0.29544,      0.2946,     0.29375,     0.29282,     0.29171,      0.2908,     0.28966,      0.2889,     0.28788,     0.28692,     0.28601,     0.28509,     0.28436,     0.28336,     0.28246,      0.2815,      0.2807,     0.27959,     0.27883,     0.27808,       0.277,     0.27622,     0.27511,\n",
      "            0.27424,     0.27342,     0.27276,     0.27198,     0.27116,     0.27032,     0.26947,     0.26865,     0.26773,     0.26639,     0.26523,     0.26436,     0.26337,     0.26236,     0.26138,     0.26058,     0.25948,     0.25836,     0.25734,     0.25616,     0.25523,     0.25399,     0.25274,\n",
      "            0.25141,     0.25047,      0.2494,     0.24831,     0.24693,     0.24559,     0.24432,     0.24334,     0.24222,     0.24146,      0.2405,     0.23914,      0.2381,     0.23671,     0.23571,      0.2348,     0.23351,     0.23224,     0.23081,     0.22958,     0.22824,       0.227,     0.22569,\n",
      "            0.22409,     0.22272,     0.22145,     0.21974,     0.21842,     0.21716,     0.21572,     0.21426,     0.21312,     0.21125,     0.20982,     0.20849,     0.20734,     0.20572,     0.20424,     0.20251,     0.20055,     0.19936,     0.19787,     0.19625,     0.19436,      0.1926,     0.19067,\n",
      "            0.18886,     0.18702,     0.18502,     0.18356,     0.18149,      0.1794,     0.17738,     0.17548,      0.1735,     0.17165,     0.16967,     0.16803,     0.16576,     0.16395,     0.16156,     0.15948,     0.15736,     0.15562,     0.15316,     0.15134,     0.14919,     0.14688,     0.14506,\n",
      "            0.14249,     0.14011,     0.13774,     0.13497,     0.13282,     0.13035,     0.12784,     0.12503,     0.12235,     0.11976,     0.11753,     0.11495,     0.11315,     0.11064,     0.10812,     0.10596,     0.10343,     0.10068,    0.098663,    0.095972,    0.093797,    0.091154,    0.088792,\n",
      "           0.086534,    0.083896,    0.081714,    0.079169,    0.077027,    0.074009,    0.071626,    0.069359,    0.066813,    0.064879,    0.062679,    0.060346,    0.057893,    0.055918,    0.053728,    0.051515,    0.049831,    0.047784,    0.045166,    0.042788,    0.040639,    0.038777,    0.037048,\n",
      "           0.035545,    0.033971,     0.03257,    0.031181,    0.030049,    0.028638,    0.027392,    0.025859,    0.024317,    0.023018,    0.021818,    0.020532,    0.019348,    0.018123,    0.017235,    0.016442,    0.015301,    0.014359,    0.013553,    0.012865,    0.012203,    0.011384,    0.010619,\n",
      "          0.0097799,   0.0092976,   0.0086609,   0.0082077,   0.0077615,   0.0072442,   0.0068729,   0.0062058,   0.0058654,    0.005637,   0.0053549,   0.0051447,   0.0048875,   0.0045454,   0.0041491,    0.003814,   0.0033577,    0.003172,    0.003068,   0.0028165,   0.0026271,   0.0025363,   0.0023121,\n",
      "          0.0021942,   0.0019134,   0.0017452,   0.0015641,   0.0014954,   0.0014303,   0.0013446,   0.0012853,   0.0012261,   0.0011751,   0.0011432,   0.0010278,  0.00090047,  0.00082552,  0.00073206,   0.0007058,   0.0006476,  0.00058869,  0.00051084,  0.00044655,    0.000356,  0.00033175,  0.00030592,\n",
      "         0.00027593,  0.00024822,  0.00021841,  0.00017721,  0.00015566,  0.00014256,   0.0001299,  0.00011938,  0.00010886,  9.8197e-05,  8.4112e-05,  7.0028e-05,  6.2992e-05,  5.8938e-05,  5.4884e-05,  5.0829e-05,  4.6775e-05,  4.2721e-05,  3.8666e-05,  3.4612e-05,           0,           0,           0,\n",
      "                  0,           0,           0,           0,           0,           0,           0,           0,           0,           0,           0,           0,           0,           0,           0,           0,           0,           0,           0,           0,           0,           0,           0,\n",
      "                  0,           0,           0,           0,           0,           0,           0,           0,           0,           0,           0,           0,           0,           0,           0,           0,           0,           0,           0,           0,           0,           0,           0,\n",
      "                  0,           0,           0,           0,           0,           0,           0,           0,           0,           0,           0]]), 'Confidence', 'Recall']]\n",
      "fitness: np.float64(0.3693269194952188)\n",
      "keys: ['metrics/precision(B)', 'metrics/recall(B)', 'metrics/mAP50(B)', 'metrics/mAP50-95(B)']\n",
      "maps: array([    0.34015])\n",
      "names: {0: 'face'}\n",
      "nt_per_class: array([30376])\n",
      "nt_per_image: array([2575])\n",
      "results_dict: {'metrics/precision(B)': np.float64(0.818746049215629), 'metrics/recall(B)': np.float64(0.5442783776665788), 'metrics/mAP50(B)': np.float64(0.6318957174841219), 'metrics/mAP50-95(B)': np.float64(0.3401526086075629), 'fitness': np.float64(0.3693269194952188)}\n",
      "save_dir: PosixPath('runs/detect/train2')\n",
      "speed: {'preprocess': 0.20580628183242822, 'inference': 3.203165281834315, 'loss': 0.0006802655243857472, 'postprocess': 0.840890202644626}\n",
      "stats: {'tp': [], 'conf': [], 'pred_cls': [], 'target_cls': [], 'target_img': []}\n",
      "task: 'detect'\n"
     ]
    }
   ],
   "source": [
    "# Evaluate the model on the validation set\n",
    "results = model.val(data=train_data)\n",
    "\n",
    "# Print evaluation results\n",
    "print(f\"Evaluation results: {results}\")\n"
   ]
  },
  {
   "cell_type": "code",
   "execution_count": 26,
   "id": "a24d6e1b",
   "metadata": {},
   "outputs": [],
   "source": [
    "# Save the trained model weights\n",
    "model.save(\"yolov8_face_detector.pt\")\n"
   ]
  }
 ],
 "metadata": {
  "kernelspec": {
   "display_name": "yolo",
   "language": "python",
   "name": "python3"
  },
  "language_info": {
   "codemirror_mode": {
    "name": "ipython",
    "version": 3
   },
   "file_extension": ".py",
   "mimetype": "text/x-python",
   "name": "python",
   "nbconvert_exporter": "python",
   "pygments_lexer": "ipython3",
   "version": "3.12.3"
  }
 },
 "nbformat": 4,
 "nbformat_minor": 5
}
